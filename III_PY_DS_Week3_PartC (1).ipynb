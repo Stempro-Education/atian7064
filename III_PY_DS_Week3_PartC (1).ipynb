{
 "cells": [
  {
   "cell_type": "markdown",
   "metadata": {},
   "source": [
    "<font size=6 bold=true>Dec 21 -- Part C\n",
    "<br><br>Data Structure</font>\n",
    "\n",
    "<font size=5 color='Olive'>For the first 5 lessons, DS will be combined with Python due to insufficiencies of Concepts</font>"
   ]
  },
  {
   "cell_type": "code",
   "execution_count": 2,
   "metadata": {
    "ExecuteTime": {
     "end_time": "2019-12-22T05:27:41.294420Z",
     "start_time": "2019-12-22T05:27:40.477399Z"
    }
   },
   "outputs": [],
   "source": [
    "import re\n",
    "import sys\n",
    "import os\n",
    "from os import path\n",
    "from datetime import datetime"
   ]
  },
  {
   "cell_type": "markdown",
   "metadata": {},
   "source": [
    "# Data types and functions. We were there. "
   ]
  },
  {
   "cell_type": "markdown",
   "metadata": {},
   "source": [
    "Numbers<br>\n",
    "String<br>\n",
    "List<br>\n",
    "Tuple<br>\n",
    "Set<br>\n",
    "Dictionary"
   ]
  },
  {
   "cell_type": "markdown",
   "metadata": {},
   "source": [
    "<br><font size=5>Functions Revisit</font>"
   ]
  },
  {
   "cell_type": "code",
   "execution_count": 3,
   "metadata": {
    "ExecuteTime": {
     "end_time": "2019-12-22T15:19:50.731585Z",
     "start_time": "2019-12-22T15:19:50.725580Z"
    }
   },
   "outputs": [],
   "source": [
    "#1: \n",
    "import os\n",
    "from datetime import datetime\n",
    "\n",
    "def generate_defaultfilename():\n",
    "    folder=os.getcwd()\n",
    "    filename=datetime.now().strftime(\"%b\")+'_'+datetime.now().strftime(\"%m_%d_%Y_%H_%M_%S\")+'.csv' \n",
    "    return path.join(folder, filename) \n",
    "\n",
    "#generate_defaultfilename()   "
   ]
  },
  {
   "cell_type": "code",
   "execution_count": 2,
   "metadata": {
    "ExecuteTime": {
     "end_time": "2019-12-22T15:20:27.990990Z",
     "start_time": "2019-12-22T15:20:27.984988Z"
    }
   },
   "outputs": [],
   "source": [
    "# 2\n",
    "def read_oneurl(url):  \n",
    "    response=requests.get(url)  \n",
    "    if response.status_code==200: \n",
    "        return get_pagetext(response)\n",
    "    else: \n",
    "        return [[None, None, None, None]]"
   ]
  },
  {
   "cell_type": "code",
   "execution_count": 22,
   "metadata": {
    "ExecuteTime": {
     "end_time": "2019-12-22T15:41:35.570710Z",
     "start_time": "2019-12-22T15:41:35.557698Z"
    }
   },
   "outputs": [
    {
     "data": {
      "text/html": [
       "<div>\n",
       "<style scoped>\n",
       "    .dataframe tbody tr th:only-of-type {\n",
       "        vertical-align: middle;\n",
       "    }\n",
       "\n",
       "    .dataframe tbody tr th {\n",
       "        vertical-align: top;\n",
       "    }\n",
       "\n",
       "    .dataframe thead th {\n",
       "        text-align: right;\n",
       "    }\n",
       "</style>\n",
       "<table border=\"1\" class=\"dataframe\">\n",
       "  <thead>\n",
       "    <tr style=\"text-align: right;\">\n",
       "      <th></th>\n",
       "      <th>InstitutionName</th>\n",
       "      <th>UnitID</th>\n",
       "      <th>ParentID</th>\n",
       "      <th>OPEID</th>\n",
       "      <th>InstitutionType</th>\n",
       "      <th>Address</th>\n",
       "      <th>City</th>\n",
       "      <th>State</th>\n",
       "      <th>HasHistory</th>\n",
       "    </tr>\n",
       "  </thead>\n",
       "  <tbody>\n",
       "    <tr>\n",
       "      <td>39</td>\n",
       "      <td>Central Washington University</td>\n",
       "      <td>148496</td>\n",
       "      <td>0</td>\n",
       "      <td>377100</td>\n",
       "      <td>Institution</td>\n",
       "      <td>400 East University Way</td>\n",
       "      <td>Ellensburg</td>\n",
       "      <td>WA</td>\n",
       "      <td>False</td>\n",
       "    </tr>\n",
       "    <tr>\n",
       "      <td>63</td>\n",
       "      <td>Eastern Washington University</td>\n",
       "      <td>148593</td>\n",
       "      <td>0</td>\n",
       "      <td>377500</td>\n",
       "      <td>Institution</td>\n",
       "      <td>526 5th Street</td>\n",
       "      <td>Cheney</td>\n",
       "      <td>WA</td>\n",
       "      <td>False</td>\n",
       "    </tr>\n",
       "    <tr>\n",
       "      <td>115</td>\n",
       "      <td>Kaiser Permanente Washington Residency in Prim...</td>\n",
       "      <td>216782</td>\n",
       "      <td>0</td>\n",
       "      <td>NaN</td>\n",
       "      <td>Site</td>\n",
       "      <td>5821 S. Sprague Court</td>\n",
       "      <td>Tacoma</td>\n",
       "      <td>WA</td>\n",
       "      <td>True</td>\n",
       "    </tr>\n",
       "    <tr>\n",
       "      <td>120</td>\n",
       "      <td>Lake Washington Institute of Technology</td>\n",
       "      <td>148803</td>\n",
       "      <td>0</td>\n",
       "      <td>537300</td>\n",
       "      <td>Institution</td>\n",
       "      <td>11605 132nd Avenue NE</td>\n",
       "      <td>Kirkland</td>\n",
       "      <td>WA</td>\n",
       "      <td>True</td>\n",
       "    </tr>\n",
       "    <tr>\n",
       "      <td>130</td>\n",
       "      <td>Montessori Center for Teacher Education - Wash...</td>\n",
       "      <td>216436</td>\n",
       "      <td>0</td>\n",
       "      <td>NaN</td>\n",
       "      <td>Institution</td>\n",
       "      <td>10723 NE 38th Place</td>\n",
       "      <td>Bellevue</td>\n",
       "      <td>WA</td>\n",
       "      <td>False</td>\n",
       "    </tr>\n",
       "    <tr>\n",
       "      <td>136</td>\n",
       "      <td>Montessori Schools of Washington</td>\n",
       "      <td>165699</td>\n",
       "      <td>0</td>\n",
       "      <td>NaN</td>\n",
       "      <td>Institution</td>\n",
       "      <td>1804 Puget Dr.</td>\n",
       "      <td>Everett</td>\n",
       "      <td>WA</td>\n",
       "      <td>False</td>\n",
       "    </tr>\n",
       "    <tr>\n",
       "      <td>138</td>\n",
       "      <td>Montessori Teacher Preparation of Washington</td>\n",
       "      <td>178970</td>\n",
       "      <td>0</td>\n",
       "      <td>NaN</td>\n",
       "      <td>Institution</td>\n",
       "      <td>318 3rd Avenue South</td>\n",
       "      <td>Kent</td>\n",
       "      <td>WA</td>\n",
       "      <td>False</td>\n",
       "    </tr>\n",
       "    <tr>\n",
       "      <td>220</td>\n",
       "      <td>University of Washington</td>\n",
       "      <td>149143</td>\n",
       "      <td>0</td>\n",
       "      <td>379800</td>\n",
       "      <td>Institution</td>\n",
       "      <td>P.O. Box 351230</td>\n",
       "      <td>Seattle</td>\n",
       "      <td>WA</td>\n",
       "      <td>False</td>\n",
       "    </tr>\n",
       "    <tr>\n",
       "      <td>228</td>\n",
       "      <td>Washington State University</td>\n",
       "      <td>149134</td>\n",
       "      <td>0</td>\n",
       "      <td>380000</td>\n",
       "      <td>Institution</td>\n",
       "      <td>French Administration Building</td>\n",
       "      <td>Pullman</td>\n",
       "      <td>WA</td>\n",
       "      <td>False</td>\n",
       "    </tr>\n",
       "    <tr>\n",
       "      <td>229</td>\n",
       "      <td>Washington State University-Spokane</td>\n",
       "      <td>238829</td>\n",
       "      <td>0</td>\n",
       "      <td>NaN</td>\n",
       "      <td>Site</td>\n",
       "      <td>310 N. Riverpoint Blvd_ P.O Box 1495</td>\n",
       "      <td>Spokane</td>\n",
       "      <td>WA</td>\n",
       "      <td>False</td>\n",
       "    </tr>\n",
       "    <tr>\n",
       "      <td>233</td>\n",
       "      <td>Western Washington University</td>\n",
       "      <td>149170</td>\n",
       "      <td>0</td>\n",
       "      <td>380200</td>\n",
       "      <td>Institution</td>\n",
       "      <td>516 High St</td>\n",
       "      <td>Bellingham</td>\n",
       "      <td>WA</td>\n",
       "      <td>False</td>\n",
       "    </tr>\n",
       "  </tbody>\n",
       "</table>\n",
       "</div>"
      ],
      "text/plain": [
       "                                       InstitutionName  UnitID  ParentID  \\\n",
       "39                       Central Washington University  148496         0   \n",
       "63                       Eastern Washington University  148593         0   \n",
       "115  Kaiser Permanente Washington Residency in Prim...  216782         0   \n",
       "120            Lake Washington Institute of Technology  148803         0   \n",
       "130  Montessori Center for Teacher Education - Wash...  216436         0   \n",
       "136                   Montessori Schools of Washington  165699         0   \n",
       "138       Montessori Teacher Preparation of Washington  178970         0   \n",
       "220                           University of Washington  149143         0   \n",
       "228                        Washington State University  149134         0   \n",
       "229                Washington State University-Spokane  238829         0   \n",
       "233                      Western Washington University  149170         0   \n",
       "\n",
       "      OPEID InstitutionType                               Address        City  \\\n",
       "39   377100     Institution               400 East University Way  Ellensburg   \n",
       "63   377500     Institution                        526 5th Street      Cheney   \n",
       "115     NaN            Site                 5821 S. Sprague Court      Tacoma   \n",
       "120  537300     Institution                 11605 132nd Avenue NE    Kirkland   \n",
       "130     NaN     Institution                   10723 NE 38th Place    Bellevue   \n",
       "136     NaN     Institution                        1804 Puget Dr.     Everett   \n",
       "138     NaN     Institution                  318 3rd Avenue South        Kent   \n",
       "220  379800     Institution                       P.O. Box 351230     Seattle   \n",
       "228  380000     Institution        French Administration Building     Pullman   \n",
       "229     NaN            Site  310 N. Riverpoint Blvd_ P.O Box 1495     Spokane   \n",
       "233  380200     Institution                           516 High St  Bellingham   \n",
       "\n",
       "    State  HasHistory  \n",
       "39     WA       False  \n",
       "63     WA       False  \n",
       "115    WA        True  \n",
       "120    WA        True  \n",
       "130    WA       False  \n",
       "136    WA       False  \n",
       "138    WA       False  \n",
       "220    WA       False  \n",
       "228    WA       False  \n",
       "229    WA       False  \n",
       "233    WA       False  "
      ]
     },
     "execution_count": 22,
     "metadata": {},
     "output_type": "execute_result"
    }
   ],
   "source": [
    "#3:  \n",
    "import pandas as pd\n",
    "df_coll=pd.read_csv('C:\\\\Users\\\\Kentt\\\\stempro\\\\hw\\\\atian7064\\\\WAColleges.csv')\n",
    " \n",
    "def get_universitylist(df_coll, namelike, state='WA'):\n",
    "    return df_coll[(df_coll['InstitutionName'].str.contains(namelike)) & (df_coll['State']==state)]\n",
    "\n",
    "get_universitylist(df_coll, namelike='Wash')"
   ]
  },
  {
   "cell_type": "code",
   "execution_count": 27,
   "metadata": {
    "ExecuteTime": {
     "end_time": "2019-12-22T15:45:09.936929Z",
     "start_time": "2019-12-22T15:45:09.931936Z"
    }
   },
   "outputs": [
    {
     "data": {
      "text/plain": [
       "4.0"
      ]
     },
     "execution_count": 27,
     "metadata": {},
     "output_type": "execute_result"
    }
   ],
   "source": [
    "#4\n",
    "def avg_gpa(*reportcards):\n",
    "    n=len(reportcards)\n",
    "    total=0.0\n",
    "    for sub in reportcards:\n",
    "        total+=sub\n",
    "    return total/n if n>0 else 1\n",
    "\n",
    "avg_gpa(4,4,4,2.7,3.3,4,5,5)\n",
    "\n"
   ]
  },
  {
   "cell_type": "code",
   "execution_count": 9,
   "metadata": {
    "ExecuteTime": {
     "end_time": "2019-12-22T15:50:01.130980Z",
     "start_time": "2019-12-22T15:50:01.126978Z"
    }
   },
   "outputs": [
    {
     "ename": "ValueError",
     "evalue": "not enough values to unpack (expected 3, got 2)",
     "output_type": "error",
     "traceback": [
      "\u001b[1;31m---------------------------------------------------------------------------\u001b[0m",
      "\u001b[1;31mValueError\u001b[0m                                Traceback (most recent call last)",
      "\u001b[1;32m<ipython-input-9-cbee36e1cca1>\u001b[0m in \u001b[0;36m<module>\u001b[1;34m\u001b[0m\n\u001b[0;32m     10\u001b[0m     \u001b[1;32mreturn\u001b[0m \u001b[0mtotal\u001b[0m\u001b[1;33m/\u001b[0m\u001b[0mn\u001b[0m\u001b[1;33m,\u001b[0m \u001b[0mn\u001b[0m\u001b[1;33m\u001b[0m\u001b[1;33m\u001b[0m\u001b[0m\n\u001b[0;32m     11\u001b[0m \u001b[1;33m\u001b[0m\u001b[0m\n\u001b[1;32m---> 12\u001b[1;33m \u001b[0ma\u001b[0m\u001b[1;33m,\u001b[0m\u001b[0mb\u001b[0m\u001b[1;33m,\u001b[0m\u001b[0mc\u001b[0m \u001b[1;33m=\u001b[0m \u001b[0mperson_gpa\u001b[0m\u001b[1;33m(\u001b[0m\u001b[0mAngus\u001b[0m\u001b[1;33m=\u001b[0m\u001b[1;36m2999\u001b[0m\u001b[1;33m,\u001b[0m \u001b[0mAngus2\u001b[0m \u001b[1;33m=\u001b[0m \u001b[1;36m3500\u001b[0m\u001b[1;33m,\u001b[0m \u001b[0mAngus3\u001b[0m \u001b[1;33m=\u001b[0m \u001b[1;36m3210\u001b[0m\u001b[1;33m)\u001b[0m\u001b[1;33m\u001b[0m\u001b[1;33m\u001b[0m\u001b[0m\n\u001b[0m",
      "\u001b[1;31mValueError\u001b[0m: not enough values to unpack (expected 3, got 2)"
     ]
    }
   ],
   "source": [
    "#5\n",
    "def person_gpa(**data): \n",
    "    total=0\n",
    "    n=len(data)\n",
    "    for key, value in data.items():\n",
    "        total+=value\n",
    "        #print(\"person: {}: avg calories: {}\\n\".format(key,value))\n",
    "    #return ('{0:.4f}'.format(total/n), \"\\n total amount of people\" + total)\n",
    "\n",
    "    return total/n, n\n",
    "\n",
    "a,b,c = person_gpa(Angus=2999, Angus2 = 3500, Angus3 = 3210)\n"
   ]
  },
  {
   "cell_type": "code",
   "execution_count": 8,
   "metadata": {},
   "outputs": [
    {
     "data": {
      "text/plain": [
       "(3236.3333333333335, 3)"
      ]
     },
     "execution_count": 8,
     "metadata": {},
     "output_type": "execute_result"
    }
   ],
   "source": [
    "a,b"
   ]
  },
  {
   "cell_type": "code",
   "execution_count": 45,
   "metadata": {},
   "outputs": [
    {
     "data": {
      "text/plain": [
       "<function numpy.var(a, axis=None, dtype=None, out=None, ddof=0, keepdims=<no value>)>"
      ]
     },
     "execution_count": 45,
     "metadata": {},
     "output_type": "execute_result"
    }
   ],
   "source": [
    "import numpy as np\n",
    "num = [1,2,3,4,5,6]\n",
    "sum(num)\n",
    "np.var"
   ]
  },
  {
   "cell_type": "markdown",
   "metadata": {},
   "source": [
    "# Object Oriented Programming: Define Classes"
   ]
  },
  {
   "cell_type": "markdown",
   "metadata": {},
   "source": []
  },
  {
   "cell_type": "code",
   "execution_count": 46,
   "metadata": {
    "ExecuteTime": {
     "end_time": "2019-12-23T17:49:52.020337Z",
     "start_time": "2019-12-23T17:49:52.010342Z"
    }
   },
   "outputs": [
    {
     "name": "stdout",
     "output_type": "stream",
     "text": [
      "College: UW avg gpa requirement is 3.7\n"
     ]
    },
    {
     "data": {
      "text/plain": [
       "3.7"
      ]
     },
     "execution_count": 46,
     "metadata": {},
     "output_type": "execute_result"
    }
   ],
   "source": [
    "class Describe_College(object):    \n",
    "    def __init__(self,col_name, avg_gpa, avg_act, avg_sat, addr): \n",
    "        self.col_name=col_name\n",
    "        self.avg_gpa=avg_gpa\n",
    "        self.avg_act=avg_act\n",
    "        self.avg_sat=avg_sat\n",
    "        self.addr=addr \n",
    "    def basic_info(self):\n",
    "        print(\"College: {} avg gpa requirement is {}\".format(self.col_name,self.avg_gpa))\n",
    "\n",
    "    def get_avggpa(self):\n",
    "        return self.avg_gpa\n",
    "\n",
    "c=Describe_College('UW', 3.7, 35, 1550, 'WA')\n",
    "c.basic_info()\n",
    "c.get_avggpa()"
   ]
  },
  {
   "cell_type": "code",
   "execution_count": 3,
   "metadata": {
    "ExecuteTime": {
     "end_time": "2019-12-23T17:35:19.331618Z",
     "start_time": "2019-12-23T17:35:19.327659Z"
    }
   },
   "outputs": [],
   "source": [
    "class CollegeCrawl(object):\n",
    "    gap_Insecond=5\n",
    "    max_Pages=150\n",
    "    allUrls=[]\n",
    "    visitedUrls=[]\n",
    "    rejectedUrls=[]\n",
    "    n_allUrls=0\n",
    "    n_sitedUrls=0\n",
    "    n_rejectedUrls=0\n",
    "    \n",
    "    \"\"\"\n",
    "        collegename: name\n",
    "        rooturl: www.university.edu\n",
    "        prioritykeywords: ['apply','adimission'...] etc. if None then everth page \n",
    "        respectrobottxt: True\n",
    "    \"\"\"\n",
    "    def __init__(self,_collegename, _rooturl, _prioritykeywords, _respectrobottxt=True):\n",
    "        self.college=_collegename\n",
    "        self.rootUrl=_rooturl\n",
    "        self.priorityKeywords=_prioritykeywords\n",
    "        self.respectRobottext=_respectrobottxt\n",
    "\n",
    "    \"\"\"\n",
    "        get all urls starting from rootUrl\n",
    "    \"\"\"\n",
    "    def GetAllUrls(self):\n",
    "        pass\n",
    "    \n",
    "    \"\"\"\n",
    "        read one page\n",
    "    \"\"\"\n",
    "    def Read_OneUrl(self, unvisited_url):\n",
    "        resonse = requests.get(self.unvisited_url) \n",
    "        soup = BeautifulSoup(resonse.content, \"html.parser\")\n",
    "        in_the_page=set([tag.name for tag in soup.find_all()]) \n",
    " \n",
    "        go_throug=in_the_page.intersection(need_tag_list) \n",
    "   \n",
    "        for tag in go_throug:   \n",
    "            sub_soups=soup.find_all(tag) \n",
    "            for one_by_one in sub_soups: \n",
    "                data1=one_by_one.findAll(text=True)\n",
    "                r1=filter(visible, data1)\n",
    "                textcontent=[i for i in r1 if len(i)>2]   \n",
    "                print(textcontent)\n",
    "        \n",
    "    \n",
    "        \n",
    "    \"\"\"\n",
    "        Save One Page\n",
    "    \"\"\"\n",
    "    def Save_OnePage(self, format='csv'):\n",
    "        pass\n",
    "    \n",
    "    \"\"\"\n",
    "        Save summaries\n",
    "    \"\"\"\n",
    "    def Save_Summaries(self):\n",
    "        pass\n",
    "     "
   ]
  },
  {
   "cell_type": "code",
   "execution_count": 22,
   "metadata": {
    "ExecuteTime": {
     "end_time": "2019-12-23T17:50:05.327563Z",
     "start_time": "2019-12-23T17:50:05.322599Z"
    }
   },
   "outputs": [
    {
     "data": {
      "text/plain": [
       "True"
      ]
     },
     "execution_count": 22,
     "metadata": {},
     "output_type": "execute_result"
    }
   ],
   "source": [
    "#isinstance(c,Describe_College)\n",
    "#id()"
   ]
  },
  {
   "cell_type": "code",
   "execution_count": 4,
   "metadata": {},
   "outputs": [
    {
     "data": {
      "text/plain": [
       "tuple"
      ]
     },
     "execution_count": 4,
     "metadata": {},
     "output_type": "execute_result"
    }
   ],
   "source": [
    "t = (4,3,2)\n",
    "type(t)"
   ]
  },
  {
   "cell_type": "code",
   "execution_count": 5,
   "metadata": {},
   "outputs": [
    {
     "data": {
      "text/plain": [
       "2330967827120"
      ]
     },
     "execution_count": 5,
     "metadata": {},
     "output_type": "execute_result"
    }
   ],
   "source": [
    "name = \"Lela\"\n",
    "id(name)"
   ]
  },
  {
   "cell_type": "code",
   "execution_count": 6,
   "metadata": {},
   "outputs": [
    {
     "data": {
      "text/plain": [
       "2331011271664"
      ]
     },
     "execution_count": 6,
     "metadata": {},
     "output_type": "execute_result"
    }
   ],
   "source": [
    "name = 'you'\n",
    "id(name)"
   ]
  },
  {
   "cell_type": "code",
   "execution_count": 21,
   "metadata": {},
   "outputs": [
    {
     "name": "stdout",
     "output_type": "stream",
     "text": [
      "2331011270472\n"
     ]
    }
   ],
   "source": [
    "u = [3,1,3]\n",
    "id(u)\n",
    "u.append(6)\n",
    "print(id(u))"
   ]
  },
  {
   "cell_type": "code",
   "execution_count": 1,
   "metadata": {},
   "outputs": [
    {
     "ename": "SyntaxError",
     "evalue": "invalid syntax (<ipython-input-1-1bc372c253d0>, line 1)",
     "output_type": "error",
     "traceback": [
      "\u001b[1;36m  File \u001b[1;32m\"<ipython-input-1-1bc372c253d0>\"\u001b[1;36m, line \u001b[1;32m1\u001b[0m\n\u001b[1;33m    def eatForDinner(**data)\u001b[0m\n\u001b[1;37m                            ^\u001b[0m\n\u001b[1;31mSyntaxError\u001b[0m\u001b[1;31m:\u001b[0m invalid syntax\n"
     ]
    }
   ],
   "source": [
    "def eatForDinner(**data)\n",
    "    names = input()\n",
    "    \n",
    "    "
   ]
  },
  {
   "cell_type": "code",
   "execution_count": 1,
   "metadata": {},
   "outputs": [],
   "source": [
    "from IPython.core.debugger import set_trace"
   ]
  },
  {
   "cell_type": "code",
   "execution_count": 4,
   "metadata": {},
   "outputs": [
    {
     "name": "stdout",
     "output_type": "stream",
     "text": [
      "Help on _Helper in module _sitebuiltins object:\n",
      "\n",
      "class _Helper(builtins.object)\n",
      " |  Define the builtin 'help'.\n",
      " |  \n",
      " |  This is a wrapper around pydoc.help that provides a helpful message\n",
      " |  when 'help' is typed at the Python interactive prompt.\n",
      " |  \n",
      " |  Calling help() at the Python prompt starts an interactive help session.\n",
      " |  Calling help(thing) prints help for the python object 'thing'.\n",
      " |  \n",
      " |  Methods defined here:\n",
      " |  \n",
      " |  __call__(self, *args, **kwds)\n",
      " |      Call self as a function.\n",
      " |  \n",
      " |  __repr__(self)\n",
      " |      Return repr(self).\n",
      " |  \n",
      " |  ----------------------------------------------------------------------\n",
      " |  Data descriptors defined here:\n",
      " |  \n",
      " |  __dict__\n",
      " |      dictionary for instance variables (if defined)\n",
      " |  \n",
      " |  __weakref__\n",
      " |      list of weak references to the object (if defined)\n",
      "\n"
     ]
    }
   ],
   "source": [
    "help(help)"
   ]
  },
  {
   "cell_type": "code",
   "execution_count": null,
   "metadata": {},
   "outputs": [],
   "source": []
  }
 ],
 "metadata": {
  "kernelspec": {
   "display_name": "Python 3",
   "language": "python",
   "name": "python3"
  },
  "language_info": {
   "codemirror_mode": {
    "name": "ipython",
    "version": 3
   },
   "file_extension": ".py",
   "mimetype": "text/x-python",
   "name": "python",
   "nbconvert_exporter": "python",
   "pygments_lexer": "ipython3",
   "version": "3.7.4"
  },
  "toc": {
   "base_numbering": 1,
   "nav_menu": {},
   "number_sections": true,
   "sideBar": true,
   "skip_h1_title": false,
   "title_cell": "Table of Contents",
   "title_sidebar": "Contents",
   "toc_cell": false,
   "toc_position": {
    "height": "calc(100% - 180px)",
    "left": "10px",
    "top": "150px",
    "width": "165px"
   },
   "toc_section_display": true,
   "toc_window_display": true
  }
 },
 "nbformat": 4,
 "nbformat_minor": 2
}
