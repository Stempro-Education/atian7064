{
 "cells": [
  {
   "cell_type": "markdown",
   "metadata": {},
   "source": [
    "<font size=6 bold=true>Dec 21 -- Part C\n",
    "<br><br>Data Structure</font>\n",
    "\n",
    "<font size=5 color='Olive'>For the first 5 lessons, DS will be combined with Python due to insufficiencies of Concepts</font>"
   ]
  },
  {
   "cell_type": "code",
   "execution_count": 1,
   "metadata": {
    "ExecuteTime": {
     "end_time": "2019-12-22T05:27:41.294420Z",
     "start_time": "2019-12-22T05:27:40.477399Z"
    }
   },
   "outputs": [],
   "source": [
    "import re\n",
    "import sys\n",
    "import os\n",
    "from os import path\n",
    "from datetime import datetime"
   ]
  },
  {
   "cell_type": "markdown",
   "metadata": {},
   "source": [
    "# Data types and functions. We were there. "
   ]
  },
  {
   "cell_type": "markdown",
   "metadata": {},
   "source": [
    "Numbers<br>\n",
    "String<br>\n",
    "List<br>\n",
    "Tuple<br>\n",
    "Set<br>\n",
    "Dictionary"
   ]
  },
  {
   "cell_type": "markdown",
   "metadata": {},
   "source": [
    "<br><font size=5>Functions Revisit</font>"
   ]
  },
  {
   "cell_type": "code",
   "execution_count": 1,
   "metadata": {
    "ExecuteTime": {
     "end_time": "2019-12-22T15:19:50.731585Z",
     "start_time": "2019-12-22T15:19:50.725580Z"
    }
   },
   "outputs": [],
   "source": [
    "#1: \n",
    "import os\n",
    "from datetime import datetime\n",
    "\n",
    "def generate_defaultfilename():\n",
    "    folder=os.getcwd()\n",
    "    filename=datetime.now().strftime(\"%b\")+'_'+datetime.now().strftime(\"%m_%d_%Y_%H_%M_%S\")+'.csv' \n",
    "    return path.join(folder, filename) \n",
    "\n",
    "#generate_defaultfilename()   "
   ]
  },
  {
   "cell_type": "code",
   "execution_count": 2,
   "metadata": {
    "ExecuteTime": {
     "end_time": "2019-12-22T15:20:27.990990Z",
     "start_time": "2019-12-22T15:20:27.984988Z"
    }
   },
   "outputs": [],
   "source": [
    "# 2\n",
    "def read_oneurl(url):  \n",
    "    response=requests.get(url)  \n",
    "    if response.status_code==200: \n",
    "        return get_pagetext(response)\n",
    "    else: \n",
    "        return [[None, None, None, None]]"
   ]
  },
  {
   "cell_type": "code",
   "execution_count": 2,
   "metadata": {
    "ExecuteTime": {
     "end_time": "2019-12-22T15:41:35.570710Z",
     "start_time": "2019-12-22T15:41:35.557698Z"
    }
   },
   "outputs": [
    {
     "data": {
      "text/html": [
       "<div>\n",
       "<style scoped>\n",
       "    .dataframe tbody tr th:only-of-type {\n",
       "        vertical-align: middle;\n",
       "    }\n",
       "\n",
       "    .dataframe tbody tr th {\n",
       "        vertical-align: top;\n",
       "    }\n",
       "\n",
       "    .dataframe thead th {\n",
       "        text-align: right;\n",
       "    }\n",
       "</style>\n",
       "<table border=\"1\" class=\"dataframe\">\n",
       "  <thead>\n",
       "    <tr style=\"text-align: right;\">\n",
       "      <th></th>\n",
       "      <th>InstitutionName</th>\n",
       "      <th>UnitID</th>\n",
       "      <th>ParentID</th>\n",
       "      <th>OPEID</th>\n",
       "      <th>InstitutionType</th>\n",
       "      <th>Address</th>\n",
       "      <th>City</th>\n",
       "      <th>State</th>\n",
       "      <th>HasHistory</th>\n",
       "    </tr>\n",
       "  </thead>\n",
       "  <tbody>\n",
       "    <tr>\n",
       "      <td>119</td>\n",
       "      <td>Kirkland Beauty School</td>\n",
       "      <td>179317</td>\n",
       "      <td>0</td>\n",
       "      <td>NaN</td>\n",
       "      <td>Institution</td>\n",
       "      <td>17311 140th Avenue N.E.</td>\n",
       "      <td>Woodinville</td>\n",
       "      <td>WA</td>\n",
       "      <td>False</td>\n",
       "    </tr>\n",
       "  </tbody>\n",
       "</table>\n",
       "</div>"
      ],
      "text/plain": [
       "            InstitutionName  UnitID  ParentID OPEID InstitutionType  \\\n",
       "119  Kirkland Beauty School  179317         0   NaN     Institution   \n",
       "\n",
       "                     Address         City State  HasHistory  \n",
       "119  17311 140th Avenue N.E.  Woodinville    WA       False  "
      ]
     },
     "execution_count": 2,
     "metadata": {},
     "output_type": "execute_result"
    }
   ],
   "source": [
    "#3:  \n",
    "import pandas as pd\n",
    "df_coll=pd.read_csv('C:\\\\Users\\\\Kentt\\\\stempro\\\\hw\\\\atian7064\\\\WAColleges.csv')\n",
    " \n",
    "def get_universitylist(df_coll, namelike, state='WA'):\n",
    "    return df_coll[(df_coll['InstitutionName'].str.contains(namelike)) & (df_coll['State']==state)]\n",
    "\n",
    "get_universitylist(df_coll, namelike='Kirk')"
   ]
  },
  {
   "cell_type": "code",
   "execution_count": 27,
   "metadata": {
    "ExecuteTime": {
     "end_time": "2019-12-22T15:45:09.936929Z",
     "start_time": "2019-12-22T15:45:09.931936Z"
    }
   },
   "outputs": [
    {
     "data": {
      "text/plain": [
       "4.0"
      ]
     },
     "execution_count": 27,
     "metadata": {},
     "output_type": "execute_result"
    }
   ],
   "source": [
    "#4\n",
    "def avg_gpa(*reportcards):\n",
    "    n=len(reportcards)\n",
    "    total=0.0\n",
    "    for sub in reportcards:\n",
    "        total+=sub\n",
    "    return total/n if n>0 else 1\n",
    "\n",
    "avg_gpa(4,4,4,2.7,3.3,4,5,5)\n",
    "\n"
   ]
  },
  {
   "cell_type": "code",
   "execution_count": 49,
   "metadata": {
    "ExecuteTime": {
     "end_time": "2019-12-22T15:50:01.130980Z",
     "start_time": "2019-12-22T15:50:01.126978Z"
    }
   },
   "outputs": [
    {
     "name": "stdout",
     "output_type": "stream",
     "text": [
      "person: Angus: avg gpa: 3.8\n",
      "\n",
      "person: Angus2: avg gpa: 3.8\n",
      "\n"
     ]
    },
    {
     "data": {
      "text/plain": [
       "'3.8000'"
      ]
     },
     "execution_count": 49,
     "metadata": {},
     "output_type": "execute_result"
    }
   ],
   "source": [
    "#5\n",
    "def person_gpa(**data): \n",
    "    total=0\n",
    "    n=len(data)\n",
    "    for key, value in data.items():\n",
    "        total+=value\n",
    "        print(\"person: {}: avg gpa: {}\\n\".format(key,value))\n",
    "    return ('{0:.4f}'.format(total/n))\n",
    "person_gpa(Angus=3.8, Angus2 = 3.8)\n"
   ]
  },
  {
   "cell_type": "markdown",
   "metadata": {},
   "source": [
    "# Object Oriented Programming: Define Classes"
   ]
  },
  {
   "cell_type": "markdown",
   "metadata": {},
   "source": []
  },
  {
   "cell_type": "code",
   "execution_count": 20,
   "metadata": {
    "ExecuteTime": {
     "end_time": "2019-12-23T17:49:52.020337Z",
     "start_time": "2019-12-23T17:49:52.010342Z"
    }
   },
   "outputs": [
    {
     "name": "stdout",
     "output_type": "stream",
     "text": [
      "College: Stanford avg gpa requirement is 3.0\n"
     ]
    },
    {
     "data": {
      "text/plain": [
       "3.0"
      ]
     },
     "execution_count": 20,
     "metadata": {},
     "output_type": "execute_result"
    }
   ],
   "source": [
    "class Describe_College(object):    \n",
    "    def __init__(self,col_name, avg_gpa, avg_act, avg_sat, addr): \n",
    "        self.col_name=col_name\n",
    "        self.avg_gpa=avg_gpa\n",
    "        self.avg_act=avg_act\n",
    "        self.avg_sat=avg_sat\n",
    "        self.addr=addr \n",
    "    def basic_info(self):\n",
    "        print(\"College: {} avg gpa requirement is {}\".format(self.col_name,self.avg_gpa))\n",
    "\n",
    "    def get_avggpa(self):\n",
    "        return self.avg_gpa\n",
    "\n",
    "c=Describe_College('Stanford', 3.0, 33.0, 1500, 'CA')\n",
    "c.basic_info()\n",
    "c.get_avggpa()"
   ]
  },
  {
   "cell_type": "code",
   "execution_count": 18,
   "metadata": {
    "ExecuteTime": {
     "end_time": "2019-12-23T17:35:19.331618Z",
     "start_time": "2019-12-23T17:35:19.327659Z"
    }
   },
   "outputs": [],
   "source": [
    "class CollegeCrawl(object):\n",
    "    gap_Insecond=5\n",
    "    max_Pages=150\n",
    "    allUrls=[]\n",
    "    visitedUrls=[]\n",
    "    rejectedUrls=[]\n",
    "    n_allUrls=0\n",
    "    n_sitedUrls=0\n",
    "    n_rejectedUrls=0\n",
    "    \n",
    "    \"\"\"\n",
    "        collegename: name\n",
    "        rooturl: www.university.edu\n",
    "        prioritykeywords: ['apply','adimission'...] etc. if None then everth page \n",
    "        respectrobottxt: True\n",
    "    \"\"\"\n",
    "    def __init__(self,_collegename, _rooturl, _prioritykeywords, _respectrobottxt=True):\n",
    "        self.college=_collegename\n",
    "        self.rootUrl=_rooturl\n",
    "        self.priorityKeywords=_prioritykeywords\n",
    "        self.respectRobottext=_respectrobottxt\n",
    "\n",
    "    \"\"\"\n",
    "        get all urls starting from rootUrl\n",
    "    \"\"\"\n",
    "    def GetAllUrls(self):\n",
    "        pass\n",
    "    \n",
    "    \"\"\"\n",
    "        read one page\n",
    "    \"\"\"\n",
    "    def Read_OneUrl(self, oneUrl):\n",
    "        pass\n",
    "    \n",
    "        \n",
    "    \"\"\"\n",
    "        Save One Page\n",
    "    \"\"\"\n",
    "    def Save_OnePage(self, format='csv'):\n",
    "        pass\n",
    "    \n",
    "    \"\"\"\n",
    "        Save summaries\n",
    "    \"\"\"\n",
    "    def Save_Summaries(self):\n",
    "        pass\n",
    "     "
   ]
  },
  {
   "cell_type": "code",
   "execution_count": 22,
   "metadata": {
    "ExecuteTime": {
     "end_time": "2019-12-23T17:50:05.327563Z",
     "start_time": "2019-12-23T17:50:05.322599Z"
    }
   },
   "outputs": [
    {
     "data": {
      "text/plain": [
       "True"
      ]
     },
     "execution_count": 22,
     "metadata": {},
     "output_type": "execute_result"
    }
   ],
   "source": [
    "#isinstance(c,Describe_College)\n",
    "#id()"
   ]
  },
  {
   "cell_type": "code",
   "execution_count": 4,
   "metadata": {},
   "outputs": [
    {
     "data": {
      "text/plain": [
       "tuple"
      ]
     },
     "execution_count": 4,
     "metadata": {},
     "output_type": "execute_result"
    }
   ],
   "source": [
    "t = (4,3,2)\n",
    "type(t)"
   ]
  },
  {
   "cell_type": "code",
   "execution_count": 5,
   "metadata": {},
   "outputs": [
    {
     "data": {
      "text/plain": [
       "2330967827120"
      ]
     },
     "execution_count": 5,
     "metadata": {},
     "output_type": "execute_result"
    }
   ],
   "source": [
    "name = \"Lela\"\n",
    "id(name)"
   ]
  },
  {
   "cell_type": "code",
   "execution_count": 6,
   "metadata": {},
   "outputs": [
    {
     "data": {
      "text/plain": [
       "2331011271664"
      ]
     },
     "execution_count": 6,
     "metadata": {},
     "output_type": "execute_result"
    }
   ],
   "source": [
    "name = 'you'\n",
    "id(name)"
   ]
  },
  {
   "cell_type": "code",
   "execution_count": 21,
   "metadata": {},
   "outputs": [
    {
     "name": "stdout",
     "output_type": "stream",
     "text": [
      "2331011270472\n"
     ]
    }
   ],
   "source": [
    "u = [3,1,3]\n",
    "id(u)\n",
    "u.append(6)\n",
    "print(id(u))"
   ]
  },
  {
   "cell_type": "code",
   "execution_count": null,
   "metadata": {},
   "outputs": [],
   "source": []
  }
 ],
 "metadata": {
  "kernelspec": {
   "display_name": "Python 3",
   "language": "python",
   "name": "python3"
  },
  "language_info": {
   "codemirror_mode": {
    "name": "ipython",
    "version": 3
   },
   "file_extension": ".py",
   "mimetype": "text/x-python",
   "name": "python",
   "nbconvert_exporter": "python",
   "pygments_lexer": "ipython3",
   "version": "3.7.4"
  },
  "toc": {
   "base_numbering": 1,
   "nav_menu": {},
   "number_sections": true,
   "sideBar": true,
   "skip_h1_title": false,
   "title_cell": "Table of Contents",
   "title_sidebar": "Contents",
   "toc_cell": false,
   "toc_position": {
    "height": "calc(100% - 180px)",
    "left": "10px",
    "top": "150px",
    "width": "165px"
   },
   "toc_section_display": true,
   "toc_window_display": true
  }
 },
 "nbformat": 4,
 "nbformat_minor": 2
}
