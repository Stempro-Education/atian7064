{
 "cells": [
  {
   "cell_type": "markdown",
   "metadata": {},
   "source": [
    "<font size=6 bold=true>Dec 29 -- Part A\n",
    "<br><br>R3 Review</font>\n",
    "\n",
    "<font size=5 color='Olive'>Homework</font>"
   ]
  },
  {
   "cell_type": "code",
   "execution_count": 158,
   "metadata": {
    "ExecuteTime": {
     "end_time": "2019-12-29T15:45:35.085104Z",
     "start_time": "2019-12-29T15:45:35.080137Z"
    }
   },
   "outputs": [],
   "source": [
    "import re\n",
    "import sys\n",
    "import csv\n",
    "import pandas as pd\n",
    "import numpy as np\n",
    "import os\n",
    "from os import path\n",
    "from datetime import datetime\n",
    "from urllib.parse import urlparse, urljoin\n",
    "import requests\n",
    "import ntpath\n",
    "from bs4 import BeautifulSoup, Comment\n",
    "import time\n",
    "from pprint import pprint"
   ]
  },
  {
   "cell_type": "markdown",
   "metadata": {},
   "source": [
    "# Record\n",
    "what we learned"
   ]
  },
  {
   "cell_type": "markdown",
   "metadata": {},
   "source": [
    "# Review"
   ]
  },
  {
   "cell_type": "markdown",
   "metadata": {},
   "source": [
    "## Zilin\n",
    "for web crawling. Please piece together all neccessary functions and get the result files by\n",
    "1). initantiating a class\n",
    "2). call the function of the instantiation.\n",
    "e.g.:\n",
    "\n",
    "c_crawler=CollegeCrawl('Princeton','https://www.princeton.edu/academics/areas-of-study',keywords,wait_time,max_pages)\n",
    "pages=c_crawler.all_pages()\n",
    "\n",
    "\n",
    "you may need to build a loop to loop multiple universities.\n",
    "\n",
    "get familiar with python built-in function help()\n",
    "a). review use of python build-in function. help()\n",
    "b). what's output of help(requests.get)?  (you will need to import requests first)\n",
    "c). based on this, can you try to modify the function requests.get?\n",
    "    hint: it was  response=requests.get(url)\n",
    "\n",
    "\n",
    "during tutorial, you mentioned about the function \"filter\". When you get a chance, can you study \"filter\" and tell us how it works? hint: you may start with help(filter) and search for some examples."
   ]
  },
  {
   "cell_type": "markdown",
   "metadata": {},
   "source": [
    "## Angus\n",
    "<b>Great addtion to the dunder part and content-type addtion!!</b>\n",
    "\n",
    "1. flavors of python function\n",
    "Please review and fully understand the \"flavors\" of functions in terms of how arguments (parameters) are passed to a python function. first half of III_PY_DS_Week3_PartC.ipynb has examples. upon review, can you give us a solution for this problem?\n",
    "\n",
    "problem: average number of students of the following universities. Please note that the number of universities may change. Hint: use the \"flavor 5\".\n",
    "MIT 11,376\n",
    "Stanford 16,914\n",
    "Princeton 8,623\n",
    "Caltech 2,238\n",
    "University of Central Florida 66,183\n",
    "Texas A&M University 64,583\n",
    "Ohio State University 59,837\n",
    "Florida International University 56,851\n",
    "University of Florida 52,669\n",
    "University of Minnesota 51,848\n",
    "University of Texas at Austin 51,525\n",
    "Arizona State University 51,164\n",
    "Georgia State University 51,000\n",
    "University of South Florida 50,577\n",
    "\n",
    "2.upon fully understand of above question.\n",
    "a). review use of python build-in function. help()\n",
    "b). what's output of help(requests.get)?  (you will need to import requests first)\n",
    "c). based on this, can you try to modify the function requests.get?\n",
    "    hint: it was  response=requests.get(url)\n",
    "\n",
    "for ml, let's cover it next tutorial"
   ]
  },
  {
   "cell_type": "markdown",
   "metadata": {},
   "source": [
    "## Wilson\n",
    "Please try to implement the idea/plan of crawling priority pages first (i.e., urls with PriorityWords).\n",
    "With the following hints:\n",
    "\n",
    "1. run the following example\n",
    "e.g. for an url: https://www.stanford.edu/admission/\n",
    "our priority word list is:\n",
    "['admission', 'apply', 'deadline', 'research']\n",
    "\n",
    "#--------------------------- code ---------------------------\n",
    "prioWords=['admission', 'apply', 'deadline', 'research']\n",
    "url='https://www.stanford.edu/admission/'\n",
    "isIn=[w in url for w in prioWords]\n",
    "#what is sum of isIn? --- True: the priority word is in URL; False, not in URL\n",
    "#-----------------------------------------------------\n",
    "\n",
    "2. the following will give you hint on sorting a list. Make sure to **understand** the first hint.\n",
    "\n",
    "#--------------------------- code ---------------------------\n",
    "prioWords=['admission', 'apply', 'deadline', 'research']\n",
    "unvisitedUrls=['https://www.stanford.edu/campus-life/',\n",
    "               'https://www.stanford.edu/admission/',\n",
    "               'https://visit.stanford.edu/',\n",
    "              'https://visit.stanford.edu/plan/']\n",
    "unvisited=sorted(unvisitedUrls, key=lambda item: sum([w in item for w in prioWords]))\n",
    "unvisited\n",
    "#----------------------------------------------------"
   ]
  },
  {
   "cell_type": "markdown",
   "metadata": {},
   "source": [
    "## Jason:\n",
    "<b>Library Pandas/Essential Python to be arranged</b>"
   ]
  },
  {
   "cell_type": "markdown",
   "metadata": {},
   "source": [
    "## Allen\n",
    "<b>Homework extended</b>"
   ]
  },
  {
   "cell_type": "markdown",
   "metadata": {
    "ExecuteTime": {
     "end_time": "2019-12-29T15:49:17.525207Z",
     "start_time": "2019-12-29T15:49:17.489239Z"
    },
    "code_folding": [
     177
    ]
   },
   "source": [
    "# Return (challenge)"
   ]
  },
  {
   "cell_type": "code",
   "execution_count": null,
   "metadata": {
    "ExecuteTime": {
     "end_time": "2019-12-29T15:50:06.383084Z",
     "start_time": "2019-12-29T15:50:06.361086Z"
    }
   },
   "outputs": [],
   "source": []
  },
  {
   "cell_type": "code",
   "execution_count": null,
   "metadata": {
    "ExecuteTime": {
     "end_time": "2019-12-29T08:29:46.161634Z",
     "start_time": "2019-12-29T08:29:46.155605Z"
    }
   },
   "outputs": [],
   "source": []
  },
  {
   "cell_type": "code",
   "execution_count": null,
   "metadata": {},
   "outputs": [],
   "source": []
  },
  {
   "cell_type": "code",
   "execution_count": 173,
   "metadata": {
    "ExecuteTime": {
     "end_time": "2019-12-29T16:49:47.857924Z",
     "start_time": "2019-12-29T16:49:47.851922Z"
    }
   },
   "outputs": [
    {
     "data": {
      "text/plain": [
       "89"
      ]
     },
     "execution_count": 173,
     "metadata": {},
     "output_type": "execute_result"
    }
   ],
   "source": [
    " "
   ]
  },
  {
   "cell_type": "code",
   "execution_count": 174,
   "metadata": {
    "ExecuteTime": {
     "end_time": "2019-12-29T16:49:56.547063Z",
     "start_time": "2019-12-29T16:49:56.541065Z"
    }
   },
   "outputs": [
    {
     "data": {
      "text/plain": [
       "7"
      ]
     },
     "execution_count": 174,
     "metadata": {},
     "output_type": "execute_result"
    }
   ],
   "source": [
    " "
   ]
  },
  {
   "cell_type": "code",
   "execution_count": null,
   "metadata": {},
   "outputs": [],
   "source": []
  }
 ],
 "metadata": {
  "kernelspec": {
   "display_name": "Python 3",
   "language": "python",
   "name": "python3"
  },
  "language_info": {
   "codemirror_mode": {
    "name": "ipython",
    "version": 3
   },
   "file_extension": ".py",
   "mimetype": "text/x-python",
   "name": "python",
   "nbconvert_exporter": "python",
   "pygments_lexer": "ipython3",
   "version": "3.7.4"
  },
  "toc": {
   "base_numbering": 1,
   "nav_menu": {},
   "number_sections": true,
   "sideBar": true,
   "skip_h1_title": false,
   "title_cell": "Table of Contents",
   "title_sidebar": "Contents",
   "toc_cell": false,
   "toc_position": {
    "height": "calc(100% - 180px)",
    "left": "10px",
    "top": "150px",
    "width": "165px"
   },
   "toc_section_display": true,
   "toc_window_display": true
  }
 },
 "nbformat": 4,
 "nbformat_minor": 2
}
