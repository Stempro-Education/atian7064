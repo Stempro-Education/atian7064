{
 "cells": [
  {
   "cell_type": "code",
   "execution_count": null,
   "metadata": {
    "ExecuteTime": {
     "end_time": "2019-12-17T03:02:18.781559Z",
     "start_time": "2019-12-17T03:02:18.778556Z"
    }
   },
   "outputs": [],
   "source": [
    "import nltk\n",
    "#help(nltk)"
   ]
  },
  {
   "cell_type": "markdown",
   "metadata": {},
   "source": [
    "# NLTK How to: \n",
    "<font size=5 color=\"read\">http://www.nltk.org/howto/</font>"
   ]
  },
  {
   "cell_type": "markdown",
   "metadata": {},
   "source": [
    "# Download"
   ]
  },
  {
   "cell_type": "markdown",
   "metadata": {
    "ExecuteTime": {
     "end_time": "2019-12-16T04:21:31.813520Z",
     "start_time": "2019-12-16T04:17:30.946240Z"
    }
   },
   "source": [
    "## Option 1 Download from choices"
   ]
  },
  {
   "cell_type": "code",
   "execution_count": null,
   "metadata": {
    "ExecuteTime": {
     "end_time": "2019-12-17T03:02:44.767669Z",
     "start_time": "2019-12-17T03:02:41.712547Z"
    }
   },
   "outputs": [],
   "source": [
    "nltk.download()\n",
    "from IPython.display import Image\n",
    "Image(\"img/NLTK_Download.PNG\")\n",
    "# or in MarkDown: ![title](img/NLTK_Download.PNG)"
   ]
  },
  {
   "cell_type": "markdown",
   "metadata": {
    "ExecuteTime": {
     "end_time": "2019-12-16T04:50:49.300915Z",
     "start_time": "2019-12-16T04:50:49.281984Z"
    }
   },
   "source": [
    "## Option 2: Explicit downloading\n",
    "<font size=6><b>Recommended only download popular or what you need</b><font><br>\n",
    "<font size=5>For example, download corpus of gutenberg </font>"
   ]
  },
  {
   "cell_type": "code",
   "execution_count": null,
   "metadata": {
    "ExecuteTime": {
     "end_time": "2019-12-16T05:02:23.557793Z",
     "start_time": "2019-12-16T05:02:23.552826Z"
    }
   },
   "outputs": [],
   "source": [
    "nltk.download('gutenberg')"
   ]
  },
  {
   "cell_type": "markdown",
   "metadata": {},
   "source": [
    "# Corpus\n",
    "<font size=5><b>use help(nltk) to browse what are there </b></font>"
   ]
  },
  {
   "cell_type": "code",
   "execution_count": null,
   "metadata": {
    "ExecuteTime": {
     "end_time": "2019-12-16T05:37:58.498472Z",
     "start_time": "2019-12-16T05:37:58.492467Z"
    }
   },
   "outputs": [],
   "source": [
    "files = nltk.corpus.gutenberg.fileids()\n",
    "[f for f in files if \"sha\" in f][0]"
   ]
  },
  {
   "cell_type": "markdown",
   "metadata": {
    "ExecuteTime": {
     "end_time": "2019-12-16T04:32:24.107206Z",
     "start_time": "2019-12-16T04:32:24.103202Z"
    }
   },
   "source": [
    "<html><img src=\"imgs/NLTK_Download.png\",width=60,height=60></html>"
   ]
  },
  {
   "cell_type": "code",
   "execution_count": null,
   "metadata": {
    "ExecuteTime": {
     "end_time": "2019-12-16T05:45:33.759034Z",
     "start_time": "2019-12-16T05:45:33.750072Z"
    }
   },
   "outputs": [],
   "source": [
    "from nltk.corpus import gutenberg\n",
    "#help(gutenberg)\n",
    "gwords=gutenberg.words('shakespeare-caesar.txt')\n",
    "type(gwords) #nltk.corpus.reader.util.StreamBackedCorpusView\n",
    "# it is not a list; rather it is a SteramBackedCorpusView. which is specific to nltk\n",
    "#you may conduct list style slicing:\n",
    "' '.join(gwords[123:1234])"
   ]
  },
  {
   "cell_type": "markdown",
   "metadata": {},
   "source": [
    "# Try yourself!\n"
   ]
  },
  {
   "cell_type": "code",
   "execution_count": null,
   "metadata": {
    "ExecuteTime": {
     "end_time": "2019-12-17T06:38:19.730613Z",
     "start_time": "2019-12-17T06:38:19.727585Z"
    }
   },
   "outputs": [],
   "source": [
    "# import the nltk te\n",
    "from nltk.book import *"
   ]
  },
  {
   "cell_type": "code",
   "execution_count": null,
   "metadata": {
    "ExecuteTime": {
     "end_time": "2019-12-17T06:38:23.652228Z",
     "start_time": "2019-12-17T06:38:23.647260Z"
    }
   },
   "outputs": [],
   "source": [
    "texts()"
   ]
  },
  {
   "cell_type": "code",
   "execution_count": null,
   "metadata": {
    "ExecuteTime": {
     "end_time": "2019-12-17T06:41:48.712630Z",
     "start_time": "2019-12-17T06:41:48.709597Z"
    }
   },
   "outputs": [],
   "source": [
    "from nltk.book import inaugural"
   ]
  },
  {
   "cell_type": "markdown",
   "metadata": {
    "ExecuteTime": {
     "end_time": "2019-12-17T06:36:02.576504Z",
     "start_time": "2019-12-17T06:36:02.570490Z"
    }
   },
   "source": [
    "<b>Look at what are in the nltk.book: (nltk/book.py)</b>\n",
    " \n",
    "from nltk.corpus import (\n",
    "    gutenberg,\n",
    "    genesis,\n",
    "    inaugural,\n",
    "    nps_chat,\n",
    "    webtext,\n",
    "    treebank,\n",
    "    wordnet,\n",
    ")\n",
    "from nltk.text import Text\n",
    "from nltk.probability import FreqDist\n",
    "from nltk.util import bigrams\n",
    "\n",
    "print(\"*** Introductory Examples for the NLTK Book ***\")\n",
    "print(\"Loading text1, ..., text9 and sent1, ..., sent9\")\n",
    "print(\"Type the name of the text or sentence to view it.\")\n",
    "print(\"Type: 'texts()' or 'sents()' to list the materials.\")\n",
    "\n",
    "text1 = Text(gutenberg.words('melville-moby_dick.txt'))\n",
    "print(\"text1:\", text1.name)\n",
    "\n",
    "text2 = Text(gutenberg.words('austen-sense.txt'))\n",
    "print(\"text2:\", text2.name)\n",
    "\n",
    "text3 = Text(genesis.words('english-kjv.txt'), name=\"The Book of Genesis\")\n",
    "print(\"text3:\", text3.name)\n",
    "\n",
    "text4 = Text(inaugural.words(), name=\"Inaugural Address Corpus\")\n",
    "print(\"text4:\", text4.name)\n",
    "\n",
    "text5 = Text(nps_chat.words(), name=\"Chat Corpus\")\n",
    "print(\"text5:\", text5.name)\n",
    "\n",
    "text6 = Text(webtext.words('grail.txt'), name=\"Monty Python and the Holy Grail\")\n",
    "print(\"text6:\", text6.name)\n",
    "\n",
    "text7 = Text(treebank.words(), name=\"Wall Street Journal\")\n",
    "print(\"text7:\", text7.name)\n",
    "\n",
    "text8 = Text(webtext.words('singles.txt'), name=\"Personals Corpus\")\n",
    "print(\"text8:\", text8.name)\n",
    "\n",
    "text9 = Text(gutenberg.words('chesterton-thursday.txt'))\n",
    "print(\"text9:\", text9.name)\n",
    "\n",
    "\n",
    "def texts():\n",
    "    print(\"text1:\", text1.name)\n",
    "    print(\"text2:\", text2.name)\n",
    "    print(\"text3:\", text3.name)\n",
    "    print(\"text4:\", text4.name)\n",
    "    print(\"text5:\", text5.name)\n",
    "    print(\"text6:\", text6.name)\n",
    "    print(\"text7:\", text7.name)\n",
    "    print(\"text8:\", text8.name)\n",
    "    print(\"text9:\", text9.name)"
   ]
  },
  {
   "cell_type": "markdown",
   "metadata": {},
   "source": [
    "<font size=5><b>Try with inaugural </b></font>"
   ]
  },
  {
   "cell_type": "code",
   "execution_count": null,
   "metadata": {
    "ExecuteTime": {
     "end_time": "2019-12-17T06:47:45.460453Z",
     "start_time": "2019-12-17T06:47:45.457452Z"
    }
   },
   "outputs": [],
   "source": [
    "from nltk.book import inaugural"
   ]
  },
  {
   "cell_type": "markdown",
   "metadata": {},
   "source": [
    "<b> President Trump's Inaugral is here too !</b>"
   ]
  },
  {
   "cell_type": "code",
   "execution_count": null,
   "metadata": {
    "ExecuteTime": {
     "end_time": "2019-12-17T06:49:19.614351Z",
     "start_time": "2019-12-17T06:49:19.610308Z"
    }
   },
   "outputs": [],
   "source": [
    "nltk.corpus.inaugural.fileids()"
   ]
  },
  {
   "cell_type": "code",
   "execution_count": null,
   "metadata": {
    "ExecuteTime": {
     "end_time": "2019-12-17T06:50:02.469856Z",
     "start_time": "2019-12-17T06:50:02.465829Z"
    }
   },
   "outputs": [],
   "source": [
    "text4.concordance(\"Obama\")"
   ]
  },
  {
   "cell_type": "code",
   "execution_count": null,
   "metadata": {
    "ExecuteTime": {
     "end_time": "2019-12-17T06:50:35.733658Z",
     "start_time": "2019-12-17T06:50:34.263682Z"
    }
   },
   "outputs": [],
   "source": [
    "text1.common_contexts([\"bad\", \"good\"])"
   ]
  },
  {
   "cell_type": "markdown",
   "metadata": {},
   "source": [
    "### statistics perspective of the corpus"
   ]
  },
  {
   "cell_type": "code",
   "execution_count": null,
   "metadata": {
    "ExecuteTime": {
     "end_time": "2019-12-17T06:51:16.077292Z",
     "start_time": "2019-12-17T06:51:16.072296Z"
    }
   },
   "outputs": [],
   "source": [
    "len(text1) "
   ]
  },
  {
   "cell_type": "code",
   "execution_count": null,
   "metadata": {
    "ExecuteTime": {
     "end_time": "2019-12-17T06:54:31.186323Z",
     "start_time": "2019-12-17T06:54:31.132326Z"
    }
   },
   "outputs": [],
   "source": [
    "len(text1) / len(set(text1))   # this shows the average frequency of a word in a text."
   ]
  },
  {
   "cell_type": "code",
   "execution_count": null,
   "metadata": {
    "ExecuteTime": {
     "end_time": "2019-12-17T06:54:46.921167Z",
     "start_time": "2019-12-17T06:54:46.912205Z"
    }
   },
   "outputs": [],
   "source": [
    "text1.count(\"we\")"
   ]
  },
  {
   "cell_type": "code",
   "execution_count": null,
   "metadata": {
    "ExecuteTime": {
     "end_time": "2019-12-17T06:54:53.090456Z",
     "start_time": "2019-12-17T06:54:53.080456Z"
    }
   },
   "outputs": [],
   "source": [
    "100 * text1.count('we') / len(text1)"
   ]
  },
  {
   "cell_type": "markdown",
   "metadata": {},
   "source": [
    "### Define Two functions to do the statistics calculation  "
   ]
  },
  {
   "cell_type": "code",
   "execution_count": null,
   "metadata": {
    "ExecuteTime": {
     "end_time": "2019-12-17T06:55:15.391447Z",
     "start_time": "2019-12-17T06:55:15.388412Z"
    }
   },
   "outputs": [],
   "source": [
    "def lexical_diversity(text): \n",
    "    return len(text) / len(set(text)) \n",
    "\n",
    "def percentage(count, total): \n",
    "    return 100 * count / total"
   ]
  },
  {
   "cell_type": "code",
   "execution_count": null,
   "metadata": {},
   "outputs": [],
   "source": [
    "lexical_diversity(text3)"
   ]
  },
  {
   "cell_type": "code",
   "execution_count": null,
   "metadata": {},
   "outputs": [],
   "source": [
    "lexical_diversity(text5)"
   ]
  },
  {
   "cell_type": "code",
   "execution_count": null,
   "metadata": {
    "ExecuteTime": {
     "end_time": "2019-12-17T06:55:50.120343Z",
     "start_time": "2019-12-17T06:55:50.116315Z"
    }
   },
   "outputs": [],
   "source": [
    "percentage(3, 5)"
   ]
  },
  {
   "cell_type": "code",
   "execution_count": null,
   "metadata": {},
   "outputs": [],
   "source": [
    "percentage(text4.count('a'), len(text4))"
   ]
  },
  {
   "cell_type": "code",
   "execution_count": null,
   "metadata": {},
   "outputs": [],
   "source": [
    "text4[173]"
   ]
  },
  {
   "cell_type": "code",
   "execution_count": null,
   "metadata": {
    "ExecuteTime": {
     "end_time": "2019-12-17T06:56:07.517851Z",
     "start_time": "2019-12-17T06:56:07.512854Z"
    }
   },
   "outputs": [],
   "source": [
    "text4.index('awaken')"
   ]
  },
  {
   "cell_type": "code",
   "execution_count": null,
   "metadata": {},
   "outputs": [],
   "source": [
    "# Text slicing \n",
    "text4[100:110]"
   ]
  },
  {
   "cell_type": "code",
   "execution_count": null,
   "metadata": {},
   "outputs": [],
   "source": [
    "# Consider each word as a string \n",
    "name = 'Monty'\n",
    "name[0]"
   ]
  },
  {
   "cell_type": "code",
   "execution_count": null,
   "metadata": {},
   "outputs": [],
   "source": [
    "# the frequency distribution \n",
    "fdist2 = FreqDist(text2)"
   ]
  },
  {
   "cell_type": "code",
   "execution_count": null,
   "metadata": {},
   "outputs": [],
   "source": [
    "fdist2  # it is a dictionary with words and their frequencies. "
   ]
  },
  {
   "cell_type": "code",
   "execution_count": null,
   "metadata": {},
   "outputs": [],
   "source": [
    "vocabulary2 = fdist2.keys()  # dictionary contains (key,value), we can try to print vocabulary\n",
    "#for key, value in fdist2.items():\n",
    "#    print(key)\n",
    "sorted_x = sorted(fdist2.items(), key=lambda kv: kv[1], reverse=True)[1]\n",
    "print(sorted_x)"
   ]
  },
  {
   "cell_type": "code",
   "execution_count": null,
   "metadata": {},
   "outputs": [],
   "source": []
  },
  {
   "cell_type": "code",
   "execution_count": null,
   "metadata": {},
   "outputs": [],
   "source": [
    "%matplotlib inline\n",
    "from matplotlib import pyplot as plt"
   ]
  },
  {
   "cell_type": "code",
   "execution_count": null,
   "metadata": {},
   "outputs": [],
   "source": [
    "fdist2.plot(50, cumulative=True)"
   ]
  },
  {
   "cell_type": "markdown",
   "metadata": {},
   "source": [
    "## Selection words with criteria "
   ]
  },
  {
   "cell_type": "code",
   "execution_count": null,
   "metadata": {
    "ExecuteTime": {
     "end_time": "2019-12-17T06:57:16.888184Z",
     "start_time": "2019-12-17T06:57:16.837222Z"
    }
   },
   "outputs": [],
   "source": [
    "V = set(text1)\n",
    "long_words = [w for w in V if len(w) > 15]\n",
    "sorted(long_words)"
   ]
  },
  {
   "cell_type": "code",
   "execution_count": null,
   "metadata": {},
   "outputs": [],
   "source": []
  }
 ],
 "metadata": {
  "kernelspec": {
   "display_name": "Python 3",
   "language": "python",
   "name": "python3"
  },
  "language_info": {
   "codemirror_mode": {
    "name": "ipython",
    "version": 3
   },
   "file_extension": ".py",
   "mimetype": "text/x-python",
   "name": "python",
   "nbconvert_exporter": "python",
   "pygments_lexer": "ipython3",
   "version": "3.7.4"
  },
  "toc": {
   "base_numbering": 1,
   "nav_menu": {},
   "number_sections": true,
   "sideBar": true,
   "skip_h1_title": false,
   "title_cell": "Table of Contents",
   "title_sidebar": "Contents",
   "toc_cell": false,
   "toc_position": {},
   "toc_section_display": true,
   "toc_window_display": true
  }
 },
 "nbformat": 4,
 "nbformat_minor": 2
}
