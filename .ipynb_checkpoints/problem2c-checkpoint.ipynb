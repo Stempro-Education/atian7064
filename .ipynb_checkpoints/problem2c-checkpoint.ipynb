{
 "cells": [
  {
   "cell_type": "code",
   "execution_count": 8,
   "metadata": {},
   "outputs": [
    {
     "name": "stdout",
     "output_type": "stream",
     "text": [
      "[  8  24  67  87  79  48  10  94  52  98  53  66  98  14  34  24  15 100\n",
      "  60  58  16   9  93  86   2  27   4  31   1  13  83 100   4  91  59  67\n",
      "   7  49  47  65  61  14  55  71  80   2  94  19  98  63  53  27  56  30\n",
      "  48  47  39  38  44  18  64  56  34  53  74  17  72  13  30  17  53  68\n",
      "  50  91  91  83  53  78   0  13  57  76   3  70   3  84  79  10  87  60\n",
      "   3  48  52  43  36   5  71  38  86  94]\n",
      "4915\n"
     ]
    }
   ],
   "source": [
    "import numpy as np\n",
    "np.random.seed(100)\n",
    "lotteries=np.random.randint(101, size=100)\n",
    "print(lotteries)\n",
    "print(sum(lotteries))"
   ]
  },
  {
   "cell_type": "code",
   "execution_count": null,
   "metadata": {},
   "outputs": [],
   "source": []
  },
  {
   "cell_type": "code",
   "execution_count": null,
   "metadata": {},
   "outputs": [],
   "source": []
  }
 ],
 "metadata": {
  "kernelspec": {
   "display_name": "Python 3",
   "language": "python",
   "name": "python3"
  },
  "language_info": {
   "codemirror_mode": {
    "name": "ipython",
    "version": 3
   },
   "file_extension": ".py",
   "mimetype": "text/x-python",
   "name": "python",
   "nbconvert_exporter": "python",
   "pygments_lexer": "ipython3",
   "version": "3.7.4"
  }
 },
 "nbformat": 4,
 "nbformat_minor": 2
}
