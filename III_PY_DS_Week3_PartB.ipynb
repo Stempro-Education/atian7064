{
 "cells": [
  {
   "cell_type": "markdown",
   "metadata": {},
   "source": [
    "<font size=6 bold=true>Dec 21 -- Part B\n",
    "<br><br>Get our data and Save!</font>\n",
    "\n",
    "<font size=5 color='red'>One Webpage. PLEASE DON'T RUSH TO READ THE WHOE WEBSITE AT THIS STAGE</font>"
   ]
  },
  {
   "cell_type": "code",
   "execution_count": 4,
   "metadata": {
    "ExecuteTime": {
     "end_time": "2019-12-22T02:56:14.893282Z",
     "start_time": "2019-12-22T02:56:14.889289Z"
    }
   },
   "outputs": [],
   "source": [
    "#import selenium\n",
    "import requests\n",
    "from bs4 import BeautifulSoup\n",
    "import re\n",
    "from urllib.parse import urlparse\n",
    "from bs4.element import Comment\n",
    "import urllib.request\n",
    "import sys\n",
    "import os\n",
    "from os import path\n",
    "from datetime import datetime\n",
    "import csv"
   ]
  },
  {
   "cell_type": "code",
   "execution_count": 242,
   "metadata": {
    "ExecuteTime": {
     "end_time": "2019-12-22T05:14:27.261890Z",
     "start_time": "2019-12-22T05:14:27.248910Z"
    }
   },
   "outputs": [],
   "source": [
    "def read_oneurl(url):  \n",
    "    response=requests.get(url)  \n",
    "    if response.status_code==200: \n",
    "        return get_pagetext(response)\n",
    "    else: \n",
    "        return [[None, None, None, None]]\n",
    "    \n",
    "def tag_visible(element):\n",
    "    if element.parent.name in ['style', 'script', 'head', 'title', 'meta', '[document]']:\n",
    "        return False\n",
    "    if isinstance(element, Comment):\n",
    "        return False\n",
    "    return True \n",
    "\n",
    "def get_pagetext(body):\n",
    "    soup = BeautifulSoup(body.text, 'html.parser')\n",
    "    texts = soup.findAll(text=True) \n",
    "    visible_texts = filter(tag_visible, texts)       \n",
    "    \n",
    "    return [ [t.parent.name,   \n",
    "             t.parent.previousSibling.name if t.parent.previousSibling!=None else None, \n",
    "             t.nextSibling.name if t.nextSibling!=None else None,\n",
    "             re.sub(r'[\\s+\\t]',' ',t) ]  for t in visible_texts if len(t.strip())>2] \n",
    "\n",
    "def save_tocsv(url,folder=None, filename=None): # tab delimiter only\n",
    "    url=url.strip()\n",
    "    content=read_oneurl(url) #in format of (a,a,a,a)\n",
    "     \n",
    "    if folder==None:\n",
    "        folder=os.getcwd()\n",
    "    if path.isdir(folder)==False:\n",
    "        print('folder doesnot exist')\n",
    "        return\n",
    "    if filename==None:\n",
    "        filename=url.replace('.', '_dot_').replace('/', '_').replace(':', '_')+'_'+datetime.now().strftime(\"%m_%d_%Y_%H_%M_%S\")+'.csv'\n",
    "    \n",
    "    fullname=path.join(folder, filename)\n",
    "    with open(fullname, 'w', newline='') as csvfile:\n",
    "        writer = csv.writer(csvfile, delimiter='\\t', quoting=csv.QUOTE_MINIMAL)\n",
    "        writer.writerow(['url', 'parent', 'ps', 'ns', 'text'])\n",
    "        for lll in content: \n",
    "            lll.insert(0, url)\n",
    "            writer.writerow(lll)  \n",
    "    return fullname           "
   ]
  },
  {
   "cell_type": "code",
   "execution_count": 5,
   "metadata": {
    "ExecuteTime": {
     "end_time": "2019-12-22T05:14:28.222565Z",
     "start_time": "2019-12-22T05:14:27.944857Z"
    }
   },
   "outputs": [
    {
     "ename": "NameError",
     "evalue": "name 'save_tocsv' is not defined",
     "output_type": "error",
     "traceback": [
      "\u001b[1;31m---------------------------------------------------------------------------\u001b[0m",
      "\u001b[1;31mNameError\u001b[0m                                 Traceback (most recent call last)",
      "\u001b[1;32m<ipython-input-5-03f26f2e0762>\u001b[0m in \u001b[0;36m<module>\u001b[1;34m\u001b[0m\n\u001b[0;32m      1\u001b[0m \u001b[0murl\u001b[0m\u001b[1;33m=\u001b[0m\u001b[1;34m'https://www.pugetsound.edu/admission/apply/'\u001b[0m\u001b[1;33m\u001b[0m\u001b[1;33m\u001b[0m\u001b[0m\n\u001b[0;32m      2\u001b[0m \u001b[0mfolder\u001b[0m\u001b[1;33m=\u001b[0m\u001b[1;34m'C:\\\\Coding\\\\utility_git\\\\Buffer'\u001b[0m\u001b[1;33m\u001b[0m\u001b[1;33m\u001b[0m\u001b[0m\n\u001b[1;32m----> 3\u001b[1;33m \u001b[0msave_tocsv\u001b[0m\u001b[1;33m(\u001b[0m\u001b[0murl\u001b[0m\u001b[1;33m,\u001b[0m \u001b[0mfolder\u001b[0m\u001b[1;33m)\u001b[0m\u001b[1;33m\u001b[0m\u001b[1;33m\u001b[0m\u001b[0m\n\u001b[0m",
      "\u001b[1;31mNameError\u001b[0m: name 'save_tocsv' is not defined"
     ]
    }
   ],
   "source": [
    "url='https://www.pugetsound.edu/admission/apply/'\n",
    "folder='C:\\\\Coding\\\\utility_git\\\\Buffer'\n",
    "save_tocsv(url, folder)"
   ]
  },
  {
   "cell_type": "markdown",
   "metadata": {},
   "source": [
    "<font size=5 color='darkgreen'> check </font>"
   ]
  },
  {
   "cell_type": "code",
   "execution_count": 246,
   "metadata": {
    "ExecuteTime": {
     "end_time": "2019-12-22T05:15:50.562548Z",
     "start_time": "2019-12-22T05:15:50.344453Z"
    }
   },
   "outputs": [],
   "source": [
    "url='https://www.pugetsound.edu/admission/apply/'\n",
    "response=requests.get(url)  \n",
    "soup = BeautifulSoup(response.text, 'html.parser')\n",
    "texts = soup.findAll(text=True) "
   ]
  },
  {
   "cell_type": "code",
   "execution_count": 247,
   "metadata": {
    "ExecuteTime": {
     "end_time": "2019-12-22T05:15:51.568620Z",
     "start_time": "2019-12-22T05:15:51.561621Z"
    }
   },
   "outputs": [
    {
     "data": {
      "text/plain": [
       "'Through a holistic admission process, we look for intellectually engaged individuals passionate about actively participating as a member of the Puget Sound community. With every new class, we welcome diverse worldviews, wide-ranging interests, and novel life experiences to campus. '"
      ]
     },
     "execution_count": 247,
     "metadata": {},
     "output_type": "execute_result"
    }
   ],
   "source": [
    "xx=[x for x in texts if 'intellectually' in x][0]\n",
    "xx\n",
    "re.sub(r'\\s+',' ',xx)"
   ]
  },
  {
   "cell_type": "code",
   "execution_count": null,
   "metadata": {},
   "outputs": [],
   "source": []
  },
  {
   "cell_type": "code",
   "execution_count": null,
   "metadata": {},
   "outputs": [],
   "source": [
    " "
   ]
  }
 ],
 "metadata": {
  "kernelspec": {
   "display_name": "Python 3",
   "language": "python",
   "name": "python3"
  },
  "language_info": {
   "codemirror_mode": {
    "name": "ipython",
    "version": 3
   },
   "file_extension": ".py",
   "mimetype": "text/x-python",
   "name": "python",
   "nbconvert_exporter": "python",
   "pygments_lexer": "ipython3",
   "version": "3.7.4"
  },
  "toc": {
   "base_numbering": 1,
   "nav_menu": {},
   "number_sections": true,
   "sideBar": true,
   "skip_h1_title": false,
   "title_cell": "Table of Contents",
   "title_sidebar": "Contents",
   "toc_cell": false,
   "toc_position": {
    "height": "calc(100% - 180px)",
    "left": "10px",
    "top": "150px",
    "width": "165px"
   },
   "toc_section_display": true,
   "toc_window_display": true
  }
 },
 "nbformat": 4,
 "nbformat_minor": 2
}
