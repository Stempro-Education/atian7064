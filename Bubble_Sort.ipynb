{
 "cells": [
  {
   "cell_type": "code",
   "execution_count": 1,
   "metadata": {},
   "outputs": [],
   "source": [
    "#Bubble sort:\n",
    "\n",
    "#Average case:\n",
    "#O(n^2) comparisons\n",
    "#O(n^2) swaps\n",
    "#\n",
    "#Best case:\n",
    "#O(n) comparisons\n",
    "#O(1) swaps\n",
    "#\n",
    "#Worst case:\n",
    "#O(n^2) comparisons\n",
    "#O(n^2) swaps\n",
    "#\n",
    "#"
   ]
  },
  {
   "cell_type": "code",
   "execution_count": 5,
   "metadata": {},
   "outputs": [
    {
     "name": "stdout",
     "output_type": "stream",
     "text": [
      "[1, 2, 3, 4, 5, 6, 7, 8, 9, 10]\n",
      "45\n"
     ]
    }
   ],
   "source": [
    "from IPython.core.debugger import set_trace\n",
    "#Bubble sort program\n",
    "sorting = [1,2,3,4,5,6,7,8,9,10]\n",
    "def bubbleSort(sortList):\n",
    "    for x in range(len(sortList)):\n",
    "        for y in range(len(sortList) - x - 1):\n",
    "                if sortList[y] > sortList[y + 1]:\n",
    "                    sortList[y], sortList[y + 1] = sortList[y + 1], sortList[y]\n",
    "    print(sortList)\n",
    "bubbleSort(sorting)\n"
   ]
  },
  {
   "cell_type": "code",
   "execution_count": 16,
   "metadata": {},
   "outputs": [
    {
     "name": "stdout",
     "output_type": "stream",
     "text": [
      "2\n",
      "1\n"
     ]
    }
   ],
   "source": [
    "from IPython.core.debugger import set_trace\n",
    "#Bubble sort program\n",
    "sorting = [1,4,5,6,7,8,3,4,5,6,3,3]\n",
    "def bubbleSort(sortList):\n",
    "    for x in range(len(sortList)):\n",
    "        for y in range(len(sortList) - x - 1):\n",
    "                if sortList[y] > sortList[y + 1]:\n",
    "                    sortList[y], sortList[y + 1] = sortList[y + 1], sortList[y]\n",
    "    print(sortList)\n",
    "bubbleSort(sorting)"
   ]
  },
  {
   "cell_type": "code",
   "execution_count": null,
   "metadata": {},
   "outputs": [],
   "source": []
  }
 ],
 "metadata": {
  "kernelspec": {
   "display_name": "Python 3",
   "language": "python",
   "name": "python3"
  },
  "language_info": {
   "codemirror_mode": {
    "name": "ipython",
    "version": 3
   },
   "file_extension": ".py",
   "mimetype": "text/x-python",
   "name": "python",
   "nbconvert_exporter": "python",
   "pygments_lexer": "ipython3",
   "version": "3.7.4"
  }
 },
 "nbformat": 4,
 "nbformat_minor": 2
}
