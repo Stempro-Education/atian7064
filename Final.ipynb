{
 "cells": [
  {
   "cell_type": "markdown",
   "metadata": {},
   "source": [
    "<font size=6> All finals due June 1st</font>"
   ]
  },
  {
   "cell_type": "markdown",
   "metadata": {},
   "source": [
    "# Algorithm (from Mr. Wu)\n",
    "\n",
    "* Question: <br>\n",
    "merge 2 binary search trees (one is m elements, another one is n elements) into single binary search tree. Give the time and memory complexity.\n",
    "\n",
    "* Open book. \n",
    "* Delivery format: A Video Clip for explaining your code "
   ]
  },
  {
   "cell_type": "code",
   "execution_count": 1,
   "metadata": {},
   "outputs": [
    {
     "output_type": "stream",
     "name": "stdout",
     "text": "1 2 3 4 5 6"
    }
   ],
   "source": [
    "#\n",
    "\n",
    "class NewNode: \n",
    "    def __init__(self, data: int): \n",
    "        self.data = data \n",
    "        self.left = None\n",
    "        self.right = None\n",
    "  \n",
    "def inorder(root:NewNode): \n",
    "  \n",
    "    if root: \n",
    "        inorder(root.left) \n",
    "        print(root.data, end=\" \") \n",
    "        inorder(root.right) \n",
    "  \n",
    "def merge(root1: NewNode, root2: NewNode): \n",
    "  \n",
    "    # s1 is stack to hold nodes of first BST \n",
    "    s1 = [] \n",
    "      \n",
    "    # Current node of first BST \n",
    "    current1 = root1 \n",
    "      \n",
    "    # s2 is stack to hold nodes of second BST \n",
    "    s2 = [] \n",
    "      \n",
    "    # Current node of second BST \n",
    "    current2 = root2 \n",
    "  \n",
    "    # If first BST is empty then the output is the  \n",
    "    # inorder traversal of the second BST \n",
    "    if not root1: \n",
    "        return inorder(root2) \n",
    "  \n",
    "    # If the second BST is empty then the output is the  \n",
    "    # inorder traversal of the first BST \n",
    "    if not root2: \n",
    "        return inorder(root1) \n",
    "  \n",
    "    # Run the loop while there are nodes not yet printed. \n",
    "    # The nodes may be in stack(explored, but not printed) \n",
    "    # or may be not yet explored \n",
    "    while current1 or s1 or current2 or s2: \n",
    "  \n",
    "        # Following steps follow iterative Inorder Traversal \n",
    "        if current1 or current2: \n",
    "          \n",
    "            # Reach the leftmost node of both BSTs and push ancestors of \n",
    "            # leftmost nodes to stack s1 and s2 respectively \n",
    "            if current1: \n",
    "                s1.append(current1) \n",
    "                current1 = current1.left \n",
    "  \n",
    "            if current2: \n",
    "                s2.append(current2) \n",
    "                current2 = current2.left \n",
    "  \n",
    "        else: \n",
    "  \n",
    "            # If we reach a NULL node and either of the stacks is empty, \n",
    "            # then one tree is exhausted, print the other tree \n",
    "  \n",
    "            if not s1: \n",
    "                while s2: \n",
    "                    current2 = s2.pop() \n",
    "                    current2.left = None\n",
    "                    inorder(current2) \n",
    "                    return\n",
    "            if not s2: \n",
    "                while s1: \n",
    "                    current1 = s1.pop() \n",
    "                    current1.left = None\n",
    "                    inorder(current1) \n",
    "                    return\n",
    "  \n",
    "            # Pop an element from both stacks and compare the popped elements\n",
    "            # \n",
    "            current1 = s1.pop() \n",
    "            current2 = s2.pop() \n",
    "  \n",
    "            # If element of first tree is smaller, then print it \n",
    "            # and push the right subtree. If the element is larger, \n",
    "            # then we push it back to the corresponding stack. \n",
    "            if current1.data < current2.data: \n",
    "                print(current1.data, end=\" \") \n",
    "                current1 = current1.right \n",
    "                s2.append(current2) \n",
    "                current2 = None\n",
    "  \n",
    "            else: \n",
    "                print(current2.data, end=\" \") \n",
    "                current2 = current2.right \n",
    "                s1.append(current1) \n",
    "                current1 = None\n",
    "  \n",
    "# Driver code \n",
    "  \n",
    "def main(): \n",
    "  \n",
    "    # Let us create the following tree as first tree \n",
    "    #     3 \n",
    "    #     / \\ \n",
    "    #   1      5    \n",
    "  \n",
    "    root1 = NewNode(3) \n",
    "    root1.left = NewNode(1) \n",
    "    root1.right = NewNode(5) \n",
    "  \n",
    "    # Let us create the following tree as second tree \n",
    "    #     4 \n",
    "    #     / \\ \n",
    "    #   2     6 \n",
    "    # \n",
    "  \n",
    "    root2 = NewNode(4) \n",
    "    root2.left = NewNode(2) \n",
    "    root2.right = NewNode(6) \n",
    "  \n",
    "    merge(root1, root2) \n",
    "  \n",
    "  \n",
    "\n",
    "main() "
   ]
  },
  {
   "cell_type": "code",
   "execution_count": 63,
   "metadata": {},
   "outputs": [
    {
     "output_type": "stream",
     "name": "stdout",
     "text": "[1, 2, 3, 4, 5, 6]\n"
    }
   ],
   "source": [
    "class NewNode: \n",
    "    def __init__(self, data: int): \n",
    "        self.data = data \n",
    "        self.left = None\n",
    "        self.right = None\n",
    "  \n",
    "def inorder(root:NewNode, sList):  \n",
    "    if root:\n",
    "        inorder(root.left, sList) \n",
    "        sList.append(root.data) \n",
    "        inorder(root.right, sList)\n",
    "       # return templist\n",
    "\n",
    "def mergeSortedList(list1, list2, sortedList = []):\n",
    "    while list1 and list2:\n",
    "        current1 = list1.pop(0)\n",
    "        current2 = list2.pop(0)\n",
    "        if current1 < current2:\n",
    "            sortedList.append(current1)\n",
    "            list2.insert(0, current2)\n",
    "        else:\n",
    "            sortedList.append(current2)\n",
    "            list1.insert(0, current1)\n",
    "\n",
    "    if not list1:\n",
    "        while list2:\n",
    "            current2 = list2.pop(0)\n",
    "            sortedList.append(current2)\n",
    "\n",
    "    if not list2:\n",
    "        while list1:\n",
    "            current1 = list21.pop(0)\n",
    "            sortedList.append(current1)\n",
    "\n",
    "    return sortedList        \n",
    "\n",
    "    \n",
    "  \n",
    "def mergeBSTTree(root1: NewNode, root2: NewNode):\n",
    "  \n",
    "    # If first BST is empty then the output is the  \n",
    "    # inorder traversal of the second BST \n",
    "    # O(1)\n",
    "    if not root1: \n",
    "        root = root2\n",
    "  \n",
    "    # If the second BST is empty then the output is the  \n",
    "    # inorder traversal of the first BST \n",
    "    # O(1)\n",
    "    elif not root2: \n",
    "        root = root1\n",
    "    \n",
    "    else:\n",
    "\n",
    "        # in order travesal of each BST to get a sorted list \n",
    "        l1 = []\n",
    "        l2 = []\n",
    "        inorder(root1, l1)\n",
    "        inorder(root2, l2)\n",
    "\n",
    "\n",
    "        # build a binary search tree from the sorted list\n",
    "        root = mergeSortedList(l1,l2)\n",
    "    \n",
    "    # print the tree to verify it is correct\n",
    "    print(root)\n",
    "\n",
    "    return root\n",
    "\n",
    "    \n",
    "\n",
    "\n",
    "# Driver code \n",
    "  \n",
    "def main(): \n",
    "  \n",
    "    # Let us create the following tree as first tree \n",
    "    #     3 \n",
    "    #     / \\ \n",
    "    #   1      5    \n",
    "  \n",
    "    root1 = NewNode(3) \n",
    "    root1.left = NewNode(1) \n",
    "    root1.right = NewNode(5) \n",
    "  \n",
    "    # Let us create the following tree as second tree \n",
    "    #     4 \n",
    "    #     / \\ \n",
    "    #   2     6 \n",
    "    # \n",
    "  \n",
    "    root2 = NewNode(4) \n",
    "    root2.left = NewNode(2) \n",
    "    root2.right = NewNode(6) \n",
    "  \n",
    "    mergeBSTTree(root1, root2) \n",
    "\n",
    "main()    "
   ]
  },
  {
   "cell_type": "markdown",
   "metadata": {},
   "source": [
    "# AI fundamentals (from Mr. Xu)"
   ]
  },
  {
   "cell_type": "markdown",
   "metadata": {},
   "source": [
    "* Give a text document (for instances, a pure ASCII English file), which kinds of text processing/cleaning can you do before you use text as features? Can you make an example? "
   ]
  },
  {
   "cell_type": "code",
   "execution_count": null,
   "metadata": {},
   "outputs": [],
   "source": [
    "\"\"\"\n",
    "Some examples of text cleaning you can do is leamatizition for spell check, spacy for autocomplete, and nltk for grammar check. \n",
    "\n",
    "\"\"\"\n"
   ]
  },
  {
   "cell_type": "markdown",
   "metadata": {
    "ExecuteTime": {
     "end_time": "2020-04-26T16:17:01.222951Z",
     "start_time": "2020-04-26T16:17:01.217950Z"
    }
   },
   "source": [
    "* What is overfitting? Can you make one example to explain what is overfitting? How do you know there is a overfitting in your model? What strategies can help reduce overfitting in decision trees algorithm? Can you also take an example? "
   ]
  },
  {
   "cell_type": "code",
   "execution_count": null,
   "metadata": {},
   "outputs": [],
   "source": [
    "\"\"\"\n",
    "Overfitting is when a model corresponds too closely to a data set, causing the model to fail to 'fit' more data. You can tell if there is overfitting by looking at the accuracy variance between the training and the test data. One example of overfitting would be if the training data was all of the same value. A way to combat overfitting for decision tree is to generate all of trees and then at when overfitting starts.\n",
    "\"\"\""
   ]
  },
  {
   "cell_type": "code",
   "execution_count": 98,
   "metadata": {
    "ExecuteTime": {
     "end_time": "2020-04-26T17:01:55.092665Z",
     "start_time": "2020-04-26T17:01:55.084932Z"
    }
   },
   "outputs": [
    {
     "output_type": "execute_result",
     "data": {
      "text/plain": "'c:\\\\Users\\\\User 83nfud73\\\\stempro\\\\hw\\\\Final\\\\Final'"
     },
     "metadata": {},
     "execution_count": 98
    }
   ],
   "source": [
    "import os\n",
    "os.getcwd()"
   ]
  },
  {
   "cell_type": "code",
   "execution_count": 53,
   "metadata": {
    "ExecuteTime": {
     "end_time": "2020-04-26T17:04:31.132405Z",
     "start_time": "2020-04-26T17:04:31.128377Z"
    }
   },
   "outputs": [],
   "source": [
    "from IPython.display import display, Image, Markdown\n",
    "import os\n",
    "from os import path\n",
    "from IPython.core.debugger import Tracer; debug_here = Tracer()"
   ]
  },
  {
   "cell_type": "code",
   "execution_count": 10,
   "metadata": {
    "ExecuteTime": {
     "end_time": "2020-04-26T17:04:34.012644Z",
     "start_time": "2020-04-26T17:04:33.992617Z"
    }
   },
   "outputs": [
    {
     "output_type": "display_data",
     "data": {
      "text/plain": "<IPython.core.display.Markdown object>",
      "text/markdown": "\n* You have two features A and B, which are used for decision tree algorithm for splitting. The results look below respectively after split.  <br>\nCan you tell which feature has better discrimination power? And why?  "
     },
     "metadata": {}
    },
    {
     "output_type": "execute_result",
     "data": {
      "image/png": "[encoded data removed]",
      "text/plain": "<IPython.core.display.Image object>"
     },
     "metadata": {},
     "execution_count": 10
    }
   ],
   "source": [
    "syspath=os.getcwd()\n",
    "imagefile=path.join(syspath, 'splittree.PNG')\n",
    "display(Markdown(\"\"\"\n",
    "* You have two features A and B, which are used for decision tree algorithm for splitting. The results look below respectively after split.  <br>\n",
    "Can you tell which feature has better discrimination power? And why?  \"\"\"))\n",
    " \n",
    "Image(imagefile)\n"
   ]
  },
  {
   "cell_type": "code",
   "execution_count": null,
   "metadata": {},
   "outputs": [],
   "source": [
    "Feature B because it has a greater variance. "
   ]
  },
  {
   "cell_type": "markdown",
   "metadata": {},
   "source": [
    "* In Random forest you can generate hundreds of trees (say T1, T2 .....Tn) and then aggregate the results of these tree. which of the following is true about individual(Tk) tree in Random Forest?\n",
    "<br>\n",
    "1). Individual tree is built on a subset of the features<br>\n",
    "2). Individual tree is built on all the features<br>\n",
    "3). Individual tree is built on a subset of observations<br>\n",
    "4). Individual tree is built on full set of observations<br>\n",
    "<br>\n",
    "A) 1 and 3<br>\n",
    "B) 1 and 4<br>\n",
    "C) 2 and 3<br>\n",
    "D) 2 and 4<br>"
   ]
  },
  {
   "cell_type": "code",
   "execution_count": null,
   "metadata": {},
   "outputs": [],
   "source": [
    "# The answer is C"
   ]
  },
  {
   "cell_type": "markdown",
   "metadata": {
    "ExecuteTime": {
     "end_time": "2020-04-26T16:27:37.247593Z",
     "start_time": "2020-04-26T16:27:37.241653Z"
    }
   },
   "source": [
    "* You are going to Seattle for fun. You want to know if you want to bring umbrella with you or not. You call 3 random friends who live there and ask each independently if it’s raining. Assume each of your friends has a 2/3 chance of telling you the truth and a 1/3 chance of lying you. You called them and all 3 friends tell you that” yes” it is raining. What is the probability that it’s actually raining in Seattle? \n",
    "\n",
    "<br> What if it is San Diego? where it rains only 5 days in a year (365 days)\n",
    "\n",
    "<br> This question is optional"
   ]
  },
  {
   "cell_type": "code",
   "execution_count": null,
   "metadata": {},
   "outputs": [],
   "source": [
    "\"\"\"\n",
    "In order for it not to be raining, all 3 of your friends would need to lie, which is a 1/27 chance.(1/3 * 1/3 * 1/3)\n",
    "The chance it is actually is raining in Seattle would be 26/27.\n",
    "The chance it is raining in San Diego would be (26/27 * 1/73) = 26/1971\n",
    "\n",
    "\"\"\""
   ]
  },
  {
   "cell_type": "markdown",
   "metadata": {},
   "source": [
    "# Python, Data Acquisition and Handling"
   ]
  },
  {
   "cell_type": "markdown",
   "metadata": {
    "ExecuteTime": {
     "end_time": "2020-04-26T16:38:34.959337Z",
     "start_time": "2020-04-26T16:38:34.954338Z"
    }
   },
   "source": [
    "* Take a look at this webpage: <br>\n",
    "    page a: https://www.worldometers.info/  <br>\n",
    "    and page:<br>\n",
    "    page b: https://www.worldometers.info/coronavirus/#countries<br>\n",
    "    <br>\n",
    "Question a: \n",
    "    <br>Suppose 10% of health care is on Covid19 (take it from page a), on average, how much are we spending on each confirmed case?\n",
    "<br>Question b:\n",
    "<br>Which country is safest in terms of confirmed cases to population ratio?\n",
    "<br>Question c: \n",
    "<br>This page list direct flights originate from Seattle: https://www.flightsfrom.com/SEA\n",
    "<br>Based on this destionation list, which is the safest direct destionation interms of case ratio?\n",
    "\n",
    "you may consider using libraries:\n",
    "<br> bs4 import BeautifulSoup \n",
    "<br> requests\n",
    "\n",
    "<br>\n",
    "Answer format: Code and results"
   ]
  },
  {
   "cell_type": "code",
   "execution_count": 11,
   "metadata": {
    "ExecuteTime": {
     "end_time": "2020-04-26T16:39:23.437125Z",
     "start_time": "2020-04-26T16:39:23.300070Z"
    },
    "tags": [
     "outputPrepend"
    ]
   },
   "outputs": [
    {
     "output_type": "stream",
     "name": "stdout",
     "text": "Question A - The amount of money we have spent on each covid-19 case today is $114.0858464352664\nQuestion B - The safest country based off of the lowest confirmed cases to population ratio is Papua New Guinea\nQuestion C - The safest place to fly to from Sea-Tac airport is Taiwan\n"
    }
   ],
   "source": [
    "import re\n",
    "import sys\n",
    "import os\n",
    "import requests\n",
    "import time\n",
    "import csv\n",
    "import ntpath\n",
    "import pandas as pd\n",
    "from bs4 import BeautifulSoup\n",
    "from bs4.element import Comment\n",
    "from urllib.parse import urlparse, urljoin\n",
    "from os import path\n",
    "from datetime import datetime\n",
    "from pprint import pprint\n",
    "from splinter.browser import Browser\n",
    "import selenium.webdriver\n",
    "import html5lib\n",
    "from pathlib import Path\n",
    "\"\"\"\n",
    "def QuestionA():\n",
    "    x = requests.get('https://www.worldometers.info')\n",
    "    webTxt = x.text\n",
    "    soup = BeautifulSoup(webTxt)\n",
    "    subc = soup.find_all('span')\n",
    "    pprint(subc)\n",
    "\"\"\"\n",
    "def questionA():\n",
    "    #cash = ''\n",
    "    currentDir = Path(os.getcwd())\n",
    "    file = currentDir/\"test.html\"\n",
    "    #print(str(file))\n",
    "    br = Browser(headless = 'true')\n",
    "    br.visit('https://www.worldometers.info/')\n",
    "    screenshot_path = br.html_snapshot(str(file))\n",
    "    soup = BeautifulSoup(open(screenshot_path))\n",
    "    for span in soup.find_all('span', class_=['counter-number']): \n",
    "        for x in span.find_all(\"span\", rel=['gov_expenditures_health/today']):\n",
    "            cash = x.text.strip()      \n",
    "    cash = cash.replace(',', '')\n",
    "    number = int(cash) * 0.1\n",
    "    br.visit('https://www.worldometers.info/coronavirus/')\n",
    "    screenshot_path2 = br.html_snapshot(str(file))\n",
    "    br.quit()\n",
    "    moresoup = BeautifulSoup(open(screenshot_path2, encoding='utf-8'))\n",
    "    for divs in moresoup.find_all('div', id=['maincounter-wrap']):\n",
    "        for spans in divs.find_all('span', style=[\"color:#aaa\"]):\n",
    "            cases = spans.text.strip()\n",
    "    cases = cases.replace(',', '')\n",
    "    numbers = int(cases)\n",
    "    print(\"Question A - The amount of money we have spent on each covid-19 case today is $\"+ str(number / numbers))\n",
    "\n",
    "class QuestionBandC():\n",
    "    \n",
    "    def __init__(self):\n",
    "        self.dfForCountries = pd.DataFrame()\n",
    "\n",
    "    def questionB(self):\n",
    "        x = requests.get('https://www.worldometers.info/coronavirus/')\n",
    "        df=pd.read_html(x.text, match=\"\")[0]\n",
    "        df = df[1:-1]\n",
    "        self.dfForCountries = df[df[\"Population\"] != 0]\n",
    "        #dfForCountries.columns = dfForCountries.columns.str.replace(' +', '_')\n",
    "        self.dfForCountries[\"Ratio\"] = self.dfForCountries[\"TotalCases\"] / self.dfForCountries[\"Population\"] * 1000000\n",
    "        self.getData()\n",
    "        row = self.dfForCountries[self.dfForCountries.Ratio == self.dfForCountries.Ratio.min()]\n",
    "        country = list(row['Country,Other'])\n",
    "        print(\"Question B - The safest country based off of the lowest confirmed cases to population ratio is \" + str(country[0]))\n",
    "\n",
    "    def questionC(self):\n",
    "        \n",
    "        destCountries = []\n",
    "        br = Browser(headless=True)\n",
    "        br.visit('https://www.flightsfrom.com/SEA/destinations')\n",
    "        screenshot_path = br.html_snapshot(os.getcwd() + '\\\\test1.html')\n",
    "        br.quit()\n",
    "        soup = BeautifulSoup(open(screenshot_path))\n",
    "        for divs in soup.find_all('div', id='filter-country'):\n",
    "            for x in divs.find_all('md-checkbox'):\n",
    "                destCountries.append(x.contents[1].text.strip())\n",
    "\n",
    "\n",
    "        destRatio = self.dfForCountries[self.dfForCountries['Country,Other'].isin(destCountries)]\n",
    "        row = destRatio[destRatio.Ratio == destRatio.Ratio.min()]\n",
    "        safest = list(row['Country,Other'])\n",
    "        print(\"Question C - The safest place to fly to from Sea-Tac airport is \" + str(safest[0]))\n",
    "        \n",
    "    \n",
    "    def getData(self):\n",
    "        x = requests.get('https://www.worldometers.info/coronavirus/')\n",
    "        df=pd.read_html(x.text)[0]\n",
    "        df = df[1:-1]\n",
    "        self.dfForCountries = df[df[\"Population\"] != 0]\n",
    "        #dfForCountries.columns = dfForCountries.columns.str.replace(' +', '_')\n",
    "        self.dfForCountries[\"Ratio\"] = self.dfForCountries[\"TotalCases\"] / self.dfForCountries[\"Population\"] * 1000000\n",
    "        \n",
    "\n",
    "questionA()\n",
    "question = QuestionBandC()\n",
    "question.questionB()\n",
    "question.questionC()"
   ]
  },
  {
   "cell_type": "code",
   "execution_count": 27,
   "metadata": {},
   "outputs": [
    {
     "output_type": "stream",
     "name": "stdout",
     "text": "Help on function read_html in module pandas.io.html:\n\nread_html(io, match='.+', flavor=None, header=None, index_col=None, skiprows=None, attrs=None, parse_dates=False, thousands=',', encoding=None, decimal='.', converters=None, na_values=None, keep_default_na=True, displayed_only=True)\n    Read HTML tables into a ``list`` of ``DataFrame`` objects.\n    \n    Parameters\n    ----------\n    io : str, path object or file-like object\n        A URL, a file-like object, or a raw string containing HTML. Note that\n        lxml only accepts the http, ftp and file url protocols. If you have a\n        URL that starts with ``'https'`` you might try removing the ``'s'``.\n    \n    match : str or compiled regular expression, optional\n        The set of tables containing text matching this regex or string will be\n        returned. Unless the HTML is extremely simple you will probably need to\n        pass a non-empty string here. Defaults to '.+' (match any non-empty\n        string). The default value will return all tables contained on a page.\n        This value is converted to a regular expression so that there is\n        consistent behavior between Beautiful Soup and lxml.\n    \n    flavor : str or None\n        The parsing engine to use. 'bs4' and 'html5lib' are synonymous with\n        each other, they are both there for backwards compatibility. The\n        default of ``None`` tries to use ``lxml`` to parse and if that fails it\n        falls back on ``bs4`` + ``html5lib``.\n    \n    header : int or list-like or None, optional\n        The row (or list of rows for a :class:`~pandas.MultiIndex`) to use to\n        make the columns headers.\n    \n    index_col : int or list-like or None, optional\n        The column (or list of columns) to use to create the index.\n    \n    skiprows : int or list-like or slice or None, optional\n        Number of rows to skip after parsing the column integer. 0-based. If a\n        sequence of integers or a slice is given, will skip the rows indexed by\n        that sequence.  Note that a single element sequence means 'skip the nth\n        row' whereas an integer means 'skip n rows'.\n    \n    attrs : dict or None, optional\n        This is a dictionary of attributes that you can pass to use to identify\n        the table in the HTML. These are not checked for validity before being\n        passed to lxml or Beautiful Soup. However, these attributes must be\n        valid HTML table attributes to work correctly. For example, ::\n    \n            attrs = {'id': 'table'}\n    \n        is a valid attribute dictionary because the 'id' HTML tag attribute is\n        a valid HTML attribute for *any* HTML tag as per `this document\n        <http://www.w3.org/TR/html-markup/global-attributes.html>`__. ::\n    \n            attrs = {'asdf': 'table'}\n    \n        is *not* a valid attribute dictionary because 'asdf' is not a valid\n        HTML attribute even if it is a valid XML attribute.  Valid HTML 4.01\n        table attributes can be found `here\n        <http://www.w3.org/TR/REC-html40/struct/tables.html#h-11.2>`__. A\n        working draft of the HTML 5 spec can be found `here\n        <http://www.w3.org/TR/html-markup/table.html>`__. It contains the\n        latest information on table attributes for the modern web.\n    \n    parse_dates : bool, optional\n        See :func:`~read_csv` for more details.\n    \n    thousands : str, optional\n        Separator to use to parse thousands. Defaults to ``','``.\n    \n    encoding : str or None, optional\n        The encoding used to decode the web page. Defaults to ``None``.``None``\n        preserves the previous encoding behavior, which depends on the\n        underlying parser library (e.g., the parser library will try to use\n        the encoding provided by the document).\n    \n    decimal : str, default '.'\n        Character to recognize as decimal point (e.g. use ',' for European\n        data).\n    \n    converters : dict, default None\n        Dict of functions for converting values in certain columns. Keys can\n        either be integers or column labels, values are functions that take one\n        input argument, the cell (not column) content, and return the\n        transformed content.\n    \n    na_values : iterable, default None\n        Custom NA values.\n    \n    keep_default_na : bool, default True\n        If na_values are specified and keep_default_na is False the default NaN\n        values are overridden, otherwise they're appended to.\n    \n    displayed_only : bool, default True\n        Whether elements with \"display: none\" should be parsed.\n    \n    Returns\n    -------\n    dfs\n        A list of DataFrames.\n    \n    See Also\n    --------\n    read_csv\n    \n    Notes\n    -----\n    Before using this function you should read the :ref:`gotchas about the\n    HTML parsing libraries <io.html.gotchas>`.\n    \n    Expect to do some cleanup after you call this function. For example, you\n    might need to manually assign column names if the column names are\n    converted to NaN when you pass the `header=0` argument. We try to assume as\n    little as possible about the structure of the table and push the\n    idiosyncrasies of the HTML contained in the table to the user.\n    \n    This function searches for ``<table>`` elements and only for ``<tr>``\n    and ``<th>`` rows and ``<td>`` elements within each ``<tr>`` or ``<th>``\n    element in the table. ``<td>`` stands for \"table data\". This function\n    attempts to properly handle ``colspan`` and ``rowspan`` attributes.\n    If the function has a ``<thead>`` argument, it is used to construct\n    the header, otherwise the function attempts to find the header within\n    the body (by putting rows with only ``<th>`` elements into the header).\n    \n        .. versionadded:: 0.21.0\n    \n    Similar to :func:`~read_csv` the `header` argument is applied\n    **after** `skiprows` is applied.\n    \n    This function will *always* return a list of :class:`DataFrame` *or*\n    it will fail, e.g., it will *not* return an empty list.\n    \n    Examples\n    --------\n    See the :ref:`read_html documentation in the IO section of the docs\n    <io.read_html>` for some examples of reading in HTML tables.\n\nNone\n"
    }
   ],
   "source": [
    "import pandas as pd\n",
    "\n",
    "data1 = pd.read_html('https://www.worldometers.info/coronavirus/',skiprows=1)[0]\n",
    "data1=pd.DataFrame(Data)\n",
    "\n",
    "Tot Cases/1M pop\n",
    "Tot_Cases/1M pop"
   ]
  },
  {
   "cell_type": "markdown",
   "metadata": {},
   "source": [
    "# Modeling"
   ]
  },
  {
   "cell_type": "markdown",
   "metadata": {
    "ExecuteTime": {
     "end_time": "2020-04-26T16:56:18.056409Z",
     "start_time": "2020-04-26T16:56:18.050444Z"
    }
   },
   "source": [
    "To be announced. ETA: around May 20th.\n",
    "<br>Why? UI + Library templates not ready"
   ]
  },
  {
   "cell_type": "code",
   "execution_count": 33,
   "metadata": {},
   "outputs": [
    {
     "output_type": "stream",
     "name": "stdout",
     "text": "Help on function read_html in module pandas.io.html:\n\nread_html(io, match='.+', flavor=None, header=None, index_col=None, skiprows=None, attrs=None, parse_dates=False, thousands=',', encoding=None, decimal='.', converters=None, na_values=None, keep_default_na=True, displayed_only=True)\n    Read HTML tables into a ``list`` of ``DataFrame`` objects.\n    \n    Parameters\n    ----------\n    io : str, path object or file-like object\n        A URL, a file-like object, or a raw string containing HTML. Note that\n        lxml only accepts the http, ftp and file url protocols. If you have a\n        URL that starts with ``'https'`` you might try removing the ``'s'``.\n    \n    match : str or compiled regular expression, optional\n        The set of tables containing text matching this regex or string will be\n        returned. Unless the HTML is extremely simple you will probably need to\n        pass a non-empty string here. Defaults to '.+' (match any non-empty\n        string). The default value will return all tables contained on a page.\n        This value is converted to a regular expression so that there is\n        consistent behavior between Beautiful Soup and lxml.\n    \n    flavor : str or None\n        The parsing engine to use. 'bs4' and 'html5lib' are synonymous with\n        each other, they are both there for backwards compatibility. The\n        default of ``None`` tries to use ``lxml`` to parse and if that fails it\n        falls back on ``bs4`` + ``html5lib``.\n    \n    header : int or list-like or None, optional\n        The row (or list of rows for a :class:`~pandas.MultiIndex`) to use to\n        make the columns headers.\n    \n    index_col : int or list-like or None, optional\n        The column (or list of columns) to use to create the index.\n    \n    skiprows : int or list-like or slice or None, optional\n        Number of rows to skip after parsing the column integer. 0-based. If a\n        sequence of integers or a slice is given, will skip the rows indexed by\n        that sequence.  Note that a single element sequence means 'skip the nth\n        row' whereas an integer means 'skip n rows'.\n    \n    attrs : dict or None, optional\n        This is a dictionary of attributes that you can pass to use to identify\n        the table in the HTML. These are not checked for validity before being\n        passed to lxml or Beautiful Soup. However, these attributes must be\n        valid HTML table attributes to work correctly. For example, ::\n    \n            attrs = {'id': 'table'}\n    \n        is a valid attribute dictionary because the 'id' HTML tag attribute is\n        a valid HTML attribute for *any* HTML tag as per `this document\n        <http://www.w3.org/TR/html-markup/global-attributes.html>`__. ::\n    \n            attrs = {'asdf': 'table'}\n    \n        is *not* a valid attribute dictionary because 'asdf' is not a valid\n        HTML attribute even if it is a valid XML attribute.  Valid HTML 4.01\n        table attributes can be found `here\n        <http://www.w3.org/TR/REC-html40/struct/tables.html#h-11.2>`__. A\n        working draft of the HTML 5 spec can be found `here\n        <http://www.w3.org/TR/html-markup/table.html>`__. It contains the\n        latest information on table attributes for the modern web.\n    \n    parse_dates : bool, optional\n        See :func:`~read_csv` for more details.\n    \n    thousands : str, optional\n        Separator to use to parse thousands. Defaults to ``','``.\n    \n    encoding : str or None, optional\n        The encoding used to decode the web page. Defaults to ``None``.``None``\n        preserves the previous encoding behavior, which depends on the\n        underlying parser library (e.g., the parser library will try to use\n        the encoding provided by the document).\n    \n    decimal : str, default '.'\n        Character to recognize as decimal point (e.g. use ',' for European\n        data).\n    \n    converters : dict, default None\n        Dict of functions for converting values in certain columns. Keys can\n        either be integers or column labels, values are functions that take one\n        input argument, the cell (not column) content, and return the\n        transformed content.\n    \n    na_values : iterable, default None\n        Custom NA values.\n    \n    keep_default_na : bool, default True\n        If na_values are specified and keep_default_na is False the default NaN\n        values are overridden, otherwise they're appended to.\n    \n    displayed_only : bool, default True\n        Whether elements with \"display: none\" should be parsed.\n    \n    Returns\n    -------\n    dfs\n        A list of DataFrames.\n    \n    See Also\n    --------\n    read_csv\n    \n    Notes\n    -----\n    Before using this function you should read the :ref:`gotchas about the\n    HTML parsing libraries <io.html.gotchas>`.\n    \n    Expect to do some cleanup after you call this function. For example, you\n    might need to manually assign column names if the column names are\n    converted to NaN when you pass the `header=0` argument. We try to assume as\n    little as possible about the structure of the table and push the\n    idiosyncrasies of the HTML contained in the table to the user.\n    \n    This function searches for ``<table>`` elements and only for ``<tr>``\n    and ``<th>`` rows and ``<td>`` elements within each ``<tr>`` or ``<th>``\n    element in the table. ``<td>`` stands for \"table data\". This function\n    attempts to properly handle ``colspan`` and ``rowspan`` attributes.\n    If the function has a ``<thead>`` argument, it is used to construct\n    the header, otherwise the function attempts to find the header within\n    the body (by putting rows with only ``<th>`` elements into the header).\n    \n        .. versionadded:: 0.21.0\n    \n    Similar to :func:`~read_csv` the `header` argument is applied\n    **after** `skiprows` is applied.\n    \n    This function will *always* return a list of :class:`DataFrame` *or*\n    it will fail, e.g., it will *not* return an empty list.\n    \n    Examples\n    --------\n    See the :ref:`read_html documentation in the IO section of the docs\n    <io.read_html>` for some examples of reading in HTML tables.\n\nNone\n"
    }
   ],
   "source": [
    "print(help(pd.read_html))"
   ]
  },
  {
   "cell_type": "code",
   "execution_count": 72,
   "metadata": {},
   "outputs": [
    {
     "output_type": "error",
     "ename": "SyntaxError",
     "evalue": "invalid syntax (<ipython-input-72-0bf9f8bd3632>, line 1)",
     "traceback": [
      "\u001b[1;36m  File \u001b[1;32m\"<ipython-input-72-0bf9f8bd3632>\"\u001b[1;36m, line \u001b[1;32m1\u001b[0m\n\u001b[1;33m    Tot Cases/\u001b[0m\n\u001b[1;37m            ^\u001b[0m\n\u001b[1;31mSyntaxError\u001b[0m\u001b[1;31m:\u001b[0m invalid syntax\n"
     ]
    }
   ],
   "source": [
    "Tot Cases/            \n",
    "1M pop"
   ]
  },
  {
   "cell_type": "code",
   "execution_count": 1,
   "metadata": {},
   "outputs": [
    {
     "output_type": "stream",
     "name": "stdout",
     "text": "Help on built-in function print in module builtins:\n\nprint(...)\n    print(value, ..., sep=' ', end='\\n', file=sys.stdout, flush=False)\n    \n    Prints the values to a stream, or to sys.stdout by default.\n    Optional keyword arguments:\n    file:  a file-like object (stream); defaults to the current sys.stdout.\n    sep:   string inserted between values, default a space.\n    end:   string appended after the last value, default a newline.\n    flush: whether to forcibly flush the stream.\n\nNone\n"
    }
   ],
   "source": [
    "print(help(print))"
   ]
  },
  {
   "cell_type": "code",
   "execution_count": 14,
   "metadata": {},
   "outputs": [
    {
     "output_type": "stream",
     "name": "stdout",
     "text": "5905292\n"
    }
   ],
   "source": [
    "currentDir = Path(os.getcwd())\n",
    "file = currentDir/\"1.html\"\n",
    "br = Browser()\n",
    "br.visit('https://www.worldometers.info/coronavirus/')\n",
    "screenshot_path = br.html_snapshot(str(file))\n",
    "br.quit()\n",
    "moresoup = BeautifulSoup(open(screenshot_path, encoding = 'utf-8'))\n",
    "for divs in moresoup.find_all('div', id=['maincounter-wrap']):\n",
    "    for spans in divs.find_all('span', style=[\"color:#aaa\"]):\n",
    "        cases = spans.text.strip()\n",
    "cases = cases.replace(',', '')\n",
    "numbers = int(cases)\n",
    "print(numbers)"
   ]
  },
  {
   "cell_type": "code",
   "execution_count": 58,
   "metadata": {},
   "outputs": [
    {
     "output_type": "stream",
     "name": "stdout",
     "text": "[1, 2, 3, 4, 5, 6]\n"
    }
   ],
   "source": [
    "def mergeSortedList(list1, list2, sortedList = []):\n",
    "    while list1 and list2:\n",
    "        current1 = list1.pop(0)\n",
    "        current2 = list2.pop(0)\n",
    "        if current1 < current2:\n",
    "            sortedList.append(current1)\n",
    "            list2.insert(0, current2)\n",
    "        else:\n",
    "            sortedList.append(current2)\n",
    "            list1.insert(0, current1)\n",
    "\n",
    "    if not list1:\n",
    "        while list2:\n",
    "            current2 = list2.pop(0)\n",
    "            sortedList.append(current2)\n",
    "\n",
    "    if not list2:\n",
    "        while list1:\n",
    "            current1 = list21.pop(0)\n",
    "            sortedList.append(current1)\n",
    "    \n",
    "    \n",
    "\n",
    "mergeSortedList(list1=[1,3,5], list2=[2,4,6])"
   ]
  },
  {
   "cell_type": "code",
   "execution_count": null,
   "metadata": {},
   "outputs": [],
   "source": []
  }
 ],
 "metadata": {
  "kernelspec": {
   "display_name": "Python 3",
   "language": "python",
   "name": "python3"
  },
  "language_info": {
   "codemirror_mode": {
    "name": "ipython",
    "version": 3
   },
   "file_extension": ".py",
   "mimetype": "text/x-python",
   "name": "python",
   "nbconvert_exporter": "python",
   "pygments_lexer": "ipython3",
   "version": "3.7.6-final"
  },
  "toc": {
   "base_numbering": 1,
   "nav_menu": {},
   "number_sections": true,
   "sideBar": true,
   "skip_h1_title": false,
   "title_cell": "Table of Contents",
   "title_sidebar": "Contents",
   "toc_cell": false,
   "toc_position": {
    "height": "calc(100% - 180px)",
    "left": "10px",
    "top": "150px",
    "width": "165px"
   },
   "toc_section_display": true,
   "toc_window_display": true
  }
 },
 "nbformat": 4,
 "nbformat_minor": 4
}