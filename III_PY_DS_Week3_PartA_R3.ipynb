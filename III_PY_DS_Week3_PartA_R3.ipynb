{
 "cells": [
  {
   "cell_type": "markdown",
   "metadata": {},
   "source": [
    "<font size=6 bold=true>Dec 21 -- Part A: R3</font>\n",
    "# Review Your Understanding"
   ]
  },
  {
   "cell_type": "markdown",
   "metadata": {},
   "source": [
    "## Allen:\n",
    "<b>Teach us about set and give us a challenge question: </b>"
   ]
  },
  {
   "cell_type": "code",
   "execution_count": 1,
   "metadata": {
    "ExecuteTime": {
     "end_time": "2019-12-19T03:59:56.202322Z",
     "start_time": "2019-12-19T03:59:56.198321Z"
    }
   },
   "outputs": [],
   "source": [
    "# Put your question to challenge us here: \n",
    "\n"
   ]
  },
  {
   "cell_type": "markdown",
   "metadata": {},
   "source": [
    "## Angus:\n",
    "<b>explain us: setUlrs=set(\"http://www.ucla.edu\") </b>"
   ]
  },
  {
   "cell_type": "code",
   "execution_count": 3,
   "metadata": {
    "ExecuteTime": {
     "end_time": "2019-12-19T04:04:58.060373Z",
     "start_time": "2019-12-19T04:04:58.057377Z"
    }
   },
   "outputs": [],
   "source": [
    "# Is this a correct way to declare a set and why.\n",
    "\n"
   ]
  },
  {
   "cell_type": "markdown",
   "metadata": {},
   "source": [
    "## Jason:\n",
    "<b>Optional: since you don't take python</b>\n",
    "<b>explain us the while loop </b>"
   ]
  },
  {
   "cell_type": "code",
   "execution_count": 7,
   "metadata": {
    "ExecuteTime": {
     "end_time": "2019-12-19T04:06:23.254268Z",
     "start_time": "2019-12-19T04:06:23.250271Z"
    }
   },
   "outputs": [],
   "source": [
    "# explain here:\n",
    "\n",
    "\n"
   ]
  },
  {
   "cell_type": "markdown",
   "metadata": {},
   "source": [
    "## Wilson:\n",
    "<b>You had the errors when crawling https://www.stanford.edu. Teach us how to catch the error (hint: chapter 3.7</b>"
   ]
  },
  {
   "cell_type": "code",
   "execution_count": null,
   "metadata": {},
   "outputs": [],
   "source": [
    "# write a block of codes here and explain. \n",
    "\n",
    "\n"
   ]
  },
  {
   "cell_type": "markdown",
   "metadata": {},
   "source": [
    "## Zilin: \n",
    "<b>explain and teach us: unvisited_url=(unique_urls-visited_urls-unables).pop() </b>"
   ]
  },
  {
   "cell_type": "code",
   "execution_count": 8,
   "metadata": {
    "ExecuteTime": {
     "end_time": "2019-12-19T04:15:50.885225Z",
     "start_time": "2019-12-19T04:15:50.882263Z"
    }
   },
   "outputs": [],
   "source": [
    "# explain here and give us a challenge/similar question\n",
    "\n",
    "\n"
   ]
  },
  {
   "cell_type": "markdown",
   "metadata": {},
   "source": [
    "# Chapter Chapter Chapter  \n",
    "<font size=5 color='darkgreen'> Student: please prepare for a five minutes reviewing for the following chapters</font>\n",
    "<b><ul>\n",
    "<li>List: Chapter 8 -------------<font color='red'> Jason. Optional since Jason doesn't choose Python. </font></li>\n",
    "<li>Functions: Chapter 4------------- Allen</li>\n",
    "<li>Iterations: Chapter 5------------- Zilin</li>\n",
    "<li>Conditions and Logics: Chapter 3------------- Wilson</li>\n",
    "<li>Exception Handling: Chapter 3.7------------- Angus</li>\n",
    "<li>DS Queue: Chapter 3------------- Allen: it is OK to pseudo language to explain </li>\n",
    "</ul></b>"
   ]
  },
  {
   "cell_type": "markdown",
   "metadata": {},
   "source": [
    "## Teacher's Review on these five Python chapters\n"
   ]
  },
  {
   "cell_type": "code",
   "execution_count": 11,
   "metadata": {
    "ExecuteTime": {
     "end_time": "2019-12-19T04:30:45.497829Z",
     "start_time": "2019-12-19T04:30:45.493829Z"
    }
   },
   "outputs": [],
   "source": [
    "#List\n",
    "\n",
    "#Function\n",
    "\n",
    "#Iteration\n",
    "\n",
    "#Conditions and Logics\n",
    "\n",
    "#Exceptoin Handling\n",
    "\n"
   ]
  },
  {
   "cell_type": "markdown",
   "metadata": {},
   "source": [
    "## Little Quiz and what needs to be re-reviewed for which student"
   ]
  },
  {
   "cell_type": "code",
   "execution_count": 7,
   "metadata": {
    "ExecuteTime": {
     "end_time": "2019-12-19T04:32:27.164347Z",
     "start_time": "2019-12-19T04:32:27.160315Z"
    }
   },
   "outputs": [
    {
     "name": "stdout",
     "output_type": "stream",
     "text": [
      "373\n"
     ]
    }
   ],
   "source": [
    "'*******************************************************************'\n",
    "list1 = [3,4,5,6,7,8,1,3,3,4,21,345]\n",
    "list2 = []\n",
    "for num in list1:\n",
    "    if num % 2 == 1 and num > 5:\n",
    "        list2.append(num)\n",
    "print(sum(list2))\n",
    "    "
   ]
  },
  {
   "cell_type": "markdown",
   "metadata": {},
   "source": [
    "# Show Time! \n",
    "<b>Show and explain your improvement on the code. or different way of doing things </b>"
   ]
  },
  {
   "cell_type": "code",
   "execution_count": null,
   "metadata": {},
   "outputs": [],
   "source": [
    "#Allen:\n",
    "#Angus:\n",
    "#Jason:\n",
    "#Wilson:\n",
    "#Zilin:"
   ]
  },
  {
   "cell_type": "code",
   "execution_count": 24,
   "metadata": {},
   "outputs": [
    {
     "name": "stdout",
     "output_type": "stream",
     "text": [
      "['Wilson', 'Emmaw']\n"
     ]
    }
   ],
   "source": [
    "names= ['Angus', \"Allen\", 'Jason', 'Wilson', 'Zilin', 'Emmaw'] \n",
    "[n for n in names if 'w' in n.lower()]\n",
    "\n",
    "\n",
    "\n",
    "\n"
   ]
  },
  {
   "cell_type": "code",
   "execution_count": null,
   "metadata": {},
   "outputs": [],
   "source": []
  },
  {
   "cell_type": "code",
   "execution_count": null,
   "metadata": {},
   "outputs": [],
   "source": []
  }
 ],
 "metadata": {
  "kernelspec": {
   "display_name": "Python 3",
   "language": "python",
   "name": "python3"
  },
  "language_info": {
   "codemirror_mode": {
    "name": "ipython",
    "version": 3
   },
   "file_extension": ".py",
   "mimetype": "text/x-python",
   "name": "python",
   "nbconvert_exporter": "python",
   "pygments_lexer": "ipython3",
   "version": "3.7.4"
  },
  "toc": {
   "base_numbering": 1,
   "nav_menu": {},
   "number_sections": true,
   "sideBar": true,
   "skip_h1_title": false,
   "title_cell": "Table of Contents",
   "title_sidebar": "Contents",
   "toc_cell": false,
   "toc_position": {
    "height": "calc(100% - 180px)",
    "left": "10px",
    "top": "150px",
    "width": "165px"
   },
   "toc_section_display": true,
   "toc_window_display": true
  }
 },
 "nbformat": 4,
 "nbformat_minor": 2
}
