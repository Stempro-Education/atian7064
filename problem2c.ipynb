{
 "cells": [
  {
   "cell_type": "code",
   "execution_count": 4,
   "metadata": {},
   "outputs": [
    {
     "name": "stdout",
     "output_type": "stream",
     "text": [
      "[97 58 81 50 42 21 53 98 34 90 18 88 67 84 80 99 41 97 61 43 21 25 54 20\n",
      " 22 53 98 28 72 96 51 73 50 98 24 12 99 49 63 67  3 58 40 54 97 78 95 17\n",
      " 63 18 88 44 13 50 67 26 56 58 67 97 38 30  3 40  0 76 92 48 24 93 78  5\n",
      " 82 24 87 24 38 70 42 85 11 74 65 51 70 95 19 91 17 71 13 10 69 36 67 10\n",
      " 30  6 15 58]\n"
     ]
    }
   ],
   "source": [
    "import numpy as np\n",
    "np.random.seed(132)\n",
    "lotteries=np.random.randint(101, size=100)\n",
    "print(lotteries)\n",
    "print(sum(lotteries))"
   ]
  },
  {
   "cell_type": "code",
   "execution_count": null,
   "metadata": {},
   "outputs": [],
   "source": []
  }
 ],
 "metadata": {
  "kernelspec": {
   "display_name": "Python 3",
   "language": "python",
   "name": "python3"
  },
  "language_info": {
   "codemirror_mode": {
    "name": "ipython",
    "version": 3
   },
   "file_extension": ".py",
   "mimetype": "text/x-python",
   "name": "python",
   "nbconvert_exporter": "python",
   "pygments_lexer": "ipython3",
   "version": "3.7.4"
  }
 },
 "nbformat": 4,
 "nbformat_minor": 2
}
