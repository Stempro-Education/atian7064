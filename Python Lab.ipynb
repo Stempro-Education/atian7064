{
 "cells": [
  {
   "cell_type": "code",
   "execution_count": 2,
   "metadata": {
    "ExecuteTime": {
     "end_time": "2019-11-17T07:30:53.438600Z",
     "start_time": "2019-11-17T07:30:53.435602Z"
    }
   },
   "outputs": [],
   "source": [
    "import os\n",
    "import pprint\n",
    "import json"
   ]
  },
  {
   "cell_type": "markdown",
   "metadata": {},
   "source": [
    "# Print\n",
    "think this way: what you want to complete/finish"
   ]
  },
  {
   "cell_type": "code",
   "execution_count": 12,
   "metadata": {
    "ExecuteTime": {
     "end_time": "2019-11-17T07:30:54.914520Z",
     "start_time": "2019-11-17T07:30:54.908523Z"
    }
   },
   "outputs": [
    {
     "name": "stdout",
     "output_type": "stream",
     "text": [
      "[   ['spam', 'eggs', 'lumberjack', 'knights', 'ni'],\n",
      "    'spam',\n",
      "    'eggs',\n",
      "    'lumberjack',\n",
      "    'knights',\n",
      "    'ni']\n"
     ]
    }
   ],
   "source": [
    "stuff = ['spam', 'eggs', 'lumberjack', 'knights', 'ni']\n",
    "stuff.insert(0, stuff[:])\n",
    "pp = pprint.PrettyPrinter(indent=4)\n",
    "pp.pprint(stuff)"
   ]
  },
  {
   "cell_type": "code",
   "execution_count": 4,
   "metadata": {
    "ExecuteTime": {
     "end_time": "2019-11-17T07:31:29.370915Z",
     "start_time": "2019-11-17T07:31:29.180576Z"
    }
   },
   "outputs": [
    {
     "name": "stdout",
     "output_type": "stream",
     "text": [
      "{'author': 'The Python Packaging Authority',\n",
      " 'author_email': 'pypa-dev@googlegroups.com',\n",
      " 'bugtrack_url': None,\n",
      " 'classifiers': ['Development Status :: 3 - Alpha',\n",
      "                 'Intended Audience :: Developers',\n",
      "                 'License :: OSI Approved :: MIT License',\n",
      "                 'Programming Language :: Python :: 2',\n",
      "                 'Programming Language :: Python :: 2.7',\n",
      "                 'Programming Language :: Python :: 3',\n",
      "                 'Programming Language :: Python :: 3.5',\n",
      "                 'Programming Language :: Python :: 3.6',\n",
      "                 'Programming Language :: Python :: 3.7',\n",
      "                 'Programming Language :: Python :: 3.8',\n",
      "                 'Topic :: Software Development :: Build Tools'],\n",
      " 'description': '# A sample Python project\\n'\n",
      "                '\\n'\n",
      "                'A sample project that exists as an aid to the [Python '\n",
      "                'Packaging User\\n'\n",
      "                \"Guide][packaging guide]'s [Tutorial on Packaging and \"\n",
      "                'Distributing\\n'\n",
      "                'Projects][distribution tutorial].\\n'\n",
      "                '\\n'\n",
      "                'This project does not aim to cover best practices for Python '\n",
      "                'project\\n'\n",
      "                'development as a whole. For example, it does not provide '\n",
      "                'guidance or tool\\n'\n",
      "                'recommendations for version control, documentation, or '\n",
      "                'testing.\\n'\n",
      "                '\\n'\n",
      "                '[The source for this project is available here][src].\\n'\n",
      "                '\\n'\n",
      "                'Most of the configuration for a Python project is done in the '\n",
      "                '`setup.py` file,\\n'\n",
      "                'an example of which is included in this project. You should '\n",
      "                'edit this file\\n'\n",
      "                'accordingly to adapt this sample project to your needs.\\n'\n",
      "                '\\n'\n",
      "                '----\\n'\n",
      "                '\\n'\n",
      "                'This is the README file for the project.\\n'\n",
      "                '\\n'\n",
      "                'The file should use UTF-8 encoding and can be written using\\n'\n",
      "                '[reStructuredText][rst] or [markdown][md use] with the '\n",
      "                'appropriate [key set][md\\n'\n",
      "                'use]. It will be used to generate the project webpage on PyPI '\n",
      "                'and will be\\n'\n",
      "                'displayed as the project homepage on common code-hosting '\n",
      "                'services, and should be\\n'\n",
      "                'written for that purpose.\\n'\n",
      "                '\\n'\n",
      "                'Typical contents for this file would include an overview of '\n",
      "                'the project, basic\\n'\n",
      "                'usage examples, etc. Generally, including the project '\n",
      "                'changelog in here is not a\\n'\n",
      "                \"good idea, although a simple “What's New” section for the \"\n",
      "                'most recent version\\n'\n",
      "                'may be appropriate.\\n'\n",
      "                '\\n'\n",
      "                '[packaging guide]: https://packaging.python.org\\n'\n",
      "                '[distribution tutorial]: '\n",
      "                'https://packaging.python.org/tutorials/packaging-projects/\\n'\n",
      "                '[src]: https://github.com/pypa/sampleproject\\n'\n",
      "                '[rst]: http://docutils.sourceforge.net/rst.html\\n'\n",
      "                '[md]: https://tools.ietf.org/html/rfc7764#section-3.5 '\n",
      "                '\"CommonMark variant\"\\n'\n",
      "                '[md use]: '\n",
      "                'https://packaging.python.org/specifications/core-metadata/#description-content-type-optional\\n'\n",
      "                '\\n'\n",
      "                '\\n',\n",
      " 'description_content_type': 'text/markdown',\n",
      " 'docs_url': None,\n",
      " 'download_url': '',\n",
      " 'downloads': {'last_day': -1, 'last_month': -1, 'last_week': -1},\n",
      " 'home_page': 'https://github.com/pypa/sampleproject',\n",
      " 'keywords': 'sample setuptools development',\n",
      " 'license': '',\n",
      " 'maintainer': '',\n",
      " 'maintainer_email': '',\n",
      " 'name': 'sampleproject',\n",
      " 'package_url': 'https://pypi.org/project/sampleproject/',\n",
      " 'platform': '',\n",
      " 'project_url': 'https://pypi.org/project/sampleproject/',\n",
      " 'project_urls': {'Bug Reports': 'https://github.com/pypa/sampleproject/issues',\n",
      "                  'Funding': 'https://donate.pypi.org',\n",
      "                  'Homepage': 'https://github.com/pypa/sampleproject',\n",
      "                  'Say Thanks!': 'http://saythanks.io/to/example',\n",
      "                  'Source': 'https://github.com/pypa/sampleproject/'},\n",
      " 'release_url': 'https://pypi.org/project/sampleproject/1.3.1/',\n",
      " 'requires_dist': ['peppercorn',\n",
      "                   \"check-manifest ; extra == 'dev'\",\n",
      "                   \"coverage ; extra == 'test'\"],\n",
      " 'requires_python': '>=2.7, !=3.0.*, !=3.1.*, !=3.2.*, !=3.3.*, !=3.4.*, <4',\n",
      " 'summary': 'A sample Python project',\n",
      " 'version': '1.3.1'}\n"
     ]
    }
   ],
   "source": [
    "from urllib.request import urlopen\n",
    "with urlopen('https://pypi.org/pypi/sampleproject/json') as resp:\n",
    "    project_info = json.load(resp)['info']   \n",
    "pprint.pprint(project_info)"
   ]
  },
  {
   "cell_type": "markdown",
   "metadata": {
    "ExecuteTime": {
     "end_time": "2019-11-17T07:47:32.442559Z",
     "start_time": "2019-11-17T07:47:24.800914Z"
    }
   },
   "source": [
    "# input "
   ]
  },
  {
   "cell_type": "code",
   "execution_count": 15,
   "metadata": {
    "ExecuteTime": {
     "start_time": "2019-11-17T07:48:39.103Z"
    }
   },
   "outputs": [
    {
     "name": "stdout",
     "output_type": "stream",
     "text": [
      "Enter first numbera\n"
     ]
    },
    {
     "ename": "ValueError",
     "evalue": "invalid literal for int() with base 10: 'a'",
     "output_type": "error",
     "traceback": [
      "\u001b[1;31m---------------------------------------------------------------------------\u001b[0m",
      "\u001b[1;31mValueError\u001b[0m                                Traceback (most recent call last)",
      "\u001b[1;32m<ipython-input-15-8a67ae94dd8f>\u001b[0m in \u001b[0;36m<module>\u001b[1;34m\u001b[0m\n\u001b[1;32m----> 1\u001b[1;33m \u001b[0mfirst_number\u001b[0m \u001b[1;33m=\u001b[0m \u001b[0mint\u001b[0m \u001b[1;33m(\u001b[0m \u001b[0minput\u001b[0m \u001b[1;33m(\u001b[0m\u001b[1;34m\"Enter first number\"\u001b[0m\u001b[1;33m)\u001b[0m \u001b[1;33m)\u001b[0m\u001b[1;33m\u001b[0m\u001b[1;33m\u001b[0m\u001b[0m\n\u001b[0m\u001b[0;32m      2\u001b[0m \u001b[0msecond_number\u001b[0m \u001b[1;33m=\u001b[0m \u001b[0mint\u001b[0m \u001b[1;33m(\u001b[0m \u001b[0minput\u001b[0m \u001b[1;33m(\u001b[0m\u001b[1;34m\"Enter second number\"\u001b[0m\u001b[1;33m)\u001b[0m \u001b[1;33m)\u001b[0m\u001b[1;33m\u001b[0m\u001b[1;33m\u001b[0m\u001b[0m\n\u001b[0;32m      3\u001b[0m \u001b[1;33m\u001b[0m\u001b[0m\n\u001b[0;32m      4\u001b[0m \u001b[0msum\u001b[0m \u001b[1;33m=\u001b[0m \u001b[0mfirst_number\u001b[0m \u001b[1;33m+\u001b[0m \u001b[0msecond_number\u001b[0m\u001b[1;33m\u001b[0m\u001b[1;33m\u001b[0m\u001b[0m\n\u001b[0;32m      5\u001b[0m \u001b[1;33m\u001b[0m\u001b[0m\n",
      "\u001b[1;31mValueError\u001b[0m: invalid literal for int() with base 10: 'a'"
     ]
    }
   ],
   "source": [
    "first_number = int ( input (\"Enter first number\") )\n",
    "second_number = int ( input (\"Enter second number\") )\n",
    "\n",
    "sum = first_number + second_number\n",
    "\n",
    "print(\"Addition of two number is: \", sum)\n",
    "##print('FirstName - {0}, LastName - {1}'.format('Ault', 'Kelly'))"
   ]
  },
  {
   "cell_type": "markdown",
   "metadata": {
    "ExecuteTime": {
     "start_time": "2019-11-17T07:54:20.290Z"
    }
   },
   "source": [
    "## question for advanced level:\n",
    "what if i don't want to see the error message?\n",
    "    "
   ]
  },
  {
   "cell_type": "code",
   "execution_count": 16,
   "metadata": {
    "ExecuteTime": {
     "end_time": "2019-11-17T08:13:48.423986Z",
     "start_time": "2019-11-17T08:13:48.421022Z"
    }
   },
   "outputs": [],
   "source": [
    "def inputNumber(message):\n",
    "  while True:\n",
    "    try:\n",
    "       userInput = int(input(message))       \n",
    "    except ValueError:\n",
    "       print(\"Not an integer! Try again.\")\n",
    "       continue\n",
    "    else:\n",
    "       return userInput \n",
    "       break  "
   ]
  },
  {
   "cell_type": "code",
   "execution_count": 17,
   "metadata": {
    "ExecuteTime": {
     "end_time": "2019-11-17T08:14:01.974911Z",
     "start_time": "2019-11-17T08:13:58.364912Z"
    }
   },
   "outputs": [
    {
     "name": "stdout",
     "output_type": "stream",
     "text": [
      "fbf\n",
      "Not an integer! Try again.\n",
      "fbdw\n",
      "Not an integer! Try again.\n",
      "fb432.3214\n",
      "Not an integer! Try again.\n",
      "fbdsfwe\n",
      "Not an integer! Try again.\n",
      "fbfa\n",
      "Not an integer! Try again.\n",
      "fb\n",
      "Not an integer! Try again.\n",
      "fbf\n",
      "Not an integer! Try again.\n",
      "fbew\n",
      "Not an integer! Try again.\n",
      "fbf\n",
      "Not an integer! Try again.\n",
      "fbwef\n",
      "Not an integer! Try again.\n",
      "fb\n",
      "Not an integer! Try again.\n",
      "fbew\n",
      "Not an integer! Try again.\n",
      "fb\n",
      "Not an integer! Try again.\n",
      "fbewf\n",
      "Not an integer! Try again.\n",
      "fb\n",
      "Not an integer! Try again.\n",
      "fb877\n"
     ]
    },
    {
     "data": {
      "text/plain": [
       "877"
      ]
     },
     "execution_count": 17,
     "metadata": {},
     "output_type": "execute_result"
    }
   ],
   "source": [
    "inputNumber('fb')"
   ]
  },
  {
   "cell_type": "markdown",
   "metadata": {},
   "source": [
    "## what if i want to enter my password?\n",
    "question: if passord in password123, then print out a success message"
   ]
  },
  {
   "cell_type": "code",
   "execution_count": 20,
   "metadata": {
    "ExecuteTime": {
     "end_time": "2019-11-17T08:08:28.695216Z",
     "start_time": "2019-11-17T08:08:28.693220Z"
    }
   },
   "outputs": [],
   "source": [
    "import getpass "
   ]
  },
  {
   "cell_type": "code",
   "execution_count": 21,
   "metadata": {
    "ExecuteTime": {
     "end_time": "2019-11-17T08:08:36.567653Z",
     "start_time": "2019-11-17T08:08:29.476944Z"
    }
   },
   "outputs": [
    {
     "name": "stdout",
     "output_type": "stream",
     "text": [
      "········\n"
     ]
    }
   ],
   "source": [
    "user = getpass.getuser() \n",
    "pw=getpass.getpass() "
   ]
  },
  {
   "cell_type": "markdown",
   "metadata": {},
   "source": [
    "# string operation\n",
    "## Arranging characters giving precedence to lowercase letters"
   ]
  },
  {
   "cell_type": "code",
   "execution_count": 1,
   "metadata": {
    "ExecuteTime": {
     "end_time": "2019-11-17T08:19:10.192461Z",
     "start_time": "2019-11-17T08:19:10.187475Z"
    }
   },
   "outputs": [
    {
     "name": "stdout",
     "output_type": "stream",
     "text": [
      "\n",
      " arranging characters giving precedence to lowercase letters:\n",
      "yaivePNT\n"
     ]
    }
   ],
   "source": [
    "inputStr = \"PyNaTive\"\n",
    "words = inputStr.split()\n",
    "lower = []\n",
    "upper = []\n",
    "for char in inputStr:\n",
    "    if char.islower():\n",
    "        lower.append(char)\n",
    "    else:\n",
    "        upper.append(char)\n",
    "sortedString = ''.join(lower + upper)\n",
    "print(\"\\n arranging characters giving precedence to lowercase letters:\")\n",
    "print(sortedString)"
   ]
  },
  {
   "cell_type": "code",
   "execution_count": 25,
   "metadata": {},
   "outputs": [
    {
     "name": "stdout",
     "output_type": "stream",
     "text": [
      "\\n\n"
     ]
    }
   ],
   "source": [
    "print(\"\\\\n\")"
   ]
  },
  {
   "cell_type": "markdown",
   "metadata": {},
   "source": [
    "## in a string, count num, dig, symbox"
   ]
  },
  {
   "cell_type": "code",
   "execution_count": null,
   "metadata": {
    "ExecuteTime": {
     "end_time": "2019-11-17T08:23:41.148774Z",
     "start_time": "2019-11-17T08:23:38.482580Z"
    }
   },
   "outputs": [],
   "source": [
    "inputString=input('please enter a string') \n",
    "charCount = 0\n",
    "digitCount = 0\n",
    "symbolCount = 0\n",
    "for char in inputString:\n",
    "    if char.islower() or char.isupper():\n",
    "      charCount+=1\n",
    "    elif char.isnumeric():\n",
    "      digitCount+=1\n",
    "    else:\n",
    "      symbolCount+=1\n",
    "\n",
    "print(\"total counts of chars, digits,and symbols\") \n",
    "print(\"Chars = \", charCount, \"Digits = \", digitCount, \"Symbol = \", symbolCount)\n",
    "       \n"
   ]
  },
  {
   "cell_type": "markdown",
   "metadata": {},
   "source": [
    "### advance: write a function"
   ]
  },
  {
   "cell_type": "code",
   "execution_count": null,
   "metadata": {
    "ExecuteTime": {
     "end_time": "2019-11-17T08:24:28.414877Z",
     "start_time": "2019-11-17T08:24:28.408875Z"
    }
   },
   "outputs": [],
   "source": [
    "def findDigitsCharsSymbols(inputString): \n",
    "  charCount = 0\n",
    "  digitCount = 0\n",
    "  symbolCount = 0\n",
    "  for char in inputString:\n",
    "    if char.islower() or char.isupper():\n",
    "      charCount+=1\n",
    "    elif char.isnumeric():\n",
    "      digitCount+=1\n",
    "    else:\n",
    "      symbolCount+=1\n",
    "      \n",
    "  print(\"Chars = \", charCount, \"Digits = \", digitCount, \"Symbol = \", symbolCount)\n",
    "      \n",
    "inputString = \"P@#yn26at^&i5ve\"\n",
    "print(\"total counts of chars, digits,and symbols\")\n",
    "print(findDigitsCharsSymbols(inputString))"
   ]
  },
  {
   "cell_type": "markdown",
   "metadata": {},
   "source": [
    "# extract number from strings\n",
    "## this is my report card: \n",
    "Physics: 4.0, English:3.3, Chinese: 3.9, Precalculus: 3.5\n",
    "what is my averge gpa?"
   ]
  },
  {
   "cell_type": "code",
   "execution_count": 2,
   "metadata": {
    "ExecuteTime": {
     "end_time": "2019-11-19T05:44:31.437523Z",
     "start_time": "2019-11-19T05:44:31.432523Z"
    }
   },
   "outputs": [
    {
     "name": "stdout",
     "output_type": "stream",
     "text": [
      "My avg gpa is       3.67\n",
      "My avg gpa is 3.67\n",
      "My avg gpa is 3.675\n"
     ]
    }
   ],
   "source": [
    "# hard code:\n",
    "total, nsubjects=0,0\n",
    "total+=4.0\n",
    "total+=3.3\n",
    "total+=3.9\n",
    "total+=3.5\n",
    "nsubjects=4\n",
    "\n",
    "avg=total/nsubjects\n",
    "print('My avg gpa is {:10.2f}'.format(avg))\n",
    "print('My avg gpa is {:.2f}'.format(avg))\n",
    "print('My avg gpa is {}'.format(avg))"
   ]
  },
  {
   "cell_type": "markdown",
   "metadata": {},
   "source": [
    "## advanced. not hard-coded way?"
   ]
  },
  {
   "cell_type": "code",
   "execution_count": 3,
   "metadata": {
    "ExecuteTime": {
     "end_time": "2019-11-19T05:44:34.095515Z",
     "start_time": "2019-11-19T05:44:34.088516Z"
    }
   },
   "outputs": [
    {
     "name": "stdout",
     "output_type": "stream",
     "text": [
      "[4.0, 3.3, 3.9, 3.5]\n",
      "Total Marks is: 14.7 Percentage is  3.675\n"
     ]
    }
   ],
   "source": [
    "import re\n",
    "\n",
    "myReportCard = \"Physics: 4.0, English:3.3, Chinese: 3.9, Precalculus: 3.5 what is my averge gpa?\"\n",
    "scoreList = [float(num) for num in re.findall(r'-?\\d+\\.?\\d*', myReportCard)]\n",
    "print(scoreList)\n",
    "total = 0.0\n",
    "for scroe in scoreList:\n",
    "    total+=scroe\n",
    "\n",
    "percentage = total/len(scoreList)  \n",
    "print(\"Total Marks is:\", total, \"Percentage is \", percentage) "
   ]
  },
  {
   "cell_type": "markdown",
   "metadata": {
    "ExecuteTime": {
     "end_time": "2019-11-17T08:34:08.347987Z",
     "start_time": "2019-11-17T08:34:08.344987Z"
    }
   },
   "source": [
    "# what if for a whole classroom?"
   ]
  },
  {
   "cell_type": "code",
   "execution_count": null,
   "metadata": {
    "ExecuteTime": {
     "end_time": "2019-11-17T15:28:14.701239Z",
     "start_time": "2019-11-17T15:28:14.698211Z"
    }
   },
   "outputs": [],
   "source": [
    "# variable, control structure, data structure, syntax, tools\n"
   ]
  },
  {
   "cell_type": "code",
   "execution_count": null,
   "metadata": {},
   "outputs": [],
   "source": []
  }
 ],
 "metadata": {
  "kernelspec": {
   "display_name": "Python 3",
   "language": "python",
   "name": "python3"
  },
  "language_info": {
   "codemirror_mode": {
    "name": "ipython",
    "version": 3
   },
   "file_extension": ".py",
   "mimetype": "text/x-python",
   "name": "python",
   "nbconvert_exporter": "python",
   "pygments_lexer": "ipython3",
   "version": "3.7.4"
  },
  "toc": {
   "base_numbering": 1,
   "nav_menu": {},
   "number_sections": true,
   "sideBar": true,
   "skip_h1_title": false,
   "title_cell": "Table of Contents",
   "title_sidebar": "Contents",
   "toc_cell": false,
   "toc_position": {},
   "toc_section_display": true,
   "toc_window_display": true
  }
 },
 "nbformat": 4,
 "nbformat_minor": 2
}
