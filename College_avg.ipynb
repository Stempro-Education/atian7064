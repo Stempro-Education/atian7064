{
 "cells": [
  {
   "cell_type": "code",
   "execution_count": 4,
   "metadata": {
    "scrolled": true
   },
   "outputs": [],
   "source": [
    "def avg_enroll(**data):\n",
    "    total=0\n",
    "    n=len(data)\n",
    "    for key, value in data.items():\n",
    "        total+=value\n",
    "    return total/n, n\n",
    "avg,numberOfColleges = avg_enroll(MIT = 11376, Stanford = 16914, Princeton= 8623,  Caltech= 2238)"
   ]
  },
  {
   "cell_type": "code",
   "execution_count": 5,
   "metadata": {},
   "outputs": [
    {
     "name": "stdout",
     "output_type": "stream",
     "text": [
      "The average amount of students at these 4 colleges is 9787.75 students.\n"
     ]
    }
   ],
   "source": [
    "print(\"The average amount of students at these {} colleges is {} students.\".format(numberOfColleges, avg))"
   ]
  },
  {
   "cell_type": "code",
   "execution_count": null,
   "metadata": {},
   "outputs": [],
   "source": []
  }
 ],
 "metadata": {
  "kernelspec": {
   "display_name": "Python 3",
   "language": "python",
   "name": "python3"
  },
  "language_info": {
   "codemirror_mode": {
    "name": "ipython",
    "version": 3
   },
   "file_extension": ".py",
   "mimetype": "text/x-python",
   "name": "python",
   "nbconvert_exporter": "python",
   "pygments_lexer": "ipython3",
   "version": "3.7.4"
  }
 },
 "nbformat": 4,
 "nbformat_minor": 2
}
