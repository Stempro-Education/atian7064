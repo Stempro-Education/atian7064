{
 "cells": [
  {
   "cell_type": "code",
   "execution_count": 27,
   "metadata": {},
   "outputs": [],
   "source": [
    "import re \n",
    "import spacy  \n",
    "from spacy import displacy \n",
    "import en_core_web_sm \n",
    "from pathlib import Path \n",
    "from IPython.display import display, Markdown, Latex\n",
    "import sys \n",
    "import csv \n",
    "import pandas as pd \n",
    "import numpy as np \n",
    "import os \n",
    "from os import path \n",
    "from datetime import datetime \n",
    "from urllib.parse import urlparse, urljoin \n",
    "import requests \n",
    "import ntpath \n",
    "from bs4 import BeautifulSoup, Comment \n",
    "import time \n",
    "from pprint import pprint  \n",
    "import shutil \n",
    "import tldextract \n",
    "import multiprocessing \n",
    "from multiprocessing import Process, Queue, cpu_count \n",
    "import os \n",
    "from os import path, listdir\n",
    "###\n",
    "from IPython.core.debugger import set_trace\n",
    "import random\n",
    "from fractions import Fraction"
   ]
  },
  {
   "cell_type": "code",
   "execution_count": 28,
   "metadata": {
    "ExecuteTime": {
     "end_time": "2020-01-19T21:36:19.317874Z",
     "start_time": "2020-01-19T21:36:19.309877Z"
    },
    "scrolled": true
   },
   "outputs": [
    {
     "data": {
      "text/markdown": [
       "\n",
       "# Midterm Project Learning Status Check\n",
       "## <font color=\"red\">Due: Feb 1, 2020</font>\n",
       "## Open Book Midterm:\n",
       "<ol>\n",
       "    <li><b>(200 Points)Project Statement</b><br>: What are we doing? and in high level, how we are doing it <br>You may review Phase I/II PowerPoints.<br>Words limit: 500 \n",
       "    <br></li>\n",
       "    <br><li><b>(200 Points)Impersonate and Search</b><br>:Sign in US News Compass and conduct 3 to 5 searches. <br> Save the results to HTML files (one file per search) \n",
       "    <br><a href=\"https://premium.usnews.com/best-colleges/myfit?gpa=4.0&mode=table&sat-composite=1580\">Compass Search</a>\n",
       "    <br>A sample file from search may look like this: <br>\n",
       "    <a href='./img/OneSampleCompassHtml.html'> One Sample file</a>\n",
       "    </li>\n",
       "    <br><li><b>(800 Points)Python and Content</b><br>Design and Implement a Class to extrat result from pages generated \n",
       "    from previous question. <br>Ideal output format should reflect at the following information:  </li>\n",
       "    <br> Search Criteria: <br><img src=\"./img/CompassSearchFields.PNG\" width=\"500\"/>\n",
       "    <br> Search Results: <br><img src=\"./img/CompassSearchResults.PNG\" width=\"500\"/></li>\n",
       "    <br><li><b>(400 Points)Scratching NLTK</b><br>Crawl the following page<br>\n",
       "    <a href=\"https://www.nme.com/features/greta-thunberg-full-speech-to-the-un-2019-climate-change-summit-2550824\">Greta Thunberg UN Speech</a></li>\n",
       "    <br> Tasks: \n",
       "    <br><ul>\n",
       "        <li>Get the content of her speech</li>\n",
       "        <li>Build a dataset that list all words in this speech and how many times each word appears</li>\n",
       "        <li>Sort the list of words by <br>a).Alphabetically. <br> b). by frequency\n",
       "        <li>Lemmatize all words</li>\n",
       "        <li>Choose ~30 \"difficult\" words and get the synonyms and antoyms for them.</li> \n",
       "    </ul>\n",
       "    </li>\n",
       "</ol>\n"
      ],
      "text/plain": [
       "<IPython.core.display.Markdown object>"
      ]
     },
     "metadata": {},
     "output_type": "display_data"
    }
   ],
   "source": [
    "from IPython.display import display, Markdown, Image\n",
    "display(Markdown(\n",
    "\"\"\"\n",
    "# Midterm Project Learning Status Check\n",
    "## <font color=\"red\">Due: Feb 1, 2020</font>\n",
    "## Open Book Midterm:\n",
    "<ol>\n",
    "    <li><b>(200 Points)Project Statement</b><br>: What are we doing? and in high level, how we are doing it <br>You may review Phase I/II PowerPoints.<br>Words limit: 500 \n",
    "    <br></li>\n",
    "    <br><li><b>(200 Points)Impersonate and Search</b><br>:Sign in US News Compass and conduct 3 to 5 searches. <br> Save the results to HTML files (one file per search) \n",
    "    <br><a href=\"https://premium.usnews.com/best-colleges/myfit?gpa=4.0&mode=table&sat-composite=1580\">Compass Search</a>\n",
    "    <br>A sample file from search may look like this: <br>\n",
    "    <a href='./img/OneSampleCompassHtml.html'> One Sample file</a>\n",
    "    </li>\n",
    "    <br><li><b>(800 Points)Python and Content</b><br>Design and Implement a Class to extrat result from pages generated \n",
    "    from previous question. <br>Ideal output format should reflect at the following information:  </li>\n",
    "    <br> Search Criteria: <br><img src=\"./img/CompassSearchFields.PNG\" width=\"500\"/>\n",
    "    <br> Search Results: <br><img src=\"./img/CompassSearchResults.PNG\" width=\"500\"/></li>\n",
    "    <br><li><b>(400 Points)Scratching NLTK</b><br>Crawl the following page<br>\n",
    "    <a href=\"https://www.nme.com/features/greta-thunberg-full-speech-to-the-un-2019-climate-change-summit-2550824\">Greta Thunberg UN Speech</a></li>\n",
    "    <br> Tasks: \n",
    "    <br><ul>\n",
    "        <li>Get the content of her speech</li>\n",
    "        <li>Build a dataset that list all words in this speech and how many times each word appears</li>\n",
    "        <li>Sort the list of words by <br>a).Alphabetically. <br> b). by frequency\n",
    "        <li>Lemmatize all words</li>\n",
    "        <li>Choose ~30 \"difficult\" words and get the synonyms and antoyms for them.</li> \n",
    "    </ul>\n",
    "    </li>\n",
    "</ol>\n",
    "\"\"\"\n",
    "))   "
   ]
  },
  {
   "cell_type": "code",
   "execution_count": 29,
   "metadata": {
    "ExecuteTime": {
     "end_time": "2020-01-19T20:13:22.503472Z",
     "start_time": "2020-01-19T20:13:22.497469Z"
    }
   },
   "outputs": [],
   "source": [
    "#1. What we are doing is to find the best college for a person based on their info. How we can do this is by using python, react, web crawling, and AI to produce an accurate output."
   ]
  },
  {
   "cell_type": "code",
   "execution_count": null,
   "metadata": {},
   "outputs": [],
   "source": [
    "#3"
   ]
  },
  {
   "cell_type": "code",
   "execution_count": null,
   "metadata": {},
   "outputs": [],
   "source": [
    "#4"
   ]
  },
  {
   "cell_type": "code",
   "execution_count": 4,
   "metadata": {
    "ExecuteTime": {
     "end_time": "2020-01-19T21:33:45.506875Z",
     "start_time": "2020-01-19T21:33:45.479872Z"
    }
   },
   "outputs": [
    {
     "data": {
      "text/markdown": [
       "\n",
       "# Python Exam (For Python students):\n",
       "<ol>\n",
       "<li>(100 points)Write a program that contains a while loop that repeatedly asks the user to enter numeric miles they run each week.  Append each run to a list called “distance”. You may use this format [(“week1”, 23.1), (“week2”, 12.2)…]  \n",
       "</li><br><li>(100 points)Write a program that get the max, min, average, number of runs etc. \n",
       "</li><br><li>(100 points)Write a program that prompts the user to enter in an unlimited number of colors. Test to make sure that the user did not already enter a color before storing it (i.e. “We’re sorry, but you’ve already added the color ‘yellow’”). When the user types the string “exit” you should stop collecting colors. The print out the colors entered in alphabetical order.  \n",
       "</li><br><li>(100 points)Write a function that generates a random letter from the string ‘BINGO’. Here is a sample running of this program: x = generate_bingo_letter() print (x) \n",
       "</li><br><li>(100 points)Define a function fraction(fstring), where the argument passed in stores a fraction as a string. The function should return a floating point number that is the value of the fraction. \n",
       " \n",
       "Examples of using the function: <br>\n",
       "         print(fraction(“3/4”))  # prints  .750 <br>\n",
       "         print(fraction(“1/3”))  # prints   0.333 <br>\n",
       "     \n",
       " \n",
       "</li><br><li>(Bonus. 300 Points) Write a function balance_parens(astring) that inputs a string with parenthesized sub-­‐strings, which may be nested (e.g., could be a Python arithmetic expression). The function returns True if all of the parentheses that are opened are properly closed, otherwise it returns False. \n",
       "<br>\n",
       "For example, the following string is balanced: \n",
       "<br>\n",
       "“ A * ( (B + C) – (D – E) )” \n",
       "<br>\n",
       "And the following string is not balanced: \n",
       "<br> \n",
       "“  A ((B * C)  + (D      \n",
       "</li>\n",
       "</ol>\n",
       "\n"
      ],
      "text/plain": [
       "<IPython.core.display.Markdown object>"
      ]
     },
     "metadata": {},
     "output_type": "display_data"
    }
   ],
   "source": [
    "display(Markdown(\n",
    "\"\"\"\n",
    "# Python Exam (For Python students):\n",
    "<ol>\n",
    "<li>(100 points)Write a program that contains a while loop that repeatedly asks the user to enter numeric miles they run each week.  Append each run to a list called “distance”. You may use this format [(“week1”, 23.1), (“week2”, 12.2)…]  \n",
    "</li><br><li>(100 points)Write a program that get the max, min, average, number of runs etc. \n",
    "</li><br><li>(100 points)Write a program that prompts the user to enter in an unlimited number of colors. Test to make sure that the user did not already enter a color before storing it (i.e. “We’re sorry, but you’ve already added the color ‘yellow’”). When the user types the string “exit” you should stop collecting colors. The print out the colors entered in alphabetical order.  \n",
    "</li><br><li>(100 points)Write a function that generates a random letter from the string ‘BINGO’. Here is a sample running of this program: x = generate_bingo_letter() print (x) \n",
    "</li><br><li>(100 points)Define a function fraction(fstring), where the argument passed in stores a fraction as a string. The function should return a floating point number that is the value of the fraction. \n",
    " \n",
    "Examples of using the function: <br>\n",
    "         print(fraction(“3/4”))  # prints  .750 <br>\n",
    "         print(fraction(“1/3”))  # prints   0.333 <br>\n",
    "     \n",
    " \n",
    "</li><br><li>(Bonus. 300 Points) Write a function balance_parens(astring) that inputs a string with parenthesized sub-­‐strings, which may be nested (e.g., could be a Python arithmetic expression). The function returns True if all of the parentheses that are opened are properly closed, otherwise it returns False. \n",
    "<br>\n",
    "For example, the following string is balanced: \n",
    "<br>\n",
    "“ A * ( (B + C) – (D – E) )” \n",
    "<br>\n",
    "And the following string is not balanced: \n",
    "<br> \n",
    "“  A ((B * C)  + (D      \n",
    "</li>\n",
    "</ol>\n",
    "\n",
    "\"\"\"\n",
    "))"
   ]
  },
  {
   "cell_type": "code",
   "execution_count": 30,
   "metadata": {
    "ExecuteTime": {
     "end_time": "2020-01-19T21:14:11.821733Z",
     "start_time": "2020-01-19T21:14:11.814757Z"
    }
   },
   "outputs": [
    {
     "data": {
      "text/markdown": [
       "\n",
       "## You may use the following libraries for the exams. \n",
       "import re <br>\n",
       "import spacy  <br>\n",
       "from spacy import displacy <br>\n",
       "import en_core_web_sm <br>\n",
       "from pathlib import Path <br>\n",
       "from IPython.display import display, Markdown, Latex  <br>\n",
       "import sys <br>\n",
       "import csv <br>\n",
       "import pandas as pd <br>\n",
       "import numpy as np <br>\n",
       "import os <br>\n",
       "from os import path <br>\n",
       "from datetime import datetime <br>\n",
       "from urllib.parse import urlparse, urljoin <br>\n",
       "import requests <br>\n",
       "import ntpath <br>\n",
       "from bs4 import BeautifulSoup, Comment <br>\n",
       "import time <br>\n",
       "from pprint import pprint  <br>\n",
       "import shutil <br>\n",
       "import tldextract <br>\n",
       "import multiprocessing <br>\n",
       "from multiprocessing import Process, Queue, cpu_count <br>\n",
       "import os <br>\n",
       "from os import path, listdir  <br>\n"
      ],
      "text/plain": [
       "<IPython.core.display.Markdown object>"
      ]
     },
     "metadata": {},
     "output_type": "display_data"
    }
   ],
   "source": [
    "display(Markdown(\n",
    "\"\"\"\n",
    "## You may use the following libraries for the exams. \n",
    "import re <br>\n",
    "import spacy  <br>\n",
    "from spacy import displacy <br>\n",
    "import en_core_web_sm <br>\n",
    "from pathlib import Path <br>\n",
    "from IPython.display import display, Markdown, Latex  <br>\n",
    "import sys <br>\n",
    "import csv <br>\n",
    "import pandas as pd <br>\n",
    "import numpy as np <br>\n",
    "import os <br>\n",
    "from os import path <br>\n",
    "from datetime import datetime <br>\n",
    "from urllib.parse import urlparse, urljoin <br>\n",
    "import requests <br>\n",
    "import ntpath <br>\n",
    "from bs4 import BeautifulSoup, Comment <br>\n",
    "import time <br>\n",
    "from pprint import pprint  <br>\n",
    "import shutil <br>\n",
    "import tldextract <br>\n",
    "import multiprocessing <br>\n",
    "from multiprocessing import Process, Queue, cpu_count <br>\n",
    "import os <br>\n",
    "from os import path, listdir  <br>\n",
    "\"\"\"\n",
    "))\n"
   ]
  },
  {
   "cell_type": "code",
   "execution_count": 31,
   "metadata": {},
   "outputs": [
    {
     "name": "stdout",
     "output_type": "stream",
     "text": [
      "How many miles have you run in week1\n",
      "1\n",
      "How many miles have you run in week2\n",
      "2\n",
      "How many miles have you run in week3\n",
      "3\n",
      "How many miles have you run in week4\n",
      "4\n",
      "How many miles have you run in week5\n",
      "5\n",
      "How many miles have you run in week6\n",
      "6\n",
      "How many miles have you run in week7\n",
      "7\n",
      "How many miles have you run in week8\n",
      "8\n",
      "How many miles have you run in week9\n",
      "9\n",
      "How many miles have you run in week10\n",
      "10\n"
     ]
    },
    {
     "data": {
      "text/plain": [
       "[('week1', 1.0),\n",
       " ('week2', 2.0),\n",
       " ('week3', 3.0),\n",
       " ('week4', 4.0),\n",
       " ('week5', 5.0),\n",
       " ('week6', 6.0),\n",
       " ('week7', 7.0),\n",
       " ('week8', 8.0),\n",
       " ('week9', 9.0),\n",
       " ('week10', 10.0)]"
      ]
     },
     "execution_count": 31,
     "metadata": {},
     "output_type": "execute_result"
    }
   ],
   "source": [
    "#1\n",
    "def run(weeks=10):\n",
    "    distance = []\n",
    "    week = 1\n",
    "    while week <= weeks:\n",
    "        try:\n",
    "            miles = input('How many miles have you run in week' + str(week) + '\\n')\n",
    "            milesint = float(miles)\n",
    "            pair = ('week' + str(week), milesint)\n",
    "            week += 1\n",
    "            distance.append(pair)\n",
    "        except ValueError:\n",
    "            print(\"Please enter a number\")\n",
    "            continue\n",
    "\n",
    "            \n",
    "    return(distance)\n",
    "run()"
   ]
  },
  {
   "cell_type": "markdown",
   "metadata": {},
   "source": []
  },
  {
   "cell_type": "code",
   "execution_count": 64,
   "metadata": {},
   "outputs": [
    {
     "name": "stdout",
     "output_type": "stream",
     "text": [
      "The farthest distance you've run is 562134.0 miles on week6\n",
      "The shortest distance you've run is 4.0 miles on week4\n"
     ]
    },
    {
     "ename": "TypeError",
     "evalue": "can only concatenate str (not \"int\") to str",
     "output_type": "error",
     "traceback": [
      "\u001b[1;31m---------------------------------------------------------------------------\u001b[0m",
      "\u001b[1;31mTypeError\u001b[0m                                 Traceback (most recent call last)",
      "\u001b[1;32m<ipython-input-64-f7390e1c3f0b>\u001b[0m in \u001b[0;36m<module>\u001b[1;34m\u001b[0m\n\u001b[0;32m     20\u001b[0m \u001b[0mprint\u001b[0m\u001b[1;33m(\u001b[0m\u001b[1;34m\"The farthest distance you've run is \"\u001b[0m \u001b[1;33m+\u001b[0m \u001b[0mstr\u001b[0m\u001b[1;33m(\u001b[0m\u001b[0mmax_miles\u001b[0m\u001b[1;33m[\u001b[0m\u001b[1;36m1\u001b[0m\u001b[1;33m]\u001b[0m\u001b[1;33m)\u001b[0m \u001b[1;33m+\u001b[0m \u001b[1;34m' miles '\u001b[0m \u001b[1;33m+\u001b[0m \u001b[1;34m'on '\u001b[0m \u001b[1;33m+\u001b[0m \u001b[0mstr\u001b[0m\u001b[1;33m(\u001b[0m\u001b[0mmax_miles\u001b[0m\u001b[1;33m[\u001b[0m\u001b[1;36m0\u001b[0m\u001b[1;33m]\u001b[0m\u001b[1;33m)\u001b[0m\u001b[1;33m)\u001b[0m\u001b[1;33m\u001b[0m\u001b[1;33m\u001b[0m\u001b[0m\n\u001b[0;32m     21\u001b[0m \u001b[0mprint\u001b[0m\u001b[1;33m(\u001b[0m\u001b[1;34m\"The shortest distance you've run is \"\u001b[0m \u001b[1;33m+\u001b[0m \u001b[0mstr\u001b[0m\u001b[1;33m(\u001b[0m\u001b[0mmin_miles\u001b[0m\u001b[1;33m[\u001b[0m\u001b[1;36m1\u001b[0m\u001b[1;33m]\u001b[0m\u001b[1;33m)\u001b[0m \u001b[1;33m+\u001b[0m \u001b[1;34m' miles '\u001b[0m \u001b[1;33m+\u001b[0m \u001b[1;34m'on '\u001b[0m \u001b[1;33m+\u001b[0m \u001b[0mstr\u001b[0m\u001b[1;33m(\u001b[0m\u001b[0mmin_miles\u001b[0m\u001b[1;33m[\u001b[0m\u001b[1;36m0\u001b[0m\u001b[1;33m]\u001b[0m\u001b[1;33m)\u001b[0m\u001b[1;33m)\u001b[0m\u001b[1;33m\u001b[0m\u001b[1;33m\u001b[0m\u001b[0m\n\u001b[1;32m---> 22\u001b[1;33m \u001b[0mprint\u001b[0m\u001b[1;33m(\u001b[0m\u001b[1;34m\"Your average distance ran is \"\u001b[0m \u001b[1;33m+\u001b[0m \u001b[0mstr\u001b[0m\u001b[1;33m(\u001b[0m\u001b[0mavg\u001b[0m\u001b[1;33m)\u001b[0m \u001b[1;33m+\u001b[0m \u001b[1;34m\" miles for \"\u001b[0m \u001b[1;33m+\u001b[0m \u001b[0mnumber_of_runs\u001b[0m\u001b[1;33m)\u001b[0m\u001b[1;33m\u001b[0m\u001b[1;33m\u001b[0m\u001b[0m\n\u001b[0m\u001b[0;32m     23\u001b[0m \u001b[0mprint\u001b[0m\u001b[1;33m(\u001b[0m\u001b[1;34m\"You've gone on \"\u001b[0m \u001b[1;33m+\u001b[0m \u001b[0mnumber_of_runs\u001b[0m \u001b[1;33m+\u001b[0m \u001b[1;34m\" runs so far.\"\u001b[0m\u001b[1;33m)\u001b[0m\u001b[1;33m\u001b[0m\u001b[1;33m\u001b[0m\u001b[0m\n\u001b[0;32m     24\u001b[0m \u001b[1;33m\u001b[0m\u001b[0m\n",
      "\u001b[1;31mTypeError\u001b[0m: can only concatenate str (not \"int\") to str"
     ]
    }
   ],
   "source": [
    "#2\n",
    "y=0\n",
    "data= [('week1', 23.0),\n",
    " ('week2', 4334.0),\n",
    " ('week3', 324.0),\n",
    " ('week4', 4.0),\n",
    " ('week5', 35321.0),\n",
    " ('week6', 562134.0),\n",
    " ('week7', 43214.0),\n",
    " ('week8', 5.0),\n",
    " ('week9', 2354.0),\n",
    " ('week10', 5.0)]\n",
    "\n",
    "number_of_runs = len(data)\n",
    "\n",
    "max_miles=max(data, key=lambda x: x[1])\n",
    "min_miles=min(data, key=lambda x: x[1])\n",
    "avg=sum(x[1] for x in data)/number_of_runs\n",
    "\n",
    "print(\"The farthest distance you've run is \" + str(max_miles[1]) + ' miles ' + 'on ' + str(max_miles[0]))\n",
    "print(\"The shortest distance you've run is \" + str(min_miles[1]) + ' miles ' + 'on ' + str(min_miles[0]))\n",
    "print(\"Your average distance ran is \" + str(avg) + \" miles for \" + number_of_runs)\n",
    "print(\"You've gone on \" + number_of_runs + \" runs so far.\")\n",
    "\n",
    "        \n",
    "\n"
   ]
  },
  {
   "cell_type": "code",
   "execution_count": 33,
   "metadata": {},
   "outputs": [
    {
     "name": "stdout",
     "output_type": "stream",
     "text": [
      "Add a color: dsa\n",
      "Add a color: dsa\n",
      "We’re sorry, but you’ve already added the color dsa\n",
      "Add a color: dsad\n",
      "Add a color: das\n",
      "Add a color: dsa\n",
      "We’re sorry, but you’ve already added the color dsa\n",
      "Add a color: ddsa\n",
      "Add a color: few\n",
      "Add a color: 324\n",
      "Add a color: 3214\n",
      "Add a color: 6ret\n",
      "Add a color: trfdsf\n",
      "Add a color: exit\n",
      "['3214', '324', '6ret', 'das', 'ddsa', 'dsa', 'dsad', 'few', 'trfdsf']\n"
     ]
    }
   ],
   "source": [
    "#3\n",
    "def listcolors():\n",
    "    colors = []\n",
    "    while True:\n",
    "        usercolor = input(\"Add a color: \")\n",
    "        if usercolor == \"exit\":\n",
    "            break\n",
    "            \n",
    "        if usercolor in colors:\n",
    "            print(\"We’re sorry, but you’ve already added the color \" + usercolor)\n",
    "            continue\n",
    "        else:\n",
    "            colors.append(usercolor)\n",
    "        \n",
    "    print(sorted(colors))\n",
    "            \n",
    "listcolors()"
   ]
  },
  {
   "cell_type": "code",
   "execution_count": 37,
   "metadata": {},
   "outputs": [
    {
     "name": "stdout",
     "output_type": "stream",
     "text": [
      "O\n"
     ]
    }
   ],
   "source": [
    "#4\n",
    "def generate_bingo_letter():\n",
    "    bingo=\"BINGO\"\n",
    "    \n",
    "    rand = random.randint(0,4)        \n",
    "    return bingo[rand]\n",
    "    \n",
    "    #return random.choice(bingo)\n",
    "\n",
    "\n",
    "x = generate_bingo_letter()\n",
    "print(x) "
   ]
  },
  {
   "cell_type": "code",
   "execution_count": 38,
   "metadata": {},
   "outputs": [
    {
     "data": {
      "text/plain": [
       "74398233.901"
      ]
     },
     "execution_count": 38,
     "metadata": {},
     "output_type": "execute_result"
    }
   ],
   "source": [
    "#5\n",
    "def fraction(fstring):\n",
    "    sum = 0\n",
    "    splitfract=fstring.split()\n",
    "    if len(splitfract) != 1 and len(splitfract) != 2:\n",
    "        print(\"invalid fraction\")\n",
    "        sys.exit()\n",
    "        \n",
    "       \n",
    "    for x in splitfract:\n",
    "        try:\n",
    "            a = Fraction(x)\n",
    "            rounded = round(float(a),3)\n",
    "            sum = sum + rounded\n",
    "        except ValueError as e :\n",
    "            print(e)\n",
    "    return(sum)\n",
    "\n",
    "\n",
    "fraction('74398231 3841234/1324132')"
   ]
  },
  {
   "cell_type": "code",
   "execution_count": 43,
   "metadata": {},
   "outputs": [
    {
     "data": {
      "text/plain": [
       "False"
      ]
     },
     "execution_count": 43,
     "metadata": {},
     "output_type": "execute_result"
    }
   ],
   "source": [
    "#6\n",
    "def balance_parens(astring):\n",
    "    thestack = []\n",
    "    index = 0\n",
    "    \n",
    "    \n",
    "    while index < len(astring):\n",
    "        lpar = astring[index]\n",
    "        if lpar == \"(\":\n",
    "            thestack.append(lpar)\n",
    "        elif lpar == ')':\n",
    "            if len(thestack) == 0:\n",
    "                return False\n",
    "            else:\n",
    "                thestack.pop()\n",
    "        index = index + 1\n",
    "        \n",
    "        \n",
    "    if len(thestack) == 0:\n",
    "        return True\n",
    "    else:\n",
    "        return False\n",
    "\n",
    "\n",
    "balance_parens(\"(((((kdkdksadjiajsd))))\")\n",
    "        "
   ]
  },
  {
   "cell_type": "code",
   "execution_count": 47,
   "metadata": {},
   "outputs": [
    {
     "ename": "NameError",
     "evalue": "name 'mean' is not defined",
     "output_type": "error",
     "traceback": [
      "\u001b[1;31m---------------------------------------------------------------------------\u001b[0m",
      "\u001b[1;31mNameError\u001b[0m                                 Traceback (most recent call last)",
      "\u001b[1;32m<ipython-input-47-07714e843892>\u001b[0m in \u001b[0;36m<module>\u001b[1;34m\u001b[0m\n\u001b[1;32m----> 1\u001b[1;33m \u001b[0mhelp\u001b[0m\u001b[1;33m(\u001b[0m\u001b[0mmean\u001b[0m\u001b[1;33m)\u001b[0m\u001b[1;33m\u001b[0m\u001b[1;33m\u001b[0m\u001b[0m\n\u001b[0m",
      "\u001b[1;31mNameError\u001b[0m: name 'mean' is not defined"
     ]
    }
   ],
   "source": []
  },
  {
   "cell_type": "code",
   "execution_count": null,
   "metadata": {},
   "outputs": [],
   "source": []
  }
 ],
 "metadata": {
  "kernelspec": {
   "display_name": "Python 3",
   "language": "python",
   "name": "python3"
  },
  "language_info": {
   "codemirror_mode": {
    "name": "ipython",
    "version": 3
   },
   "file_extension": ".py",
   "mimetype": "text/x-python",
   "name": "python",
   "nbconvert_exporter": "python",
   "pygments_lexer": "ipython3",
   "version": "3.7.4"
  },
  "toc": {
   "base_numbering": 1,
   "nav_menu": {},
   "number_sections": true,
   "sideBar": true,
   "skip_h1_title": false,
   "title_cell": "Table of Contents",
   "title_sidebar": "Contents",
   "toc_cell": false,
   "toc_position": {
    "height": "calc(100% - 180px)",
    "left": "10px",
    "top": "150px",
    "width": "165px"
   },
   "toc_section_display": true,
   "toc_window_display": true
  }
 },
 "nbformat": 4,
 "nbformat_minor": 2
}
