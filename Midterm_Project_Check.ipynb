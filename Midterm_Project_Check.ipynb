{
 "cells": [
  {
   "cell_type": "markdown",
   "metadata": {},
   "source": [
    "<font size=7 color=green>Summary: 1565/1600</font>"
   ]
  },
  {
   "cell_type": "code",
   "execution_count": null,
   "metadata": {
    "ExecuteTime": {
     "end_time": "2020-02-08T23:52:48.014225Z",
     "start_time": "2020-02-08T23:52:37.292462Z"
    }
   },
   "outputs": [],
   "source": [
    "import re \n",
    "import spacy  \n",
    "from spacy import displacy \n",
    "import en_core_web_sm \n",
    "from pathlib import Path \n",
    "from IPython.display import display, Markdown, Latex\n",
    "import sys \n",
    "import csv \n",
    "import pandas as pd \n",
    "import numpy as np \n",
    "import os \n",
    "from os import path \n",
    "from datetime import datetime \n",
    "from urllib.parse import urlparse, urljoin \n",
    "import requests \n",
    "import ntpath \n",
    "from bs4 import BeautifulSoup, Comment \n",
    "import time \n",
    "from pprint import pprint  \n",
    "import shutil \n",
    "import tldextract \n",
    "import multiprocessing \n",
    "from multiprocessing import Process, Queue, cpu_count \n",
    "import os \n",
    "from os import path, listdir\n",
    "###\n",
    "from IPython.core.debugger import set_trace\n",
    "import random\n",
    "from fractions import Fraction\n",
    "import nltk\n",
    "import pprint as pp\n",
    "from collections import Counter\n",
    "from itertools import repeat, chain\n",
    "from nltk.corpus import wordnet\n",
    "from nltk.stem import PorterStemmer "
   ]
  },
  {
   "cell_type": "code",
   "execution_count": null,
   "metadata": {
    "ExecuteTime": {
     "end_time": "2020-02-08T23:52:52.195115Z",
     "start_time": "2020-02-08T23:52:48.017151Z"
    }
   },
   "outputs": [],
   "source": [
    "nltk.download_shell()"
   ]
  },
  {
   "cell_type": "code",
   "execution_count": null,
   "metadata": {
    "ExecuteTime": {
     "end_time": "2020-02-08T23:52:52.202109Z",
     "start_time": "2020-02-08T23:52:52.197112Z"
    },
    "scrolled": true
   },
   "outputs": [],
   "source": [
    "from IPython.display import display, Markdown, Image\n",
    "display(Markdown(\n",
    "\"\"\"\n",
    "# Midterm Project Learning Status Check\n",
    "## <font color=\"red\">Due: Feb 1, 2020</font>\n",
    "## Open Book Midterm:\n",
    "<ol>\n",
    "    <li><b>(200 Points)Project Statement</b><br>: What are we doing? and in high level, how we are doing it <br>You may review Phase I/II PowerPoints.<br>Words limit: 500 \n",
    "    <br></li>\n",
    "    <br><li><b>(200 Points)Impersonate and Search</b><br>:Sign in US News Compass and conduct 3 to 5 searches. <br> Save the results to HTML files (one file per search) \n",
    "    <br><a href=\"https://premium.usnews.com/best-colleges/myfit?gpa=4.0&mode=table&sat-composite=1580\">Compass Search</a>\n",
    "    <br>A sample file from search may look like this: <br>\n",
    "    <a href='./img/OneSampleCompassHtml.html'> One Sample file</a>\n",
    "    </li>\n",
    "    <br><li><b>(800 Points)Python and Content</b><br>Design and Implement a Class to extrat result from pages generated \n",
    "    from previous question. <br>Ideal output format should reflect at the following information:  </li>\n",
    "    <br> Search Criteria: <br><img src=\"./img/CompassSearchFields.PNG\" width=\"500\"/>\n",
    "    <br> Search Results: <br><img src=\"./img/CompassSearchResults.PNG\" width=\"500\"/></li>\n",
    "    <br><li><b>(400 Points)Scratching NLTK</b><br>Crawl the following page<br>\n",
    "    <a href=\"https://www.nme.com/features/greta-thunberg-full-speech-to-the-un-2019-climate-change-summit-2550824\">Greta Thunberg UN Speech</a></li>\n",
    "    <br> Tasks: \n",
    "    <br><ul>\n",
    "        <li>Get the content of her speech</li>\n",
    "        <li>Build a dataset that list all words in this speech and how many times each word appears</li>\n",
    "        <li>Sort the list of words by <br>a).Alphabetically. <br> b). by frequency\n",
    "        <li>Lemmatize all words</li>\n",
    "        <li>Choose ~30 \"difficult\" words and get the synonyms and antoyms for them.</li> \n",
    "    </ul>\n",
    "    </li>\n",
    "</ol>\n",
    "\"\"\"\n",
    "))   "
   ]
  },
  {
   "cell_type": "markdown",
   "metadata": {},
   "source": [
    "<font size=6 color=olive>Part 1: 200/200</font>\n",
    "<br>Good statement"
   ]
  },
  {
   "cell_type": "code",
   "execution_count": null,
   "metadata": {
    "ExecuteTime": {
     "end_time": "2020-02-08T23:52:53.950281Z",
     "start_time": "2020-02-08T23:52:53.946278Z"
    }
   },
   "outputs": [],
   "source": [
    "from IPython.display import display, Markdown, Image\n",
    "display(Markdown( \n",
    "\"\"\"\n",
    "# 1 Project Management\n",
    "<body>\n",
    "    <b>What are we doing? </b> \n",
    "    <br/>\n",
    "    <p>\n",
    "      What we are doing is to help the students to find the best colleges based on their info. \n",
    "    </p>\n",
    "    <br/>  \n",
    "    <b>How are we doing it?</b>\n",
    "    <br/>\n",
    "    <p>\n",
    "      We provide a React application as UI that can be accessed in a web brower.<br/>\n",
    "      Students can do two things in our app: \n",
    "      (1) students can enter their information like GPA, SAT/ACT score etc or other search criteria like\n",
    "      desired school location or tuition range, and our application will give a list of recommended colleges.  \n",
    "      (2) students can enter their information like GPA and their desired college, and our app will do a gap\n",
    "      analysis to give suggestions of actions to be taken in order to get into that desired college.<br/>\n",
    "      As mentioned the UI front end is using react and the backend is handled through node.js. The college \n",
    "      data will be gathered by web crawling, and AI and python is used to analyze the input and data \n",
    "      to generate output.     \n",
    "   </P>  \n",
    "</body>\n",
    "\"\"\"\n",
    "))"
   ]
  },
  {
   "cell_type": "markdown",
   "metadata": {},
   "source": [
    "<font size=6 color=olive>Part 2/3: 400/400</font>\n",
    "<br>Excellent"
   ]
  },
  {
   "cell_type": "code",
   "execution_count": null,
   "metadata": {},
   "outputs": [],
   "source": [
    "#2. Check github for files."
   ]
  },
  {
   "cell_type": "code",
   "execution_count": null,
   "metadata": {
    "ExecuteTime": {
     "end_time": "2020-02-09T00:07:50.057017Z",
     "start_time": "2020-02-09T00:07:49.930022Z"
    }
   },
   "outputs": [],
   "source": [
    "#3\n",
    "class CollegeData():\n",
    "    \n",
    "    \n",
    "    def __init__(self, htmlFile='C:\\\\Users\\\\kentt\\\\stempro\\\\hw\\\\midterms\\\\data\\\\college3.html'):\n",
    "        htmlPath = Path(htmlFile) \n",
    "        self.criteriaDF = pd.DataFrame()\n",
    "        self.resultDF = pd.DataFrame()\n",
    "        self.resultFile = htmlPath.parent / (htmlPath.stem +\".csv\")\n",
    "        self.htmlFile = htmlFile\n",
    "    \n",
    "    def run(self):\n",
    "        soup=BeautifulSoup(open(self.htmlFile)) \n",
    "        self.getCriteria(soup) \n",
    "        self.getResult(soup)\n",
    "        self.saveToFile()\n",
    "    \n",
    "    def getCriteria(self, soup):\n",
    "   \n",
    "    # get search criteria\n",
    "    # search criteria is a dictionary like {'GPA': ' 3.5', 'SAT Composite': ' 1100', 'ACT': ' 22'', 'Tuition and Fees': ' < $0 - $26,000'}\n",
    "        criteria={}\n",
    "        for item in soup.find_all('button'): \n",
    "            for x in item.find_all(\"span\"):\n",
    "                query = x.text.strip()\n",
    "                a = query.split(':') \n",
    "                criteria[a[0]]=a[1]\n",
    "        print(\"My Fit College Search\\n\") \n",
    "        self.criteriaDF = pd.DataFrame(criteria.items(), columns=[\"Criteria\", \"Values\"])\n",
    "        print(self.criteriaDF.to_string(index=False))\n",
    "       # criteriaDF.to_csv('file3search.csv',index=False)\n",
    "        \n",
    "    \n",
    "    def getResult(self, soup):\n",
    "    # get search result\n",
    "    # search result is a list(table) with each element also a list(tr) and \n",
    "    # each element (td) of the inner list is each field\n",
    "    # e.g [['87', 'California State University--San Bernardino', 'N/A', 'N/A', 'N/A', '3.3'], ['87', 'California State University--Stanislaus', '495', '507', '19', '3.3'], ['85', 'California State University--Fresno', '506', '518', '19', '3.5']]\n",
    "        result = []\n",
    "        for item1 in soup.find_all('table'):\n",
    "            for tr in item1.find_all(\"tr\"):\n",
    "                row =[]\n",
    "                for cell in tr.find_all([\"th\",\"td\"]):\n",
    "                    if cell.name == \"th\":\n",
    "                        row.append(cell.text.strip())\n",
    "                    elif cell.name == \"td\":\n",
    "                        for div in cell.find_all(\"div\", {\"class\":\"show-for-medium-up\"}):\n",
    "                            texts = div.find_all(text=True)\n",
    "                            text2 = filter(lambda text: text.strip(), texts)#remove empty string or \\n\n",
    "                            validTexts = list(map(lambda x: re.sub(r'[\\n ] ','',x), text2))#\n",
    "                            row.append(validTexts[0])\n",
    "                result.append(row)\n",
    "            \n",
    "        headers = result.pop(0)\n",
    "        self.resultDF = pd.DataFrame(result, columns=headers)\n",
    "        print(self.resultDF.to_string(index=False))\n",
    "        #resultDF.to_csv('file3.csv',index=False)\n",
    "    \n",
    "    \n",
    "    def saveToFile(self):\n",
    "        #first write criteria, then write the search result\n",
    "        self.criteriaDF.to_csv(self.resultFile, index=False, mode='w')\n",
    "        self.resultDF.to_csv(self.resultFile, index=False, mode='a')\n",
    "        \n",
    "files = ['C:\\\\Users\\\\kentt\\\\stempro\\\\hw\\\\midterms\\\\data\\\\college3.html','C:\\\\Users\\\\kentt\\\\stempro\\\\hw\\\\midterms\\\\data\\\\college2.html','C:\\\\Users\\\\kentt\\\\stempro\\\\hw\\\\midterms\\\\data\\\\college1.html']        \n",
    "for file in files: \n",
    "    cd=CollegeData(file)\n",
    "    cd.run()"
   ]
  },
  {
   "cell_type": "markdown",
   "metadata": {
    "ExecuteTime": {
     "end_time": "2020-02-09T00:11:52.080979Z",
     "start_time": "2020-02-09T00:11:52.077999Z"
    }
   },
   "source": [
    "<font size=6 color=olive>Part 4: 200/200</font>\n",
    "<br>Excellent"
   ]
  },
  {
   "cell_type": "code",
   "execution_count": null,
   "metadata": {
    "ExecuteTime": {
     "end_time": "2020-02-09T00:11:05.200785Z",
     "start_time": "2020-02-09T00:11:03.223937Z"
    }
   },
   "outputs": [],
   "source": [
    "#4\n",
    "\n",
    "class nltkSpeech():\n",
    "    \n",
    "    def __init__(self, url=\"https://www.nme.com/features/greta-thunberg-full-speech-to-the-un-2019-climate-change-summit-2550824\"):\n",
    "        self.speech = []\n",
    "        self.url = url\n",
    "        \n",
    "\n",
    "    def getSpeech(self):\n",
    "        res = requests.get(self.url)\n",
    "        htmlPage = res.content\n",
    "        soup = BeautifulSoup(htmlPage, 'lxml')\n",
    "        text= []\n",
    "        dis = []\n",
    "        firstp = soup.p    \n",
    "        for x in firstp.find_all_next('p'):\n",
    "            sentence = x.text.strip()\n",
    "           # set_trace()\n",
    "            if not (sentence.startswith(\"Everyone\") or sentence.startswith(\"NME\") or sentence.startswith('©')):   \n",
    "                self.speech.extend(re.sub(r'[.,()“”!?]','',sentence).lower().split())  \n",
    "        \n",
    "    \n",
    "    def freSort(self):\n",
    "        print(\"List of words sorted by frequency\")\n",
    "        print(\"*************************************************\")\n",
    "        counts = Counter(self.speech)\n",
    "        pp.pprint(counts)\n",
    "        print('\\n')\n",
    "    \n",
    "    def alphaSort(self):\n",
    "        print(\"List of words sorted alphabetically\")#Q: should duplidate words be listed just once?\n",
    "        print(\"*************************************************\")\n",
    "        pp.pprint(sorted(self.speech))\n",
    "        print('\\n')\n",
    "        \n",
    "   \n",
    "    \n",
    "    def lemmatizing(self):\n",
    "        print('Lemmatizing all words with WordNetLemmatizer\\n')\n",
    "        print(\"*************************************************\")\n",
    "        print('Word\\t\\t\\t\\tLemma')\n",
    "        print('-------------------------------------------------')\n",
    "        lm = nltk.stem.WordNetLemmatizer()\n",
    "        \n",
    "        for e in self.speech:\n",
    "            lol=int(len(e)/8)\n",
    "            if lol == 1:\n",
    "                print(e+'\\t\\t\\t'+lm.lemmatize(e))\n",
    "            elif lol == 2:\n",
    "                print(e+'\\t\\t'+lm.lemmatize(e))\n",
    "            else:\n",
    "                print(e+'\\t\\t\\t\\t'+lm.lemmatize(e))         \n",
    "            \n",
    "        print('\\n')    \n",
    "            \n",
    "    def syn(self):\n",
    "        words = ['urgency','toxic','technologies','sucking','situation','setting','presented','plea','nowhere','odds','matter','leaders','justice','kept','irreversible','impassioned','heartfelt','gigatons','extinction','equity','eternal','crystal','consequences','childhood','betrayal','billions','aspects','additional','activist']\n",
    "        print(\"List of synonyms and antonyms for 30 words\")\n",
    "        print(\"*************************************************\")\n",
    "        for word in words:\n",
    "            synonyms = []\n",
    "            antonyms = []\n",
    "            for sqyn in wordnet.synsets(word):\n",
    "                for lm in sqyn.lemmas():\n",
    "                    synonyms.append(lm.name())\n",
    "                    if lm.antonyms():\n",
    "                        antonyms.append(lm.antonyms()[0].name())\n",
    "            pp.pprint('Word: ' + str(word))\n",
    "            pp.pprint('Synonyms:' + str(synonyms))\n",
    "            pp.pprint('Antonyms:' + str(antonyms))\n",
    "            \n",
    "            print('\\n')\n",
    "    \n",
    "    def run(self):\n",
    "        self.getSpeech()\n",
    "        self.freSort()\n",
    "        self.alphaSort()\n",
    "        self.lemmatizing()\n",
    "        self.syn()\n",
    "\n",
    "ntlkspeech=nltkSpeech()\n",
    "ntlkspeech.run()\n",
    "\n",
    "    \n",
    "    "
   ]
  },
  {
   "cell_type": "code",
   "execution_count": 2,
   "metadata": {
    "ExecuteTime": {
     "end_time": "2020-01-19T21:33:45.506875Z",
     "start_time": "2020-01-19T21:33:45.479872Z"
    }
   },
   "outputs": [
    {
     "data": {
      "text/markdown": [
       "\n",
       "# Python Exam (For Python students):\n",
       "<ol>\n",
       "<li>(100 points)Write a program that contains a while loop that repeatedly asks the user to enter numeric miles they run each week.  Append each run to a list called “distance”. You may use this format [(“week1”, 23.1), (“week2”, 12.2)…]  \n",
       "</li><br><li>(100 points)Write a program that get the max, min, average, number of runs etc. \n",
       "</li><br><li>(100 points)Write a program that prompts the user to enter in an unlimited number of colors. Test to make sure that the user did not already enter a color before storing it (i.e. “We’re sorry, but you’ve already added the color ‘yellow’”). When the user types the string “exit” you should stop collecting colors. The print out the colors entered in alphabetical order.  \n",
       "</li><br><li>(100 points)Write a function that generates a random letter from the string ‘BINGO’. Here is a sample running of this program: x = generate_bingo_letter() print (x) \n",
       "</li><br><li>(100 points)Define a function fraction(fstring), where the argument passed in stores a fraction as a string. The function should return a floating point number that is the value of the fraction. \n",
       " \n",
       "Examples of using the function: <br>\n",
       "         print(fraction(“3/4”))  # prints  .750 <br>\n",
       "         print(fraction(“1/3”))  # prints   0.333 <br>\n",
       "     \n",
       " \n",
       "</li><br><li>(Bonus. 300 Points) Write a function balance_parens(astring) that inputs a string with parenthesized sub-­‐strings, which may be nested (e.g., could be a Python arithmetic expression). The function returns True if all of the parentheses that are opened are properly closed, otherwise it returns False. \n",
       "<br>\n",
       "For example, the following string is balanced: \n",
       "<br>\n",
       "“ A * ( (B + C) – (D – E) )” \n",
       "<br>\n",
       "And the following string is not balanced: \n",
       "<br> \n",
       "“  A ((B * C)  + (D      \n",
       "</li>\n",
       "</ol>\n",
       "\n"
      ],
      "text/plain": [
       "<IPython.core.display.Markdown object>"
      ]
     },
     "metadata": {},
     "output_type": "display_data"
    }
   ],
   "source": [
    "display(Markdown(\n",
    "\"\"\"\n",
    "# Python Exam (For Python students):\n",
    "<ol>\n",
    "<li>(100 points)Write a program that contains a while loop that repeatedly asks the user to enter numeric miles they run each week.  Append each run to a list called “distance”. You may use this format [(“week1”, 23.1), (“week2”, 12.2)…]  \n",
    "</li><br><li>(100 points)Write a program that get the max, min, average, number of runs etc. \n",
    "</li><br><li>(100 points)Write a program that prompts the user to enter in an unlimited number of colors. Test to make sure that the user did not already enter a color before storing it (i.e. “We’re sorry, but you’ve already added the color ‘yellow’”). When the user types the string “exit” you should stop collecting colors. The print out the colors entered in alphabetical order.  \n",
    "</li><br><li>(100 points)Write a function that generates a random letter from the string ‘BINGO’. Here is a sample running of this program: x = generate_bingo_letter() print (x) \n",
    "</li><br><li>(100 points)Define a function fraction(fstring), where the argument passed in stores a fraction as a string. The function should return a floating point number that is the value of the fraction. \n",
    " \n",
    "Examples of using the function: <br>\n",
    "         print(fraction(“3/4”))  # prints  .750 <br>\n",
    "         print(fraction(“1/3”))  # prints   0.333 <br>\n",
    "     \n",
    " \n",
    "</li><br><li>(Bonus. 300 Points) Write a function balance_parens(astring) that inputs a string with parenthesized sub-­‐strings, which may be nested (e.g., could be a Python arithmetic expression). The function returns True if all of the parentheses that are opened are properly closed, otherwise it returns False. \n",
    "<br>\n",
    "For example, the following string is balanced: \n",
    "<br>\n",
    "“ A * ( (B + C) – (D – E) )” \n",
    "<br>\n",
    "And the following string is not balanced: \n",
    "<br> \n",
    "“  A ((B * C)  + (D      \n",
    "</li>\n",
    "</ol>\n",
    "\n",
    "\"\"\"\n",
    "))"
   ]
  },
  {
   "cell_type": "code",
   "execution_count": null,
   "metadata": {
    "ExecuteTime": {
     "end_time": "2020-01-19T21:14:11.821733Z",
     "start_time": "2020-01-19T21:14:11.814757Z"
    }
   },
   "outputs": [],
   "source": [
    "display(Markdown(\n",
    "\"\"\"\n",
    "## You may use the following libraries for the exams. \n",
    "import re <br>\n",
    "import spacy  <br>\n",
    "from spacy import displacy <br>\n",
    "import en_core_web_sm <br>\n",
    "from pathlib import Path <br>\n",
    "from IPython.display import display, Markdown, Latex  <br>\n",
    "import sys <br>\n",
    "import csv <br>\n",
    "import pandas as pd <br>\n",
    "import numpy as np <br>\n",
    "import os <br>\n",
    "from os import path <br>\n",
    "from datetime import datetime <br>\n",
    "from urllib.parse import urlparse, urljoin <br>\n",
    "import requests <br>\n",
    "import ntpath <br>\n",
    "from bs4 import BeautifulSoup, Comment <br>\n",
    "import time <br>\n",
    "from pprint import pprint  <br>\n",
    "import shutil <br>\n",
    "import tldextract <br>\n",
    "import multiprocessing <br>\n",
    "from multiprocessing import Process, Queue, cpu_count <br>\n",
    "import os <br>\n",
    "from os import path, listdir  <br>\n",
    "\"\"\"\n",
    "))\n"
   ]
  },
  {
   "cell_type": "code",
   "execution_count": null,
   "metadata": {},
   "outputs": [],
   "source": []
  },
  {
   "cell_type": "markdown",
   "metadata": {
    "ExecuteTime": {
     "end_time": "2020-02-07T05:42:25.943007Z",
     "start_time": "2020-02-07T05:42:25.938003Z"
    }
   },
   "source": [
    "<font size=6 color=olive>Part 5: Python test 765/800</font>"
   ]
  },
  {
   "cell_type": "code",
   "execution_count": 6,
   "metadata": {
    "ExecuteTime": {
     "start_time": "2020-02-07T04:44:06.431Z"
    },
    "scrolled": true
   },
   "outputs": [
    {
     "name": "stdout",
     "output_type": "stream",
     "text": [
      "How many miles have you run in week1\n",
      "-2\n",
      "Please enter a positive number\n",
      "How many miles have you run in week1\n",
      "-3\n",
      "Please enter a positive number\n",
      "How many miles have you run in week1\n",
      "4\n",
      "How many miles have you run in week2\n",
      "3\n",
      "How many miles have you run in week3\n",
      "2\n",
      "How many miles have you run in week4\n",
      "4\n",
      "How many miles have you run in week5\n",
      "-635\n",
      "Please enter a positive number\n",
      "How many miles have you run in week5\n",
      "4\n",
      "How many miles have you run in week6\n",
      "4\n",
      "How many miles have you run in week7\n",
      "4\n",
      "How many miles have you run in week8\n",
      "4\n",
      "How many miles have you run in week9\n",
      "5\n",
      "How many miles have you run in week10\n",
      "5\n"
     ]
    },
    {
     "data": {
      "text/plain": [
       "[('week1', 4.0),\n",
       " ('week2', 3.0),\n",
       " ('week3', 2.0),\n",
       " ('week4', 4.0),\n",
       " ('week5', 4.0),\n",
       " ('week6', 4.0),\n",
       " ('week7', 4.0),\n",
       " ('week8', 4.0),\n",
       " ('week9', 5.0),\n",
       " ('week10', 5.0)]"
      ]
     },
     "execution_count": 6,
     "metadata": {},
     "output_type": "execute_result"
    }
   ],
   "source": [
    "#1\n",
    "def run(weeks=10):\n",
    "    distance = []\n",
    "    week = 1\n",
    "    while week <= weeks:\n",
    "        try:\n",
    "            miles = input('How many miles have you run in week' + str(week) + '\\n')\n",
    "            milesint = float(miles)\n",
    "            if milesint < 0:\n",
    "                print(\"Please enter a positive number\")\n",
    "                continue\n",
    "            pair = ('week' + str(week), milesint)\n",
    "            week += 1\n",
    "            distance.append(pair)\n",
    "        except ValueError:\n",
    "            print(\"Please enter a number\")\n",
    "            continue         \n",
    "            \n",
    "    return(distance)\n",
    "run()"
   ]
  },
  {
   "cell_type": "markdown",
   "metadata": {},
   "source": [
    "###### <font size=6 color=green> Q1 95/100</font><div class=\"alert alert-info\"> \n",
    "Comments: \n",
    "1. Nicely done\n",
    "2. what about negative miles?\n",
    "</div>"
   ]
  },
  {
   "cell_type": "code",
   "execution_count": null,
   "metadata": {
    "ExecuteTime": {
     "end_time": "2020-02-07T04:51:58.512685Z",
     "start_time": "2020-02-07T04:51:58.502687Z"
    }
   },
   "outputs": [],
   "source": [
    "#2\n",
    "y=0\n",
    "data= [('week1', 23.0),\n",
    " ('week2', 4334.0),\n",
    " ('week3', 324.0),\n",
    " ('week4', 4.0),\n",
    " ('week5', 35321.0),\n",
    " ('week6', 562134.0),\n",
    " ('week7', 43214.0),\n",
    " ('week8', 5.0),\n",
    " ('week9', 2354.0),\n",
    " ('week10', 5.0)]\n",
    "\n",
    "number_of_runs = len(data)\n",
    "\n",
    "max_miles=max(data, key=lambda x: x[1])\n",
    "min_miles=min(data, key=lambda x: x[1])\n",
    "avg=sum(x[1] for x in data)/number_of_runs\n",
    "\n",
    "print(\"The farthest distance you've run is \" + str(max_miles[1]) + ' miles ' + 'on ' + str(max_miles[0]))\n",
    "print(\"The shortest distance you've run is \" + str(min_miles[1]) + ' miles ' + 'on ' + str(min_miles[0]))\n",
    "print(\"Your average distance ran is \" + str(avg) + \" miles for \" + str(number_of_runs))\n",
    "print(\"You've gone on \" + str(number_of_runs) + \" runs so far.\")\n",
    "\n",
    "        \n",
    "\n"
   ]
  },
  {
   "cell_type": "markdown",
   "metadata": {
    "ExecuteTime": {
     "end_time": "2020-02-07T04:50:20.164767Z",
     "start_time": "2020-02-07T04:50:20.158768Z"
    }
   },
   "source": [
    "<font size=6 color=green> Q2 100/100</font><div class=\"alert alert-info\"> \n",
    "Comments: \n",
    "1. Well Done\n",
    "2. it would be ideal if use result from Question 1\n",
    "</div>"
   ]
  },
  {
   "cell_type": "code",
   "execution_count": 18,
   "metadata": {
    "ExecuteTime": {
     "start_time": "2020-02-07T04:59:21.571Z"
    }
   },
   "outputs": [
    {
     "name": "stdout",
     "output_type": "stream",
     "text": [
      "Add a color: d\n",
      "d\n",
      "Add a color: d\n",
      "We’re sorry, but you’ve already added the color d\n",
      "Add a color: w\n",
      "d\n",
      "w\n",
      "Add a color: e\n",
      "d\n",
      "e\n",
      "w\n",
      "Add a color: r\n",
      "d\n",
      "e\n",
      "r\n",
      "w\n",
      "Add a color: r\n",
      "We’re sorry, but you’ve already added the color r\n",
      "Add a color: t\n",
      "d\n",
      "e\n",
      "r\n",
      "t\n",
      "w\n",
      "Add a color: d\n",
      "We’re sorry, but you’ve already added the color d\n",
      "Add a color: a\n",
      "a\n",
      "d\n",
      "e\n",
      "r\n",
      "t\n",
      "w\n",
      "Add a color: v\n",
      "a\n",
      "d\n",
      "e\n",
      "r\n",
      "t\n",
      "v\n",
      "w\n",
      "Add a color: c\n",
      "a\n",
      "c\n",
      "d\n",
      "e\n",
      "r\n",
      "t\n",
      "v\n",
      "w\n",
      "Add a color: s\n",
      "a\n",
      "c\n",
      "d\n",
      "e\n",
      "r\n",
      "s\n",
      "t\n",
      "v\n",
      "w\n",
      "Add a color: exit\n"
     ]
    }
   ],
   "source": [
    "#3\n",
    "def listcolors():\n",
    "    colors = {}\n",
    "    while True:\n",
    "        usercolor = input(\"Add a color: \")\n",
    "        usercolorhash = hash(usercolor)\n",
    "        if usercolor == \"exit\":\n",
    "            break\n",
    "            \n",
    "        if usercolorhash in colors:\n",
    "            print(\"We’re sorry, but you’ve already added the color \" + usercolor)\n",
    "            continue\n",
    "        else:\n",
    "            colors[usercolorhash] = usercolor\n",
    "            for key, value in sorted(colors.items(), key=lambda item: item[1]):\n",
    "                print(\"%s\" % (value))\n",
    "\n",
    "            \n",
    "listcolors()"
   ]
  },
  {
   "cell_type": "code",
   "execution_count": null,
   "metadata": {},
   "outputs": [],
   "source": [
    "#3 use dictionary, hash the color as the key\n"
   ]
  },
  {
   "cell_type": "markdown",
   "metadata": {},
   "source": [
    "<font size=6 color=green> Q3 90/100</font><div class=\"alert alert-info\"> \n",
    "Comments: \n",
    "1. Well Done\n",
    "2. Try dictionary. which will be O(1) instead of O(n)\n",
    "</div>"
   ]
  },
  {
   "cell_type": "code",
   "execution_count": null,
   "metadata": {},
   "outputs": [],
   "source": [
    "#4\n",
    "def generate_bingo_letter():\n",
    "    bingo=\"BINGO\"\n",
    "    \n",
    "    rand = random.randint(0,4)        \n",
    "    return bingo[rand]\n",
    "    \n",
    "    #return random.choice(bingo)\n",
    "\n",
    "\n",
    "x = generate_bingo_letter()\n",
    "print(x) "
   ]
  },
  {
   "cell_type": "markdown",
   "metadata": {},
   "source": [
    "<font size=6 color=green> Q4 100/100</font><div class=\"alert alert-info\"> \n",
    "Comments: \n",
    "Well Done \n",
    "</div>"
   ]
  },
  {
   "cell_type": "code",
   "execution_count": 9,
   "metadata": {
    "ExecuteTime": {
     "end_time": "2020-02-07T05:01:04.204059Z",
     "start_time": "2020-02-07T05:01:01.437252Z"
    }
   },
   "outputs": [
    {
     "name": "stdout",
     "output_type": "stream",
     "text": [
      "Invalid literal for Fraction: 'string'\n"
     ]
    },
    {
     "data": {
      "text/plain": [
       "0"
      ]
     },
     "execution_count": 9,
     "metadata": {},
     "output_type": "execute_result"
    }
   ],
   "source": [
    "#5\n",
    "def fraction(fstring):\n",
    "    sum = 0\n",
    "    splitfract=fstring.split()\n",
    "    if len(splitfract) != 1 and len(splitfract) != 2:\n",
    "        print(\"invalid fraction\")\n",
    "        sys.exit()\n",
    "        \n",
    "       \n",
    "    for x in splitfract:\n",
    "        try:\n",
    "            a = Fraction(x)\n",
    "            rounded = round(float(a),3)\n",
    "            sum = sum + rounded\n",
    "        except ValueError as e :\n",
    "            print(e)\n",
    "    return(sum)\n",
    "\n",
    "\n",
    "fraction('74398231 3841234/1324132')\n",
    "fraction('-1/100')\n",
    "fraction('string')"
   ]
  },
  {
   "cell_type": "markdown",
   "metadata": {},
   "source": [
    "<font size=6 color=green> Q5 80/100</font><div class=\"alert alert-info\"> \n",
    "Comments: \n",
    "<br>Solution not functioning. \n",
    "<br>Good thinking process \n",
    "<br>The questions assumes: the input is valid fraction. To validate a fration, you may consider using regular expression\n",
    "</div>"
   ]
  },
  {
   "cell_type": "code",
   "execution_count": null,
   "metadata": {
    "ExecuteTime": {
     "end_time": "2020-02-08T23:46:33.515426Z",
     "start_time": "2020-02-08T23:46:33.507440Z"
    }
   },
   "outputs": [],
   "source": [
    "import re \n",
    "def fraction(fstring): \n",
    "    if re.match(r'^-?\\d+\\s\\d+/\\d+', fstr) or re.match(r'^-?\\d*/\\d+', fstr):\n",
    "\n",
    "        try:\n",
    "            parts=re.split(' |/',fstring.strip())\n",
    "            is_neg=False\n",
    "            num=0\n",
    "            num=int(parts[0].strip())\n",
    "            if num<0:\n",
    "                is_neg=True\n",
    "            if  len(parts)==3:\n",
    "                num=abs(num)+float(int(parts[-2].strip())/int(parts[-1].strip()))\n",
    "            elif len(parts)==2:\n",
    "                num = float(abs(num)/int(parts[-1].strip()))\n",
    "            else:\n",
    "                num=abs(num)\n",
    "            num=-num if is_neg==True else num\n",
    "            print(f'Answer is: {num:.3f}')\n",
    "        except Exception as e:\n",
    "            print('error:',e)\n",
    "    else:\n",
    "        print('improper fraction format.')\n",
    "     "
   ]
  },
  {
   "cell_type": "code",
   "execution_count": null,
   "metadata": {
    "ExecuteTime": {
     "end_time": "2020-02-08T23:46:34.604999Z",
     "start_time": "2020-02-08T23:46:34.596029Z"
    }
   },
   "outputs": [],
   "source": [
    "#6\n",
    "def balance_parens(astring):\n",
    "    thestack = []\n",
    "    index = 0 \n",
    "    while index < len(astring):\n",
    "        lpar = astring[index]\n",
    "        if lpar == \"(\":\n",
    "            thestack.append(lpar)\n",
    "        elif lpar == ')':\n",
    "            if len(thestack) == 0:\n",
    "                return False\n",
    "            else:\n",
    "                thestack.pop()\n",
    "        index = index + 1 \n",
    "    if len(thestack) == 0:\n",
    "        return True\n",
    "    else:\n",
    "        return False\n",
    "\n",
    "\n",
    "balance_parens(\"((( kdkdksadjiajsd))))\")\n",
    "        "
   ]
  },
  {
   "cell_type": "markdown",
   "metadata": {
    "ExecuteTime": {
     "end_time": "2020-02-07T05:36:15.551676Z",
     "start_time": "2020-02-07T05:36:15.544675Z"
    }
   },
   "source": [
    "<font size=6 color=green> Q6 300/300</font><div class=\"alert alert-info\"> \n",
    "Comments: \n",
    "<br>good solution\n",
    "<br>challenge: how about there are other types? such as: [ { ] }?\n",
    "</div>"
   ]
  },
  {
   "cell_type": "code",
   "execution_count": null,
   "metadata": {},
   "outputs": [],
   "source": [
    " "
   ]
  }
 ],
 "metadata": {
  "kernelspec": {
   "display_name": "Python 3",
   "language": "python",
   "name": "python3"
  },
  "language_info": {
   "codemirror_mode": {
    "name": "ipython",
    "version": 3
   },
   "file_extension": ".py",
   "mimetype": "text/x-python",
   "name": "python",
   "nbconvert_exporter": "python",
   "pygments_lexer": "ipython3",
   "version": "3.7.4"
  },
  "toc": {
   "base_numbering": 1,
   "nav_menu": {},
   "number_sections": true,
   "sideBar": true,
   "skip_h1_title": false,
   "title_cell": "Table of Contents",
   "title_sidebar": "Contents",
   "toc_cell": false,
   "toc_position": {
    "height": "calc(100% - 180px)",
    "left": "10px",
    "top": "150px",
    "width": "165px"
   },
   "toc_section_display": true,
   "toc_window_display": true
  }
 },
 "nbformat": 4,
 "nbformat_minor": 2
}
