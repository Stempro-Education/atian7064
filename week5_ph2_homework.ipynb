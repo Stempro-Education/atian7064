{
 "cells": [
  {
   "cell_type": "markdown",
   "metadata": {},
   "source": [
    "<font size=5 color=\"Blue\"><b> Homework for Week 5</b></font><br>\n",
    "<font size=4><b>The excercises in this lecture to have a brief \"try-and-feel\" about python language</b></font><br>\n",
    "<font size=4><b>You may need to ref to the lecture material \"2019-11-17.ppt\" and/or examples in \"Python Lab.ipynb\" for hints</b></font>"
   ]
  },
  {
   "cell_type": "markdown",
   "metadata": {},
   "source": [
    "<font size=5 color=\"green\"><b>Q1: What are the key elements in python (or most other) programming language?</b></font>"
   ]
  },
  {
   "cell_type": "markdown",
   "metadata": {},
   "source": [
    "Write your answer within this cell:\n",
    "\n",
    "\n",
    "Variables: var in JavaScript |\n",
    "Tools: library | \n",
    "Syntax: mylist = [] |\n",
    "Data Structures: arrays and lists |\n",
    "Control Structures: how code flows \n",
    "\n",
    "\n",
    "\n",
    "\n"
   ]
  },
  {
   "cell_type": "markdown",
   "metadata": {},
   "source": [
    "<font size=5 color=\"green\"><b>Q2: How to load the libraries (tools) for a python code? Please try to load a few libraries we have used in the classroom</b></font>"
   ]
  },
  {
   "cell_type": "code",
   "execution_count": 26,
   "metadata": {
    "ExecuteTime": {
     "end_time": "2019-11-19T05:59:01.687535Z",
     "start_time": "2019-11-19T05:59:01.683520Z"
    }
   },
   "outputs": [],
   "source": [
    "## write your anwer within this cell:\n",
    "\n",
    "\n",
    "## use the import command \n",
    "\n",
    "import nltk\n",
    "import re\n",
    "\n"
   ]
  },
  {
   "cell_type": "markdown",
   "metadata": {},
   "source": [
    "<font size=5 color=\"green\"><b>Q3: Print is one of the most fundamental command. Load \"pprint\" library. and then compare \"print\" and \"pprint\" </b></font>"
   ]
  },
  {
   "cell_type": "code",
   "execution_count": 1,
   "metadata": {
    "ExecuteTime": {
     "end_time": "2019-11-19T06:10:17.200358Z",
     "start_time": "2019-11-19T06:10:17.198358Z"
    }
   },
   "outputs": [],
   "source": [
    "# 1. load pprint library in this cell:\n",
    "import pprint"
   ]
  },
  {
   "cell_type": "code",
   "execution_count": 65,
   "metadata": {
    "ExecuteTime": {
     "end_time": "2019-11-19T06:11:13.090215Z",
     "start_time": "2019-11-19T06:11:13.085217Z"
    }
   },
   "outputs": [
    {
     "name": "stdout",
     "output_type": "stream",
     "text": [
      "[(1, {'a': 'A', 'b': 'B', 'c': 'C', 'd': 'D'}), (2, {'e': 'E', 'f': 'F', 'g': 'G', 'h': 'H', 'i': 'I', 'j': 'J', 'k': 'K', 'l': 'L'}), (3, ['m', 'n']), (4, ['o', 'p', 'q']), (5, ['r', 's', 'tu', 'v', 'x', 'y', 'z'])]\n"
     ]
    }
   ],
   "source": [
    "# this is the data to print. you need to run this cell to load this data\n",
    "data = [\n",
    "    (1, {'a': 'A', 'b': 'B', 'c': 'C', 'd': 'D'}),\n",
    "    (2, {'e': 'E', 'f': 'F', 'g': 'G', 'h': 'H',\n",
    "         'i': 'I', 'j': 'J', 'k': 'K', 'l': 'L'}),\n",
    "    (3, ['m', 'n']),\n",
    "    (4, ['o', 'p', 'q']),\n",
    "    (5, ['r', 's', 't''u', 'v', 'x', 'y', 'z']),\n",
    "]"
   ]
  },
  {
   "cell_type": "code",
   "execution_count": 6,
   "metadata": {
    "scrolled": true
   },
   "outputs": [
    {
     "name": "stdout",
     "output_type": "stream",
     "text": [
      "[(1, {'a': 'A', 'b': 'B', 'c': 'C', 'd': 'D'}), (2, {'e': 'E', 'f': 'F', 'g': 'G', 'h': 'H', 'i': 'I', 'j': 'J', 'k': 'K', 'l': 'L'}), (3, ['m', 'n']), (4, ['o', 'p', 'q']), (5, ['r', 's', 'tu', 'v', 'x', 'y', 'z'])]\n"
     ]
    }
   ],
   "source": [
    "# 2. print and pprint \"data\" above within this cell \n",
    "\n",
    "data = [\n",
    "    (1, {'a': 'A', 'b': 'B', 'c': 'C', 'd': 'D'}),\n",
    "    (2, {'e': 'E', 'f': 'F', 'g': 'G', 'h': 'H',\n",
    "         'i': 'I', 'j': 'J', 'k': 'K', 'l': 'L'}),\n",
    "    (3, ['m', 'n']),\n",
    "    (4, ['o', 'p', 'q']),\n",
    "    (5, ['r', 's', 't''u', 'v', 'x', 'y', 'z']),\n",
    "]\n",
    "print(data)"
   ]
  },
  {
   "cell_type": "code",
   "execution_count": 12,
   "metadata": {},
   "outputs": [
    {
     "name": "stdout",
     "output_type": "stream",
     "text": [
      "[(1, {'a': 'A', 'b': 'B', 'c': 'C', 'd': 'D'}),\n",
      " (2,\n",
      "  {'e': 'E',\n",
      "   'f': 'F',\n",
      "   'g': 'G',\n",
      "   'h': 'H',\n",
      "   'i': 'I',\n",
      "   'j': 'J',\n",
      "   'k': 'K',\n",
      "   'l': 'L'}),\n",
      " (3, ['m', 'n']),\n",
      " (4, ['o', 'p', 'q']),\n",
      " (5, ['r', 's', 'tu', 'v', 'x', 'y', 'z'])]\n"
     ]
    }
   ],
   "source": [
    "data = [\n",
    "    (1, {'a': 'A', 'b': 'B', 'c': 'C', 'd': 'D'}),\n",
    "    (2, {'e': 'E', 'f': 'F', 'g': 'G', 'h': 'H',\n",
    "         'i': 'I', 'j': 'J', 'k': 'K', 'l': 'L'}),\n",
    "    (3, ['m', 'n']),\n",
    "    (4, ['o', 'p', 'q']),\n",
    "    (5, ['r', 's', 't''u', 'v', 'x', 'y', 'z']),\n",
    "]\n",
    "pprint.pprint(data)\n",
    "\n",
    "##\"data\" is a list. This list contains 5 tuples. Each tuple has a name-value pair."
   ]
  },
  {
   "cell_type": "markdown",
   "metadata": {
    "ExecuteTime": {
     "end_time": "2019-11-19T06:08:15.781043Z",
     "start_time": "2019-11-19T06:08:15.775042Z"
    }
   },
   "source": [
    "<font color=\"red\" size=3><b>3. Advanced: Can you tell what data type(s) is this \"data\" variable? This is not related to pprint. </b></font><br> \n",
    "Explain in the cell below: This \"data\" variable is a list because it uses brackets to declare the variable. This list contains 5 tuples. Each tuple has a name-value pair."
   ]
  },
  {
   "cell_type": "markdown",
   "metadata": {
    "ExecuteTime": {
     "end_time": "2019-11-17T07:47:32.442559Z",
     "start_time": "2019-11-17T07:47:24.800914Z"
    }
   },
   "source": [
    "<font size=5 color=\"green\"><b>Q4: Practice input </b></font><br>\n",
    "1. Use input (i.e. input(\"enter a number\") ) to get the answer for 845+982<br>\n",
    "(ref to Section 2 in \"Python Lab\".ipynb)"
   ]
  },
  {
   "cell_type": "code",
   "execution_count": 4,
   "metadata": {
    "ExecuteTime": {
     "end_time": "2019-11-19T06:40:48.274722Z",
     "start_time": "2019-11-19T06:40:48.271760Z"
    }
   },
   "outputs": [
    {
     "name": "stdout",
     "output_type": "stream",
     "text": [
      "Enter first number845\n",
      "Enter second number982\n",
      "Addition of two number is:  1827\n"
     ]
    }
   ],
   "source": [
    "# write your answer below: \n",
    "##import os \n",
    "##import json\n",
    "\n",
    "first_number = int ( input (\"Enter first number\") )\n",
    "second_number = int ( input (\"Enter second number\") )\n",
    "\n",
    "sum = first_number + second_number\n",
    "\n",
    "print(\"Addition of two number is: \", sum)"
   ]
  },
  {
   "cell_type": "markdown",
   "metadata": {},
   "source": [
    "2. Use input (i.e. input(\"enter a number\") ) to get the answer for 3.9+3.14156<br>\n",
    "(ref to Section 4 in \"Python Lab\".ipynb)<br>\n",
    "The answer should have only two decimals"
   ]
  },
  {
   "cell_type": "code",
   "execution_count": 7,
   "metadata": {},
   "outputs": [
    {
     "name": "stdout",
     "output_type": "stream",
     "text": [
      "Enter first number44\n",
      "Enter second number44\n",
      "The sum of the two numbers is 88.00\n"
     ]
    }
   ],
   "source": [
    "\n",
    "##import os \n",
    "##import json\n",
    "\n",
    "first_number = float ( input (\"Enter first number\") )\n",
    "second_number = float ( input (\"Enter second number\") )\n",
    "\n",
    "sum = first_number + second_number\n",
    "\n",
    "print(\"The sum of the two numbers is {:.2f}\".format(sum))\n"
   ]
  },
  {
   "cell_type": "markdown",
   "metadata": {},
   "source": [
    "<font color=\"red\" size=3><b>3. Advanced: explain what does the following block of code do</b></font><br>  "
   ]
  },
  {
   "cell_type": "code",
   "execution_count": 10,
   "metadata": {
    "ExecuteTime": {
     "end_time": "2019-11-19T06:40:54.450610Z",
     "start_time": "2019-11-19T06:40:54.446645Z"
    }
   },
   "outputs": [],
   "source": [
    "\n",
    "def inputNumber(message):\n",
    "  while 1==1:\n",
    "    try:\n",
    "       userInput = int(input(message))       \n",
    "    except ValueError:\n",
    "       print(\"Not an integer! Try again.\")\n",
    "       continue\n",
    "    else:\n",
    "       return userInput \n",
    "       break  \n",
    "    "
   ]
  },
  {
   "cell_type": "markdown",
   "metadata": {},
   "source": [
    "The block of code will print out an error message if the input is not an integer and ask you to try again. Otherwise, the code will return the number you entered and exit the while loop. So this code will get a valid integer input.\n"
   ]
  },
  {
   "cell_type": "markdown",
   "metadata": {
    "ExecuteTime": {
     "end_time": "2019-11-17T08:14:01.974911Z",
     "start_time": "2019-11-17T08:13:58.364912Z"
    }
   },
   "source": [
    "4. the following two lines may and maynot work. why? "
   ]
  },
  {
   "cell_type": "code",
   "execution_count": 11,
   "metadata": {
    "ExecuteTime": {
     "end_time": "2019-11-19T06:42:03.065208Z",
     "start_time": "2019-11-19T06:42:03.055202Z"
    },
    "scrolled": false
   },
   "outputs": [
    {
     "ename": "NameError",
     "evalue": "name 'getpass' is not defined",
     "output_type": "error",
     "traceback": [
      "\u001b[1;31m---------------------------------------------------------------------------\u001b[0m",
      "\u001b[1;31mNameError\u001b[0m                                 Traceback (most recent call last)",
      "\u001b[1;32m<ipython-input-11-c424062ebd66>\u001b[0m in \u001b[0;36m<module>\u001b[1;34m\u001b[0m\n\u001b[1;32m----> 1\u001b[1;33m \u001b[0muser\u001b[0m \u001b[1;33m=\u001b[0m \u001b[0mgetpass\u001b[0m\u001b[1;33m.\u001b[0m\u001b[0mgetuser\u001b[0m\u001b[1;33m(\u001b[0m\u001b[1;33m)\u001b[0m\u001b[1;33m\u001b[0m\u001b[1;33m\u001b[0m\u001b[0m\n\u001b[0m\u001b[0;32m      2\u001b[0m \u001b[0mpw\u001b[0m\u001b[1;33m=\u001b[0m\u001b[0mgetpass\u001b[0m\u001b[1;33m.\u001b[0m\u001b[0mgetpass\u001b[0m\u001b[1;33m(\u001b[0m\u001b[1;33m)\u001b[0m\u001b[1;33m\u001b[0m\u001b[1;33m\u001b[0m\u001b[0m\n",
      "\u001b[1;31mNameError\u001b[0m: name 'getpass' is not defined"
     ]
    }
   ],
   "source": [
    "user = getpass.getuser() \n",
    "pw=getpass.getpass() "
   ]
  },
  {
   "cell_type": "markdown",
   "metadata": {},
   "source": [
    "#explain your answer here: \n",
    "\n",
    "The reason why this may or may not work is because you must import the getpass libary in order for this to work. Without importing the libary, you will get a NameError. \n"
   ]
  },
  {
   "cell_type": "markdown",
   "metadata": {},
   "source": [
    "<font size=5 color=\"green\"><b>Q5: string operation and function </b></font><br>\n",
    "<b>1. Arranging characters: for inputStr, put all numbers in the front, lower case letters in the middle and upper case letters and others at the end. </b>"
   ]
  },
  {
   "cell_type": "code",
   "execution_count": null,
   "metadata": {
    "ExecuteTime": {
     "end_time": "2019-11-19T06:50:05.097338Z",
     "start_time": "2019-11-19T06:50:05.094338Z"
    }
   },
   "outputs": [],
   "source": [
    "inputStr = \"Python is a popular programming language. It was created by Guido van Rossum, and released in 1991\""
   ]
  },
  {
   "cell_type": "code",
   "execution_count": 18,
   "metadata": {},
   "outputs": [
    {
     "name": "stdout",
     "output_type": "stream",
     "text": [
      "1991ythonisapopularprogramminglanguagetwascreatedbyuidovanossumandreleasedinP     . I    G  R,    \n"
     ]
    }
   ],
   "source": [
    "#write your answer here:\n",
    "inputStr = \"Python is a popular programming language. It was created by Guido van Rossum, and released in 1991\"\n",
    "front = []\n",
    "middle = []\n",
    "end = []\n",
    "\n",
    "for char in inputStr:\n",
    "    if char.isdigit():\n",
    "        front.append(char)\n",
    "    elif char.islower():\n",
    "        middle.append(char)\n",
    "    else:\n",
    "        end.append(char)\n",
    "        \n",
    "sortedString = ''.join(front + middle + end)\n",
    "\n",
    "print(sortedString)\n",
    "\n",
    "\n",
    "\n",
    "\n",
    "\n"
   ]
  },
  {
   "cell_type": "markdown",
   "metadata": {
    "ExecuteTime": {
     "end_time": "2019-11-19T07:02:49.055518Z",
     "start_time": "2019-11-19T07:02:49.050519Z"
    }
   },
   "source": [
    "<b>2. Explain the following block of code. Run the code  </b>"
   ]
  },
  {
   "cell_type": "code",
   "execution_count": 16,
   "metadata": {
    "ExecuteTime": {
     "end_time": "2019-11-19T06:57:31.729434Z",
     "start_time": "2019-11-19T06:57:31.725414Z"
    }
   },
   "outputs": [
    {
     "name": "stdout",
     "output_type": "stream",
     "text": [
      "Total Marks is: 14.7 Percentage is  3.675\n"
     ]
    }
   ],
   "source": [
    "import re\n",
    "myReportCard = \"Physics: 4.0, English:3.3, Chinese: 3.9, Precalculus: 3.5 what is my averge gpa?\"\n",
    "scoreList = [float(num) for num in re.findall(r'-?\\d+\\.?\\d*', myReportCard)] \n",
    "total = 0.0\n",
    "for scroe in scoreList:\n",
    "    total+=scroe\n",
    "\n",
    "percentage = total/len(scoreList)  \n",
    "print(\"Total Marks is:\", total, \"Percentage is \", percentage) "
   ]
  },
  {
   "cell_type": "markdown",
   "metadata": {},
   "source": [
    "This code calculates the average gpa for all classes. The \"Total Marks\" repesents the amount of gpa points you have in total, and the \"percentage\" is the \"Total Marks\" valve divided by the amount of classes.\n",
    "\n",
    "\n",
    "\n"
   ]
  },
  {
   "cell_type": "markdown",
   "metadata": {},
   "source": [
    "<font color=\"red\" size=3><b>Advanced: 3. write a function that will do the same as above block of code </b></font><br>  "
   ]
  },
  {
   "cell_type": "code",
   "execution_count": 52,
   "metadata": {
    "ExecuteTime": {
     "end_time": "2019-11-19T07:01:41.525900Z",
     "start_time": "2019-11-19T07:01:41.521930Z"
    }
   },
   "outputs": [
    {
     "name": "stdout",
     "output_type": "stream",
     "text": [
      "('Total Marks is:', 14.7, 'Percentage is', 3.675)\n"
     ]
    }
   ],
   "source": [
    "import re\n",
    "\n",
    "def get_gpa(student_reportcard):\n",
    "    scoreList = [float(num) for num in re.findall(r'-?\\d+\\.?\\d*', student_reportcard)] \n",
    "    \n",
    "    total = 0.0\n",
    "    for score in scoreList:\n",
    "        total+=score\n",
    "\n",
    "    percentage = total/len(scoreList)  \n",
    "    msg = 'Total Marks is:', total, 'Percentage is' , percentage\n",
    "    print(msg)\n",
    "    \n",
    "my_reportCard=\"Peter --Physics: 4.0, English:3.3, Chinese: 3.9, Precalculus: 3.5\"\n",
    "get_gpa(my_reportCard)"
   ]
  }
 ],
 "metadata": {
  "kernelspec": {
   "display_name": "Python 3",
   "language": "python",
   "name": "python3"
  },
  "language_info": {
   "codemirror_mode": {
    "name": "ipython",
    "version": 3
   },
   "file_extension": ".py",
   "mimetype": "text/x-python",
   "name": "python",
   "nbconvert_exporter": "python",
   "pygments_lexer": "ipython3",
   "version": "3.7.4"
  },
  "toc": {
   "base_numbering": 1,
   "nav_menu": {},
   "number_sections": true,
   "sideBar": true,
   "skip_h1_title": false,
   "title_cell": "Table of Contents",
   "title_sidebar": "Contents",
   "toc_cell": false,
   "toc_position": {},
   "toc_section_display": true,
   "toc_window_display": true
  }
 },
 "nbformat": 4,
 "nbformat_minor": 2
}
