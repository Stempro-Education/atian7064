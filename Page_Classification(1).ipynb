{
 "cells": [
  {
   "cell_type": "code",
   "execution_count": 24,
   "metadata": {
    "ExecuteTime": {
     "end_time": "2020-02-21T03:27:33.635124Z",
     "start_time": "2020-02-21T03:27:33.631124Z"
    }
   },
   "outputs": [],
   "source": [
    "import pandas as pd\n",
    "from os import listdir, path\n",
    "import re\n",
    "from collections import Counter\n",
    "import collections\n",
    "import string\n",
    "from nltk.stem import WordNetLemmatizer "
   ]
  },
  {
   "cell_type": "markdown",
   "metadata": {},
   "source": [
    "# Files: three"
   ]
  },
  {
   "cell_type": "code",
   "execution_count": 12,
   "metadata": {
    "ExecuteTime": {
     "end_time": "2020-02-21T03:00:23.471682Z",
     "start_time": "2020-02-21T03:00:23.465690Z"
    }
   },
   "outputs": [
    {
     "data": {
      "text/plain": [
       "[('C:\\\\\\\\Users\\\\Kentt\\\\\\\\stempro\\\\\\\\hw\\\\\\\\y2020feb16\\\\\\\\learning_data\\\\\\\\result\\\\learning_data_info.csv',\n",
       "  'learning_data_info.csv'),\n",
       " ('C:\\\\\\\\Users\\\\Kentt\\\\\\\\stempro\\\\\\\\hw\\\\\\\\y2020feb16\\\\\\\\learning_data\\\\\\\\result\\\\learning_data_sum.csv',\n",
       "  'learning_data_sum.csv'),\n",
       " ('C:\\\\\\\\Users\\\\Kentt\\\\\\\\stempro\\\\\\\\hw\\\\\\\\y2020feb16\\\\\\\\learning_data\\\\\\\\result\\\\learning_url_sum.csv',\n",
       "  'learning_url_sum.csv')]"
      ]
     },
     "execution_count": 12,
     "metadata": {},
     "output_type": "execute_result"
    }
   ],
   "source": [
    "folder=r'C:\\\\Users\\Kentt\\\\stempro\\\\hw\\\\y2020feb16\\\\learning_data\\\\result'\n",
    "files=[(path.join(folder, f), f) for f in listdir(folder) if re.match(r'.+.csv$', f)]\n",
    "files"
   ]
  },
  {
   "cell_type": "markdown",
   "metadata": {},
   "source": [
    "# peek at these files"
   ]
  },
  {
   "cell_type": "code",
   "execution_count": 21,
   "metadata": {
    "ExecuteTime": {
     "end_time": "2020-02-21T06:24:07.796143Z",
     "start_time": "2020-02-21T06:24:05.456104Z"
    }
   },
   "outputs": [
    {
     "data": {
      "text/html": [
       "<div>\n",
       "<style scoped>\n",
       "    .dataframe tbody tr th:only-of-type {\n",
       "        vertical-align: middle;\n",
       "    }\n",
       "\n",
       "    .dataframe tbody tr th {\n",
       "        vertical-align: top;\n",
       "    }\n",
       "\n",
       "    .dataframe thead th {\n",
       "        text-align: right;\n",
       "    }\n",
       "</style>\n",
       "<table border=\"1\" class=\"dataframe\">\n",
       "  <thead>\n",
       "    <tr style=\"text-align: right;\">\n",
       "      <th></th>\n",
       "      <th>id_url</th>\n",
       "      <th>url</th>\n",
       "      <th>entries</th>\n",
       "      <th>textlen</th>\n",
       "      <th>id_college</th>\n",
       "      <th>words</th>\n",
       "    </tr>\n",
       "  </thead>\n",
       "  <tbody>\n",
       "    <tr>\n",
       "      <td>0</td>\n",
       "      <td>0</td>\n",
       "      <td>http://admissionblog.agnesscott.org/category/d...</td>\n",
       "      <td>56</td>\n",
       "      <td>1351</td>\n",
       "      <td>100000</td>\n",
       "      <td>[http, admissionblog, agnesscott, org, categor...</td>\n",
       "    </tr>\n",
       "    <tr>\n",
       "      <td>1</td>\n",
       "      <td>1</td>\n",
       "      <td>http://admissionblog.agnesscott.org/category/j...</td>\n",
       "      <td>60</td>\n",
       "      <td>1612</td>\n",
       "      <td>100000</td>\n",
       "      <td>[http, admissionblog, agnesscott, org, categor...</td>\n",
       "    </tr>\n",
       "    <tr>\n",
       "      <td>2</td>\n",
       "      <td>2</td>\n",
       "      <td>http://agnesscott.edu/admission/high-school-st...</td>\n",
       "      <td>207</td>\n",
       "      <td>5198</td>\n",
       "      <td>100000</td>\n",
       "      <td>[http, agnesscott, edu, admission, high, schoo...</td>\n",
       "    </tr>\n",
       "    <tr>\n",
       "      <td>3</td>\n",
       "      <td>3</td>\n",
       "      <td>http://agnesscott.edu/admission/index.html</td>\n",
       "      <td>283</td>\n",
       "      <td>8918</td>\n",
       "      <td>100000</td>\n",
       "      <td>[http, agnesscott, edu, admission, index, html]</td>\n",
       "    </tr>\n",
       "    <tr>\n",
       "      <td>4</td>\n",
       "      <td>4</td>\n",
       "      <td>http://agnesscott.edu/visit</td>\n",
       "      <td>212</td>\n",
       "      <td>7908</td>\n",
       "      <td>100000</td>\n",
       "      <td>[http, agnesscott, edu, visit]</td>\n",
       "    </tr>\n",
       "    <tr>\n",
       "      <td>...</td>\n",
       "      <td>...</td>\n",
       "      <td>...</td>\n",
       "      <td>...</td>\n",
       "      <td>...</td>\n",
       "      <td>...</td>\n",
       "      <td>...</td>\n",
       "    </tr>\n",
       "    <tr>\n",
       "      <td>67780</td>\n",
       "      <td>296</td>\n",
       "      <td>https://www.benedict.edu/rotc</td>\n",
       "      <td>105</td>\n",
       "      <td>2664</td>\n",
       "      <td>100146</td>\n",
       "      <td>[https, www, benedict, edu, rotc]</td>\n",
       "    </tr>\n",
       "    <tr>\n",
       "      <td>67781</td>\n",
       "      <td>297</td>\n",
       "      <td>https://www.benedict.edu/scholarships</td>\n",
       "      <td>128</td>\n",
       "      <td>2977</td>\n",
       "      <td>100146</td>\n",
       "      <td>[https, www, benedict, edu, scholarships]</td>\n",
       "    </tr>\n",
       "    <tr>\n",
       "      <td>67782</td>\n",
       "      <td>298</td>\n",
       "      <td>https://www.benedict.edu/student-accounts</td>\n",
       "      <td>149</td>\n",
       "      <td>3927</td>\n",
       "      <td>100146</td>\n",
       "      <td>[https, www, benedict, edu, student, accounts]</td>\n",
       "    </tr>\n",
       "    <tr>\n",
       "      <td>67783</td>\n",
       "      <td>299</td>\n",
       "      <td>https://www.benedict.edu/tuition-and-fees</td>\n",
       "      <td>144</td>\n",
       "      <td>2638</td>\n",
       "      <td>100146</td>\n",
       "      <td>[https, www, benedict, edu, tuition, and, fees]</td>\n",
       "    </tr>\n",
       "    <tr>\n",
       "      <td>67784</td>\n",
       "      <td>300</td>\n",
       "      <td>https://www.benedict.edu/why-wait</td>\n",
       "      <td>121</td>\n",
       "      <td>2396</td>\n",
       "      <td>100146</td>\n",
       "      <td>[https, www, benedict, edu, why, wait]</td>\n",
       "    </tr>\n",
       "  </tbody>\n",
       "</table>\n",
       "<p>67785 rows × 6 columns</p>\n",
       "</div>"
      ],
      "text/plain": [
       "       id_url                                                url  entries  \\\n",
       "0           0  http://admissionblog.agnesscott.org/category/d...       56   \n",
       "1           1  http://admissionblog.agnesscott.org/category/j...       60   \n",
       "2           2  http://agnesscott.edu/admission/high-school-st...      207   \n",
       "3           3         http://agnesscott.edu/admission/index.html      283   \n",
       "4           4                        http://agnesscott.edu/visit      212   \n",
       "...       ...                                                ...      ...   \n",
       "67780     296                      https://www.benedict.edu/rotc      105   \n",
       "67781     297              https://www.benedict.edu/scholarships      128   \n",
       "67782     298          https://www.benedict.edu/student-accounts      149   \n",
       "67783     299          https://www.benedict.edu/tuition-and-fees      144   \n",
       "67784     300                  https://www.benedict.edu/why-wait      121   \n",
       "\n",
       "       textlen  id_college                                              words  \n",
       "0         1351      100000  [http, admissionblog, agnesscott, org, categor...  \n",
       "1         1612      100000  [http, admissionblog, agnesscott, org, categor...  \n",
       "2         5198      100000  [http, agnesscott, edu, admission, high, schoo...  \n",
       "3         8918      100000    [http, agnesscott, edu, admission, index, html]  \n",
       "4         7908      100000                     [http, agnesscott, edu, visit]  \n",
       "...        ...         ...                                                ...  \n",
       "67780     2664      100146                  [https, www, benedict, edu, rotc]  \n",
       "67781     2977      100146          [https, www, benedict, edu, scholarships]  \n",
       "67782     3927      100146     [https, www, benedict, edu, student, accounts]  \n",
       "67783     2638      100146    [https, www, benedict, edu, tuition, and, fees]  \n",
       "67784     2396      100146             [https, www, benedict, edu, why, wait]  \n",
       "\n",
       "[67785 rows x 6 columns]"
      ]
     },
     "execution_count": 21,
     "metadata": {},
     "output_type": "execute_result"
    }
   ],
   "source": [
    "df_info=pd.read_csv(files[0][0], nrows=12, sep='\\t')\n",
    "df_datasum=pd.read_csv(files[1][0], nrows=111, sep='\\t') \n",
    "#df_urlsum=pd.read_csv(files[2][0], nrows=1211, sep='\\t', dtype={'entries':int, 'textlen':int}) \n",
    "df_urlsum=pd.read_csv(files[2][0], sep='\\t', dtype={'entries':int, 'textlen':int}) \n",
    "\n",
    "specials = string.punctuation\n",
    "spaces = \" \"*len(specials)\n",
    "trantab = str.maketrans(specials, spaces)\n",
    "#df_urlsum['words']=df_urlsum['url'].apply(lambda x:re.split(r'[/|.|:|\\-|_|?|=|\\#|&|%|,)|{|}|*|!|+]', x.strip().lower()))\n",
    "df_urlsum['words']=df_urlsum['url'].apply(lambda x:x.lower().translate(trantab).split())\n",
    "df_urlsum"
   ]
  },
  {
   "cell_type": "code",
   "execution_count": null,
   "metadata": {
    "ExecuteTime": {
     "end_time": "2020-02-21T06:24:11.973796Z",
     "start_time": "2020-02-21T06:24:11.959832Z"
    }
   },
   "outputs": [],
   "source": [
    " "
   ]
  },
  {
   "cell_type": "markdown",
   "metadata": {},
   "source": [
    "# url aggregation"
   ]
  },
  {
   "cell_type": "code",
   "execution_count": null,
   "metadata": {
    "ExecuteTime": {
     "end_time": "2020-02-21T06:16:27.758018Z",
     "start_time": "2020-02-21T06:16:27.753021Z"
    }
   },
   "outputs": [],
   "source": [
    " "
   ]
  },
  {
   "cell_type": "code",
   "execution_count": 25,
   "metadata": {
    "ExecuteTime": {
     "end_time": "2020-02-21T06:24:25.746983Z",
     "start_time": "2020-02-21T06:24:21.999948Z"
    }
   },
   "outputs": [],
   "source": [
    "common_words=['index', 'com', 'edu', 'www','http', 'https', 'org', 'html', 'htm', 'php', 'pdf']\n",
    "lm = WordNetLemmatizer() \n",
    "all_words =[item for sublist in \n",
    "            list(df_urlsum['words']) for item in sublist \n",
    "            if (len(item)>1) \n",
    "            & (item.strip() not in common_words) \n",
    "            & (item.isdigit()==False) ]\n",
    "all_words=[word.strip() for word in all_words if (word[0].isdigit()==False) & (word[-1].isdigit()==False)]\n",
    "all_words = list(map(lambda item: lm.lemmatize(item), all_words))\n",
    "\n",
    "d = Counter(all_words)  \n",
    "\n",
    "d_value = sorted(d.items(), key=lambda x: x[1], reverse=True)  \n",
    "d_value={i[0]:i[1] for i in d_value}\n",
    "df_d_value= pd.DataFrame({'word':[k for k in d_value], 'fre':[k for _, k in d_value.items()]})\n",
    "\n",
    "d_key=collections.OrderedDict(sorted(d.items()))\n",
    "df_dic_d_key=pd.DataFrame({'word':[k for k in d_key], 'fre':[k for _, k in d_key.items()]})\n",
    " "
   ]
  },
  {
   "cell_type": "code",
   "execution_count": null,
   "metadata": {
    "ExecuteTime": {
     "end_time": "2020-02-21T06:24:28.980327Z",
     "start_time": "2020-02-21T06:24:28.977326Z"
    }
   },
   "outputs": [],
   "source": [
    " "
   ]
  },
  {
   "cell_type": "code",
   "execution_count": null,
   "metadata": {},
   "outputs": [],
   "source": []
  },
  {
   "cell_type": "markdown",
   "metadata": {
    "ExecuteTime": {
     "end_time": "2020-02-21T03:46:52.638483Z",
     "start_time": "2020-02-21T03:46:51.805442Z"
    }
   },
   "source": [
    "# to csv for convenience"
   ]
  },
  {
   "cell_type": "code",
   "execution_count": 27,
   "metadata": {
    "ExecuteTime": {
     "end_time": "2020-02-21T06:24:35.285353Z",
     "start_time": "2020-02-21T06:24:35.014288Z"
    }
   },
   "outputs": [
    {
     "data": {
      "text/html": [
       "<div>\n",
       "<style scoped>\n",
       "    .dataframe tbody tr th:only-of-type {\n",
       "        vertical-align: middle;\n",
       "    }\n",
       "\n",
       "    .dataframe tbody tr th {\n",
       "        vertical-align: top;\n",
       "    }\n",
       "\n",
       "    .dataframe thead th {\n",
       "        text-align: right;\n",
       "    }\n",
       "</style>\n",
       "<table border=\"1\" class=\"dataframe\">\n",
       "  <thead>\n",
       "    <tr style=\"text-align: right;\">\n",
       "      <th></th>\n",
       "      <th>word</th>\n",
       "      <th>fre</th>\n",
       "    </tr>\n",
       "  </thead>\n",
       "  <tbody>\n",
       "    <tr>\n",
       "      <td>0</td>\n",
       "      <td>admission</td>\n",
       "      <td>14091</td>\n",
       "    </tr>\n",
       "    <tr>\n",
       "      <td>1</td>\n",
       "      <td>event</td>\n",
       "      <td>5335</td>\n",
       "    </tr>\n",
       "    <tr>\n",
       "      <td>2</td>\n",
       "      <td>artinstitutes</td>\n",
       "      <td>5076</td>\n",
       "    </tr>\n",
       "    <tr>\n",
       "      <td>3</td>\n",
       "      <td>academic</td>\n",
       "      <td>3719</td>\n",
       "    </tr>\n",
       "    <tr>\n",
       "      <td>4</td>\n",
       "      <td>student</td>\n",
       "      <td>3686</td>\n",
       "    </tr>\n",
       "    <tr>\n",
       "      <td>...</td>\n",
       "      <td>...</td>\n",
       "      <td>...</td>\n",
       "    </tr>\n",
       "    <tr>\n",
       "      <td>11945</td>\n",
       "      <td>waive</td>\n",
       "      <td>1</td>\n",
       "    </tr>\n",
       "    <tr>\n",
       "      <td>11946</td>\n",
       "      <td>logistics</td>\n",
       "      <td>1</td>\n",
       "    </tr>\n",
       "    <tr>\n",
       "      <td>11947</td>\n",
       "      <td>cdei</td>\n",
       "      <td>1</td>\n",
       "    </tr>\n",
       "    <tr>\n",
       "      <td>11948</td>\n",
       "      <td>svclearning</td>\n",
       "      <td>1</td>\n",
       "    </tr>\n",
       "    <tr>\n",
       "      <td>11949</td>\n",
       "      <td>pascal</td>\n",
       "      <td>1</td>\n",
       "    </tr>\n",
       "  </tbody>\n",
       "</table>\n",
       "<p>11950 rows × 2 columns</p>\n",
       "</div>"
      ],
      "text/plain": [
       "                word    fre\n",
       "0          admission  14091\n",
       "1              event   5335\n",
       "2      artinstitutes   5076\n",
       "3           academic   3719\n",
       "4            student   3686\n",
       "...              ...    ...\n",
       "11945          waive      1\n",
       "11946      logistics      1\n",
       "11947           cdei      1\n",
       "11948    svclearning      1\n",
       "11949         pascal      1\n",
       "\n",
       "[11950 rows x 2 columns]"
      ]
     },
     "execution_count": 27,
     "metadata": {},
     "output_type": "execute_result"
    }
   ],
   "source": [
    "csv_freq_file=r'C:\\\\Users\\Kentt\\\\stempro\\\\hw\\\\y2020feb16\\\\learning_data\\\\result\\\\df_d_value.csv'\n",
    "csv_word_file=r'C:\\\\Users\\Kentt\\\\stempro\\\\hw\\\\y2020feb16\\\\learning_data\\\\result\\\\df_d_key.csv'\n",
    "df_dic_d_key.to_csv(csv_word_file, index=False)\n",
    "df_d_value.to_csv(csv_freq_file, index=False)\n",
    "df_d_value"
   ]
  },
  {
   "cell_type": "code",
   "execution_count": null,
   "metadata": {},
   "outputs": [],
   "source": []
  }
 ],
 "metadata": {
  "kernelspec": {
   "display_name": "Python 3",
   "language": "python",
   "name": "python3"
  },
  "language_info": {
   "codemirror_mode": {
    "name": "ipython",
    "version": 3
   },
   "file_extension": ".py",
   "mimetype": "text/x-python",
   "name": "python",
   "nbconvert_exporter": "python",
   "pygments_lexer": "ipython3",
   "version": "3.7.4"
  },
  "toc": {
   "base_numbering": 1,
   "nav_menu": {},
   "number_sections": true,
   "sideBar": true,
   "skip_h1_title": false,
   "title_cell": "Table of Contents",
   "title_sidebar": "Contents",
   "toc_cell": false,
   "toc_position": {
    "height": "calc(100% - 180px)",
    "left": "10px",
    "top": "150px",
    "width": "165px"
   },
   "toc_section_display": true,
   "toc_window_display": false
  }
 },
 "nbformat": 4,
 "nbformat_minor": 2
}
